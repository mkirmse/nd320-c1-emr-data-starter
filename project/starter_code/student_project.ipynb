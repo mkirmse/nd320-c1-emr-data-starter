{
 "cells": [
  {
   "cell_type": "markdown",
   "metadata": {},
   "source": [
    "# Overview"
   ]
  },
  {
   "cell_type": "markdown",
   "metadata": {},
   "source": [
    "1. Project Instructions & Prerequisites\n",
    "2. Learning Objectives\n",
    "3. Data Preparation\n",
    "4. Create Categorical Features with TF Feature Columns\n",
    "5. Create Continuous/Numerical Features with TF Feature Columns\n",
    "6. Build Deep Learning Regression Model with Sequential API and TF Probability Layers\n",
    "7. Evaluating Potential Model Biases with Aequitas Toolkit\n"
   ]
  },
  {
   "cell_type": "markdown",
   "metadata": {},
   "source": [
    "#  1. Project Instructions & Prerequisites"
   ]
  },
  {
   "cell_type": "markdown",
   "metadata": {},
   "source": [
    "## Project Instructions"
   ]
  },
  {
   "cell_type": "markdown",
   "metadata": {},
   "source": [
    "**Context**: EHR data is becoming a key source of real-world evidence (RWE) for the pharmaceutical industry and regulators to [make decisions on clinical trials](https://www.fda.gov/news-events/speeches-fda-officials/breaking-down-barriers-between-clinical-trials-and-clinical-care-incorporating-real-world-evidence). You are a data scientist for an exciting unicorn healthcare startup that has created a groundbreaking diabetes drug that is ready for clinical trial testing. It is a very unique and sensitive drug that requires administering the drug over at least 5-7 days of time in the hospital with frequent monitoring/testing and patient medication adherence training with a mobile application. You have been provided a patient dataset from a client partner and are tasked with building a predictive model that can identify which type of patients the company should focus their efforts testing this drug on. Target patients are people that are likely to be in the hospital for this duration of time and will not incur significant additional costs for administering this drug to the patient and monitoring.  \n",
    "\n",
    "In order to achieve your goal you must build a regression model that can predict the estimated hospitalization time for a patient and use this to select/filter patients for your study.\n"
   ]
  },
  {
   "cell_type": "markdown",
   "metadata": {},
   "source": [
    "**Expected Hospitalization Time Regression Model:** Utilizing a synthetic dataset(denormalized at the line level augmentation) built off of the UCI Diabetes readmission dataset, students will build a regression model that predicts the expected days of hospitalization time and then convert this to a binary prediction of whether to include or exclude that patient from the clinical trial.\n",
    "\n",
    "This project will demonstrate the importance of building the right data representation at the encounter level, with appropriate filtering and preprocessing/feature engineering of key medical code sets. This project will also require students to analyze and interpret their model for biases across key demographic groups. \n",
    "\n",
    "Please see the project rubric online for more details on the areas your project will be evaluated."
   ]
  },
  {
   "cell_type": "markdown",
   "metadata": {},
   "source": [
    "### Dataset"
   ]
  },
  {
   "cell_type": "markdown",
   "metadata": {},
   "source": [
    "Due to healthcare PHI regulations (HIPAA, HITECH), there are limited number of publicly available datasets and some datasets require training and approval. So, for the purpose of this exercise, we are using a dataset from UC Irvine(https://archive.ics.uci.edu/ml/datasets/Diabetes+130-US+hospitals+for+years+1999-2008) that has been modified for this course. Please note that it is limited in its representation of some key features such as diagnosis codes which are usually an unordered list in 835s/837s (the HL7 standard interchange formats used for claims and remits)."
   ]
  },
  {
   "cell_type": "markdown",
   "metadata": {},
   "source": [
    "**Data Schema**\n",
    "The dataset reference information can be https://github.com/udacity/nd320-c1-emr-data-starter/blob/master/project/data_schema_references/\n",
    ". There are two CSVs that provide more details on the fields and some of the mapped values."
   ]
  },
  {
   "cell_type": "markdown",
   "metadata": {},
   "source": [
    "## Project Submission "
   ]
  },
  {
   "cell_type": "markdown",
   "metadata": {},
   "source": [
    "When submitting this project, make sure to run all the cells before saving the notebook. Save the notebook file as \"student_project_submission.ipynb\" and save another copy as an HTML file by clicking \"File\" -> \"Download as..\"->\"html\". Include the \"utils.py\" and \"student_utils.py\" files in your submission. The student_utils.py should be where you put most of your code that you write and the summary and text explanations should be written inline in the notebook. Once you download these files, compress them into one zip file for submission."
   ]
  },
  {
   "cell_type": "markdown",
   "metadata": {},
   "source": [
    "## Prerequisites "
   ]
  },
  {
   "cell_type": "markdown",
   "metadata": {},
   "source": [
    "- Intermediate level knowledge of Python\n",
    "- Basic knowledge of probability and statistics\n",
    "- Basic knowledge of machine learning concepts\n",
    "- Installation of Tensorflow 2.0 and other dependencies(conda environment.yml or virtualenv requirements.txt file provided)"
   ]
  },
  {
   "cell_type": "markdown",
   "metadata": {},
   "source": [
    "## Environment Setup"
   ]
  },
  {
   "cell_type": "markdown",
   "metadata": {},
   "source": [
    "For step by step instructions on creating your environment, please go to https://github.com/udacity/nd320-c1-emr-data-starter/blob/master/project/README.md."
   ]
  },
  {
   "cell_type": "markdown",
   "metadata": {},
   "source": [
    "# 2.  Learning Objectives"
   ]
  },
  {
   "cell_type": "markdown",
   "metadata": {},
   "source": [
    "By the end of the project, you will be able to \n",
    "   - Use the Tensorflow Dataset API to scalably extract, transform, and load datasets and build datasets aggregated at the line, encounter, and patient data levels(longitudinal)\n",
    "   - Analyze EHR datasets to check for common issues (data leakage, statistical properties, missing values, high cardinality) by performing exploratory data analysis.\n",
    "   - Create categorical features from Key Industry Code Sets (ICD, CPT, NDC) and reduce dimensionality for high cardinality features by using embeddings \n",
    "   - Create derived features(bucketing, cross-features, embeddings) utilizing Tensorflow feature columns on both continuous and categorical input features\n",
    "   - SWBAT use the Tensorflow Probability library to train a model that provides uncertainty range predictions that allow for risk adjustment/prioritization and triaging of predictions\n",
    "   - Analyze and determine biases for a model for key demographic groups by evaluating performance metrics across groups by using the Aequitas framework \n"
   ]
  },
  {
   "cell_type": "markdown",
   "metadata": {},
   "source": [
    "# 3. Data Preparation"
   ]
  },
  {
   "cell_type": "code",
   "execution_count": 1,
   "metadata": {},
   "outputs": [],
   "source": [
    "# from __future__ import absolute_import, division, print_function, unicode_literals\n",
    "import os\n",
    "import numpy as np\n",
    "import tensorflow as tf\n",
    "from tensorflow.keras import layers\n",
    "import tensorflow_probability as tfp\n",
    "import matplotlib.pyplot as plt\n",
    "import pandas as pd\n",
    "import aequitas as ae\n",
    "# Put all of the helper functions in utils\n",
    "from utils import build_vocab_files, show_group_stats_viz, aggregate_dataset, preprocess_df, df_to_dataset, posterior_mean_field, prior_trainable\n",
    "pd.set_option('display.max_columns', 500)\n",
    "# this allows you to make changes and save in student_utils.py and the file is reloaded every time you run a code block\n",
    "%load_ext autoreload\n",
    "%autoreload"
   ]
  },
  {
   "cell_type": "code",
   "execution_count": 2,
   "metadata": {},
   "outputs": [],
   "source": [
    "#OPEN ISSUE ON MAC OSX for TF model training\n",
    "import os\n",
    "os.environ['KMP_DUPLICATE_LIB_OK']='True'"
   ]
  },
  {
   "cell_type": "code",
   "execution_count": 3,
   "metadata": {},
   "outputs": [],
   "source": [
    "import seaborn as sns"
   ]
  },
  {
   "cell_type": "markdown",
   "metadata": {},
   "source": [
    "## Dataset Loading and Schema Review"
   ]
  },
  {
   "cell_type": "markdown",
   "metadata": {},
   "source": [
    "Load the dataset and view a sample of the dataset along with reviewing the schema reference files to gain a deeper understanding of the dataset. The dataset is located at the following path https://github.com/udacity/nd320-c1-emr-data-starter/blob/master/project/starter_code/data/final_project_dataset.csv. Also, review the information found in the data schema https://github.com/udacity/nd320-c1-emr-data-starter/blob/master/project/data_schema_references/"
   ]
  },
  {
   "cell_type": "code",
   "execution_count": 4,
   "metadata": {},
   "outputs": [],
   "source": [
    "dataset_path = \"./data/final_project_dataset.csv\"\n",
    "df = pd.read_csv(dataset_path)"
   ]
  },
  {
   "cell_type": "code",
   "execution_count": 5,
   "metadata": {},
   "outputs": [
    {
     "data": {
      "text/html": [
       "<div>\n",
       "<style scoped>\n",
       "    .dataframe tbody tr th:only-of-type {\n",
       "        vertical-align: middle;\n",
       "    }\n",
       "\n",
       "    .dataframe tbody tr th {\n",
       "        vertical-align: top;\n",
       "    }\n",
       "\n",
       "    .dataframe thead th {\n",
       "        text-align: right;\n",
       "    }\n",
       "</style>\n",
       "<table border=\"1\" class=\"dataframe\">\n",
       "  <thead>\n",
       "    <tr style=\"text-align: right;\">\n",
       "      <th></th>\n",
       "      <th>encounter_id</th>\n",
       "      <th>patient_nbr</th>\n",
       "      <th>race</th>\n",
       "      <th>gender</th>\n",
       "      <th>age</th>\n",
       "      <th>weight</th>\n",
       "      <th>admission_type_id</th>\n",
       "      <th>discharge_disposition_id</th>\n",
       "      <th>admission_source_id</th>\n",
       "      <th>time_in_hospital</th>\n",
       "      <th>payer_code</th>\n",
       "      <th>medical_specialty</th>\n",
       "      <th>primary_diagnosis_code</th>\n",
       "      <th>other_diagnosis_codes</th>\n",
       "      <th>number_outpatient</th>\n",
       "      <th>number_inpatient</th>\n",
       "      <th>number_emergency</th>\n",
       "      <th>num_lab_procedures</th>\n",
       "      <th>number_diagnoses</th>\n",
       "      <th>num_medications</th>\n",
       "      <th>num_procedures</th>\n",
       "      <th>ndc_code</th>\n",
       "      <th>max_glu_serum</th>\n",
       "      <th>A1Cresult</th>\n",
       "      <th>change</th>\n",
       "      <th>readmitted</th>\n",
       "    </tr>\n",
       "  </thead>\n",
       "  <tbody>\n",
       "    <tr>\n",
       "      <th>0</th>\n",
       "      <td>2278392</td>\n",
       "      <td>8222157</td>\n",
       "      <td>Caucasian</td>\n",
       "      <td>Female</td>\n",
       "      <td>[0-10)</td>\n",
       "      <td>?</td>\n",
       "      <td>6</td>\n",
       "      <td>25</td>\n",
       "      <td>1</td>\n",
       "      <td>1</td>\n",
       "      <td>?</td>\n",
       "      <td>Pediatrics-Endocrinology</td>\n",
       "      <td>250.83</td>\n",
       "      <td>?|?</td>\n",
       "      <td>0</td>\n",
       "      <td>0</td>\n",
       "      <td>0</td>\n",
       "      <td>41</td>\n",
       "      <td>1</td>\n",
       "      <td>1</td>\n",
       "      <td>0</td>\n",
       "      <td>NaN</td>\n",
       "      <td>None</td>\n",
       "      <td>None</td>\n",
       "      <td>No</td>\n",
       "      <td>NO</td>\n",
       "    </tr>\n",
       "    <tr>\n",
       "      <th>1</th>\n",
       "      <td>149190</td>\n",
       "      <td>55629189</td>\n",
       "      <td>Caucasian</td>\n",
       "      <td>Female</td>\n",
       "      <td>[10-20)</td>\n",
       "      <td>?</td>\n",
       "      <td>1</td>\n",
       "      <td>1</td>\n",
       "      <td>7</td>\n",
       "      <td>3</td>\n",
       "      <td>?</td>\n",
       "      <td>?</td>\n",
       "      <td>276</td>\n",
       "      <td>250.01|255</td>\n",
       "      <td>0</td>\n",
       "      <td>0</td>\n",
       "      <td>0</td>\n",
       "      <td>59</td>\n",
       "      <td>9</td>\n",
       "      <td>18</td>\n",
       "      <td>0</td>\n",
       "      <td>68071-1701</td>\n",
       "      <td>None</td>\n",
       "      <td>None</td>\n",
       "      <td>Ch</td>\n",
       "      <td>&gt;30</td>\n",
       "    </tr>\n",
       "    <tr>\n",
       "      <th>2</th>\n",
       "      <td>64410</td>\n",
       "      <td>86047875</td>\n",
       "      <td>AfricanAmerican</td>\n",
       "      <td>Female</td>\n",
       "      <td>[20-30)</td>\n",
       "      <td>?</td>\n",
       "      <td>1</td>\n",
       "      <td>1</td>\n",
       "      <td>7</td>\n",
       "      <td>2</td>\n",
       "      <td>?</td>\n",
       "      <td>?</td>\n",
       "      <td>648</td>\n",
       "      <td>250|V27</td>\n",
       "      <td>2</td>\n",
       "      <td>1</td>\n",
       "      <td>0</td>\n",
       "      <td>11</td>\n",
       "      <td>6</td>\n",
       "      <td>13</td>\n",
       "      <td>5</td>\n",
       "      <td>0378-1110</td>\n",
       "      <td>None</td>\n",
       "      <td>None</td>\n",
       "      <td>No</td>\n",
       "      <td>NO</td>\n",
       "    </tr>\n",
       "    <tr>\n",
       "      <th>3</th>\n",
       "      <td>500364</td>\n",
       "      <td>82442376</td>\n",
       "      <td>Caucasian</td>\n",
       "      <td>Male</td>\n",
       "      <td>[30-40)</td>\n",
       "      <td>?</td>\n",
       "      <td>1</td>\n",
       "      <td>1</td>\n",
       "      <td>7</td>\n",
       "      <td>2</td>\n",
       "      <td>?</td>\n",
       "      <td>?</td>\n",
       "      <td>8</td>\n",
       "      <td>250.43|403</td>\n",
       "      <td>0</td>\n",
       "      <td>0</td>\n",
       "      <td>0</td>\n",
       "      <td>44</td>\n",
       "      <td>7</td>\n",
       "      <td>16</td>\n",
       "      <td>1</td>\n",
       "      <td>68071-1701</td>\n",
       "      <td>None</td>\n",
       "      <td>None</td>\n",
       "      <td>Ch</td>\n",
       "      <td>NO</td>\n",
       "    </tr>\n",
       "    <tr>\n",
       "      <th>4</th>\n",
       "      <td>16680</td>\n",
       "      <td>42519267</td>\n",
       "      <td>Caucasian</td>\n",
       "      <td>Male</td>\n",
       "      <td>[40-50)</td>\n",
       "      <td>?</td>\n",
       "      <td>1</td>\n",
       "      <td>1</td>\n",
       "      <td>7</td>\n",
       "      <td>1</td>\n",
       "      <td>?</td>\n",
       "      <td>?</td>\n",
       "      <td>197</td>\n",
       "      <td>157|250</td>\n",
       "      <td>0</td>\n",
       "      <td>0</td>\n",
       "      <td>0</td>\n",
       "      <td>51</td>\n",
       "      <td>5</td>\n",
       "      <td>8</td>\n",
       "      <td>0</td>\n",
       "      <td>0049-4110</td>\n",
       "      <td>None</td>\n",
       "      <td>None</td>\n",
       "      <td>Ch</td>\n",
       "      <td>NO</td>\n",
       "    </tr>\n",
       "  </tbody>\n",
       "</table>\n",
       "</div>"
      ],
      "text/plain": [
       "   encounter_id  patient_nbr             race  gender      age weight  \\\n",
       "0       2278392      8222157        Caucasian  Female   [0-10)      ?   \n",
       "1        149190     55629189        Caucasian  Female  [10-20)      ?   \n",
       "2         64410     86047875  AfricanAmerican  Female  [20-30)      ?   \n",
       "3        500364     82442376        Caucasian    Male  [30-40)      ?   \n",
       "4         16680     42519267        Caucasian    Male  [40-50)      ?   \n",
       "\n",
       "   admission_type_id  discharge_disposition_id  admission_source_id  \\\n",
       "0                  6                        25                    1   \n",
       "1                  1                         1                    7   \n",
       "2                  1                         1                    7   \n",
       "3                  1                         1                    7   \n",
       "4                  1                         1                    7   \n",
       "\n",
       "   time_in_hospital payer_code         medical_specialty  \\\n",
       "0                 1          ?  Pediatrics-Endocrinology   \n",
       "1                 3          ?                         ?   \n",
       "2                 2          ?                         ?   \n",
       "3                 2          ?                         ?   \n",
       "4                 1          ?                         ?   \n",
       "\n",
       "  primary_diagnosis_code other_diagnosis_codes  number_outpatient  \\\n",
       "0                 250.83                   ?|?                  0   \n",
       "1                    276            250.01|255                  0   \n",
       "2                    648               250|V27                  2   \n",
       "3                      8            250.43|403                  0   \n",
       "4                    197               157|250                  0   \n",
       "\n",
       "   number_inpatient  number_emergency  num_lab_procedures  number_diagnoses  \\\n",
       "0                 0                 0                  41                 1   \n",
       "1                 0                 0                  59                 9   \n",
       "2                 1                 0                  11                 6   \n",
       "3                 0                 0                  44                 7   \n",
       "4                 0                 0                  51                 5   \n",
       "\n",
       "   num_medications  num_procedures    ndc_code max_glu_serum A1Cresult change  \\\n",
       "0                1               0         NaN          None      None     No   \n",
       "1               18               0  68071-1701          None      None     Ch   \n",
       "2               13               5   0378-1110          None      None     No   \n",
       "3               16               1  68071-1701          None      None     Ch   \n",
       "4                8               0   0049-4110          None      None     Ch   \n",
       "\n",
       "  readmitted  \n",
       "0         NO  \n",
       "1        >30  \n",
       "2         NO  \n",
       "3         NO  \n",
       "4         NO  "
      ]
     },
     "execution_count": 5,
     "metadata": {},
     "output_type": "execute_result"
    }
   ],
   "source": [
    "df.head()"
   ]
  },
  {
   "cell_type": "markdown",
   "metadata": {},
   "source": [
    "## Determine Level of Dataset (Line or Encounter)"
   ]
  },
  {
   "cell_type": "markdown",
   "metadata": {},
   "source": [
    "**Question 1**: Based off of analysis of the data, what level is this dataset? Is it at the line or encounter level? Are there any key fields besides the encounter_id and patient_nbr fields that we should use to aggregate on? Knowing this information will help inform us what level of aggregation is necessary for future steps and is a step that is often overlooked. "
   ]
  },
  {
   "cell_type": "markdown",
   "metadata": {},
   "source": [
    "**Answer**: Its line level. We should also aggregate on race, age and gender for later bias analysis."
   ]
  },
  {
   "cell_type": "code",
   "execution_count": 6,
   "metadata": {},
   "outputs": [
    {
     "data": {
      "text/plain": [
       "True"
      ]
     },
     "execution_count": 6,
     "metadata": {},
     "output_type": "execute_result"
    }
   ],
   "source": [
    "# check for encounter level => line level\n",
    "df.encounter_id.nunique() < len(df)"
   ]
  },
  {
   "cell_type": "code",
   "execution_count": 7,
   "metadata": {},
   "outputs": [
    {
     "data": {
      "text/plain": [
       "71518"
      ]
     },
     "execution_count": 7,
     "metadata": {},
     "output_type": "execute_result"
    }
   ],
   "source": [
    "df.patient_nbr.nunique()"
   ]
  },
  {
   "cell_type": "markdown",
   "metadata": {},
   "source": [
    "## Analyze Dataset"
   ]
  },
  {
   "cell_type": "markdown",
   "metadata": {},
   "source": [
    "**Question 2**: Utilizing the library of your choice (recommend Pandas and Seaborn or matplotlib though), perform exploratory data analysis on the dataset. In particular be sure to address the following questions:  \n",
    "    - a. Field(s) with high amount of missing/zero values\n",
    "    - b. Based off the frequency histogram for each numerical field, which numerical field(s) has/have a Gaussian(normal) distribution shape?\n",
    "    - c. Which field(s) have high cardinality and why (HINT: ndc_code is one feature)\n",
    "    - d. Please describe the demographic distributions in the dataset for the age and gender fields.\n",
    "    \n"
   ]
  },
  {
   "cell_type": "markdown",
   "metadata": {},
   "source": [
    "**OPTIONAL**: Use the Tensorflow Data Validation and Analysis library to complete. \n",
    "- The Tensorflow Data Validation and Analysis library(https://www.tensorflow.org/tfx/data_validation/get_started) is a useful tool for analyzing and summarizing dataset statistics. It is especially useful because it can scale to large datasets that do not fit into memory. \n",
    "- Note that there are some bugs that are still being resolved with Chrome v80 and we have moved away from using this for the project. "
   ]
  },
  {
   "cell_type": "markdown",
   "metadata": {},
   "source": [
    "**Student Response**: \n",
    "* **Missing + null values**\n",
    "    * Ndc medication code with missing values - maybe no medication given / or not registered, but strange that num_medications never 0\n",
    "    * High zero values for number_outpatient, number_inpatient, number_emergency and num_procedures but expected as patients do not have to be treated within a year before\n",
    "    * A lot of ? for weight, payer_code and medical_specialty\n",
    "    \n",
    "\n",
    "* **Distributions**\n",
    "    * time_in_hospital - normal distribution, just cut off by 0\n",
    "    * number_outpatient, number_inpatient, number_inpatient - right-skewed\n",
    "    * num_lab_procedures - looks like normal distribution with additional peek at 0 (technical not normal)\n",
    "    * num_medications - looks normal with left side cut off\n",
    "    * age - left-skewed\n",
    "    * weight - normal\n",
    "\n",
    "\n",
    "* **High cardinality**\n",
    "    * Of course encounter_id and patient_nbr due to beeing identifiers\n",
    "    * primary_diagnosis_code - beeing from the ICD9 - CM code set, there are probably many pointing to similar diagnosis\n",
    "    * other_diagnosis_codes - since its piped two diagnosis, so high number of combinations (could be split again)\n",
    "    * ndc_code medical codes, where many might point to similar drugs\n",
    "    \n",
    "    \n",
    "* **Demographics**\n",
    "    * Age is mainly above 40 and highest bin is 70-80\n",
    "    * There are slightly more women then men in total\n",
    "    * The genders are similar frequent in the age groups, altough above 70 there are significantly less men. I would guess this to be likely due to lower life expectancy\n"
   ]
  },
  {
   "cell_type": "markdown",
   "metadata": {},
   "source": [
    "#### Missing values"
   ]
  },
  {
   "cell_type": "code",
   "execution_count": 8,
   "metadata": {},
   "outputs": [
    {
     "data": {
      "text/html": [
       "<div>\n",
       "<style scoped>\n",
       "    .dataframe tbody tr th:only-of-type {\n",
       "        vertical-align: middle;\n",
       "    }\n",
       "\n",
       "    .dataframe tbody tr th {\n",
       "        vertical-align: top;\n",
       "    }\n",
       "\n",
       "    .dataframe thead th {\n",
       "        text-align: right;\n",
       "    }\n",
       "</style>\n",
       "<table border=\"1\" class=\"dataframe\">\n",
       "  <thead>\n",
       "    <tr style=\"text-align: right;\">\n",
       "      <th></th>\n",
       "      <th>columns</th>\n",
       "      <th>percent_null</th>\n",
       "      <th>percent_zero</th>\n",
       "      <th>percent_questionmark</th>\n",
       "    </tr>\n",
       "  </thead>\n",
       "  <tbody>\n",
       "    <tr>\n",
       "      <th>encounter_id</th>\n",
       "      <td>encounter_id</td>\n",
       "      <td>0.00000</td>\n",
       "      <td>0.000000</td>\n",
       "      <td>0.000000</td>\n",
       "    </tr>\n",
       "    <tr>\n",
       "      <th>patient_nbr</th>\n",
       "      <td>patient_nbr</td>\n",
       "      <td>0.00000</td>\n",
       "      <td>0.000000</td>\n",
       "      <td>0.000000</td>\n",
       "    </tr>\n",
       "    <tr>\n",
       "      <th>race</th>\n",
       "      <td>race</td>\n",
       "      <td>0.00000</td>\n",
       "      <td>0.000000</td>\n",
       "      <td>2.307145</td>\n",
       "    </tr>\n",
       "    <tr>\n",
       "      <th>gender</th>\n",
       "      <td>gender</td>\n",
       "      <td>0.00000</td>\n",
       "      <td>0.000000</td>\n",
       "      <td>0.000000</td>\n",
       "    </tr>\n",
       "    <tr>\n",
       "      <th>age</th>\n",
       "      <td>age</td>\n",
       "      <td>0.00000</td>\n",
       "      <td>0.000000</td>\n",
       "      <td>0.000000</td>\n",
       "    </tr>\n",
       "    <tr>\n",
       "      <th>weight</th>\n",
       "      <td>weight</td>\n",
       "      <td>0.00000</td>\n",
       "      <td>0.000000</td>\n",
       "      <td>97.000502</td>\n",
       "    </tr>\n",
       "    <tr>\n",
       "      <th>admission_type_id</th>\n",
       "      <td>admission_type_id</td>\n",
       "      <td>0.00000</td>\n",
       "      <td>0.000000</td>\n",
       "      <td>0.000000</td>\n",
       "    </tr>\n",
       "    <tr>\n",
       "      <th>discharge_disposition_id</th>\n",
       "      <td>discharge_disposition_id</td>\n",
       "      <td>0.00000</td>\n",
       "      <td>0.000000</td>\n",
       "      <td>0.000000</td>\n",
       "    </tr>\n",
       "    <tr>\n",
       "      <th>admission_source_id</th>\n",
       "      <td>admission_source_id</td>\n",
       "      <td>0.00000</td>\n",
       "      <td>0.000000</td>\n",
       "      <td>0.000000</td>\n",
       "    </tr>\n",
       "    <tr>\n",
       "      <th>time_in_hospital</th>\n",
       "      <td>time_in_hospital</td>\n",
       "      <td>0.00000</td>\n",
       "      <td>0.000000</td>\n",
       "      <td>0.000000</td>\n",
       "    </tr>\n",
       "    <tr>\n",
       "      <th>payer_code</th>\n",
       "      <td>payer_code</td>\n",
       "      <td>0.00000</td>\n",
       "      <td>0.000000</td>\n",
       "      <td>37.783077</td>\n",
       "    </tr>\n",
       "    <tr>\n",
       "      <th>medical_specialty</th>\n",
       "      <td>medical_specialty</td>\n",
       "      <td>0.00000</td>\n",
       "      <td>0.000000</td>\n",
       "      <td>48.431922</td>\n",
       "    </tr>\n",
       "    <tr>\n",
       "      <th>primary_diagnosis_code</th>\n",
       "      <td>primary_diagnosis_code</td>\n",
       "      <td>0.00000</td>\n",
       "      <td>0.000000</td>\n",
       "      <td>0.023009</td>\n",
       "    </tr>\n",
       "    <tr>\n",
       "      <th>other_diagnosis_codes</th>\n",
       "      <td>other_diagnosis_codes</td>\n",
       "      <td>0.00000</td>\n",
       "      <td>0.000000</td>\n",
       "      <td>0.000000</td>\n",
       "    </tr>\n",
       "    <tr>\n",
       "      <th>number_outpatient</th>\n",
       "      <td>number_outpatient</td>\n",
       "      <td>0.00000</td>\n",
       "      <td>83.686831</td>\n",
       "      <td>0.000000</td>\n",
       "    </tr>\n",
       "    <tr>\n",
       "      <th>number_inpatient</th>\n",
       "      <td>number_inpatient</td>\n",
       "      <td>0.00000</td>\n",
       "      <td>67.421073</td>\n",
       "      <td>0.000000</td>\n",
       "    </tr>\n",
       "    <tr>\n",
       "      <th>number_emergency</th>\n",
       "      <td>number_emergency</td>\n",
       "      <td>0.00000</td>\n",
       "      <td>88.858211</td>\n",
       "      <td>0.000000</td>\n",
       "    </tr>\n",
       "    <tr>\n",
       "      <th>num_lab_procedures</th>\n",
       "      <td>num_lab_procedures</td>\n",
       "      <td>0.00000</td>\n",
       "      <td>0.000000</td>\n",
       "      <td>0.000000</td>\n",
       "    </tr>\n",
       "    <tr>\n",
       "      <th>number_diagnoses</th>\n",
       "      <td>number_diagnoses</td>\n",
       "      <td>0.00000</td>\n",
       "      <td>0.000000</td>\n",
       "      <td>0.000000</td>\n",
       "    </tr>\n",
       "    <tr>\n",
       "      <th>num_medications</th>\n",
       "      <td>num_medications</td>\n",
       "      <td>0.00000</td>\n",
       "      <td>0.000000</td>\n",
       "      <td>0.000000</td>\n",
       "    </tr>\n",
       "    <tr>\n",
       "      <th>num_procedures</th>\n",
       "      <td>num_procedures</td>\n",
       "      <td>0.00000</td>\n",
       "      <td>45.869589</td>\n",
       "      <td>0.000000</td>\n",
       "    </tr>\n",
       "    <tr>\n",
       "      <th>ndc_code</th>\n",
       "      <td>ndc_code</td>\n",
       "      <td>16.35849</td>\n",
       "      <td>0.000000</td>\n",
       "      <td>0.000000</td>\n",
       "    </tr>\n",
       "    <tr>\n",
       "      <th>max_glu_serum</th>\n",
       "      <td>max_glu_serum</td>\n",
       "      <td>0.00000</td>\n",
       "      <td>0.000000</td>\n",
       "      <td>0.000000</td>\n",
       "    </tr>\n",
       "    <tr>\n",
       "      <th>A1Cresult</th>\n",
       "      <td>A1Cresult</td>\n",
       "      <td>0.00000</td>\n",
       "      <td>0.000000</td>\n",
       "      <td>0.000000</td>\n",
       "    </tr>\n",
       "    <tr>\n",
       "      <th>change</th>\n",
       "      <td>change</td>\n",
       "      <td>0.00000</td>\n",
       "      <td>0.000000</td>\n",
       "      <td>0.000000</td>\n",
       "    </tr>\n",
       "    <tr>\n",
       "      <th>readmitted</th>\n",
       "      <td>readmitted</td>\n",
       "      <td>0.00000</td>\n",
       "      <td>0.000000</td>\n",
       "      <td>0.000000</td>\n",
       "    </tr>\n",
       "  </tbody>\n",
       "</table>\n",
       "</div>"
      ],
      "text/plain": [
       "                                           columns  percent_null  \\\n",
       "encounter_id                          encounter_id       0.00000   \n",
       "patient_nbr                            patient_nbr       0.00000   \n",
       "race                                          race       0.00000   \n",
       "gender                                      gender       0.00000   \n",
       "age                                            age       0.00000   \n",
       "weight                                      weight       0.00000   \n",
       "admission_type_id                admission_type_id       0.00000   \n",
       "discharge_disposition_id  discharge_disposition_id       0.00000   \n",
       "admission_source_id            admission_source_id       0.00000   \n",
       "time_in_hospital                  time_in_hospital       0.00000   \n",
       "payer_code                              payer_code       0.00000   \n",
       "medical_specialty                medical_specialty       0.00000   \n",
       "primary_diagnosis_code      primary_diagnosis_code       0.00000   \n",
       "other_diagnosis_codes        other_diagnosis_codes       0.00000   \n",
       "number_outpatient                number_outpatient       0.00000   \n",
       "number_inpatient                  number_inpatient       0.00000   \n",
       "number_emergency                  number_emergency       0.00000   \n",
       "num_lab_procedures              num_lab_procedures       0.00000   \n",
       "number_diagnoses                  number_diagnoses       0.00000   \n",
       "num_medications                    num_medications       0.00000   \n",
       "num_procedures                      num_procedures       0.00000   \n",
       "ndc_code                                  ndc_code      16.35849   \n",
       "max_glu_serum                        max_glu_serum       0.00000   \n",
       "A1Cresult                                A1Cresult       0.00000   \n",
       "change                                      change       0.00000   \n",
       "readmitted                              readmitted       0.00000   \n",
       "\n",
       "                          percent_zero  percent_questionmark  \n",
       "encounter_id                  0.000000              0.000000  \n",
       "patient_nbr                   0.000000              0.000000  \n",
       "race                          0.000000              2.307145  \n",
       "gender                        0.000000              0.000000  \n",
       "age                           0.000000              0.000000  \n",
       "weight                        0.000000             97.000502  \n",
       "admission_type_id             0.000000              0.000000  \n",
       "discharge_disposition_id      0.000000              0.000000  \n",
       "admission_source_id           0.000000              0.000000  \n",
       "time_in_hospital              0.000000              0.000000  \n",
       "payer_code                    0.000000             37.783077  \n",
       "medical_specialty             0.000000             48.431922  \n",
       "primary_diagnosis_code        0.000000              0.023009  \n",
       "other_diagnosis_codes         0.000000              0.000000  \n",
       "number_outpatient            83.686831              0.000000  \n",
       "number_inpatient             67.421073              0.000000  \n",
       "number_emergency             88.858211              0.000000  \n",
       "num_lab_procedures            0.000000              0.000000  \n",
       "number_diagnoses              0.000000              0.000000  \n",
       "num_medications               0.000000              0.000000  \n",
       "num_procedures               45.869589              0.000000  \n",
       "ndc_code                      0.000000              0.000000  \n",
       "max_glu_serum                 0.000000              0.000000  \n",
       "A1Cresult                     0.000000              0.000000  \n",
       "change                        0.000000              0.000000  \n",
       "readmitted                    0.000000              0.000000  "
      ]
     },
     "execution_count": 8,
     "metadata": {},
     "output_type": "execute_result"
    }
   ],
   "source": [
    "# missing + null values\n",
    "# ndc medication code with missing values - maybe no medication given / or not registered, but strange that num_medications never 0\n",
    "# high zero values for number_outpatient, number_inpatient, number_emergency and num_procedures but expected as patients do not have to be treated within a year before\n",
    "# A lot of ? for weight, payer_code and medical_specialty\n",
    "\n",
    "null_df = pd.DataFrame({'columns': df.columns, \n",
    "                        'percent_null': df.isnull().sum() * 100 / len(df), \n",
    "                        'percent_zero': df.isin([0]).sum() * 100 / len(df),\n",
    "                        'percent_questionmark': df.isin(['?']).sum() * 100 / len(df)\n",
    "                        } )\n",
    "null_df"
   ]
  },
  {
   "cell_type": "markdown",
   "metadata": {},
   "source": [
    "#### Numerical Distributions"
   ]
  },
  {
   "cell_type": "code",
   "execution_count": 9,
   "metadata": {
    "scrolled": true
   },
   "outputs": [
    {
     "data": {
      "text/html": [
       "<div>\n",
       "<style scoped>\n",
       "    .dataframe tbody tr th:only-of-type {\n",
       "        vertical-align: middle;\n",
       "    }\n",
       "\n",
       "    .dataframe tbody tr th {\n",
       "        vertical-align: top;\n",
       "    }\n",
       "\n",
       "    .dataframe thead th {\n",
       "        text-align: right;\n",
       "    }\n",
       "</style>\n",
       "<table border=\"1\" class=\"dataframe\">\n",
       "  <thead>\n",
       "    <tr style=\"text-align: right;\">\n",
       "      <th></th>\n",
       "      <th>encounter_id</th>\n",
       "      <th>patient_nbr</th>\n",
       "      <th>admission_type_id</th>\n",
       "      <th>discharge_disposition_id</th>\n",
       "      <th>admission_source_id</th>\n",
       "      <th>time_in_hospital</th>\n",
       "      <th>number_outpatient</th>\n",
       "      <th>number_inpatient</th>\n",
       "      <th>number_emergency</th>\n",
       "      <th>num_lab_procedures</th>\n",
       "      <th>number_diagnoses</th>\n",
       "      <th>num_medications</th>\n",
       "      <th>num_procedures</th>\n",
       "    </tr>\n",
       "  </thead>\n",
       "  <tbody>\n",
       "    <tr>\n",
       "      <th>count</th>\n",
       "      <td>1.434240e+05</td>\n",
       "      <td>1.434240e+05</td>\n",
       "      <td>143424.000000</td>\n",
       "      <td>143424.000000</td>\n",
       "      <td>143424.000000</td>\n",
       "      <td>143424.000000</td>\n",
       "      <td>143424.000000</td>\n",
       "      <td>143424.000000</td>\n",
       "      <td>143424.000000</td>\n",
       "      <td>143424.000000</td>\n",
       "      <td>143424.000000</td>\n",
       "      <td>143424.000000</td>\n",
       "      <td>143424.000000</td>\n",
       "    </tr>\n",
       "    <tr>\n",
       "      <th>mean</th>\n",
       "      <td>1.674290e+08</td>\n",
       "      <td>5.493608e+07</td>\n",
       "      <td>2.027694</td>\n",
       "      <td>3.655316</td>\n",
       "      <td>5.701096</td>\n",
       "      <td>4.490190</td>\n",
       "      <td>0.362429</td>\n",
       "      <td>0.600855</td>\n",
       "      <td>0.195086</td>\n",
       "      <td>43.255745</td>\n",
       "      <td>7.424434</td>\n",
       "      <td>16.776035</td>\n",
       "      <td>1.349021</td>\n",
       "    </tr>\n",
       "    <tr>\n",
       "      <th>std</th>\n",
       "      <td>1.019046e+08</td>\n",
       "      <td>3.857840e+07</td>\n",
       "      <td>1.427585</td>\n",
       "      <td>5.219279</td>\n",
       "      <td>4.064532</td>\n",
       "      <td>2.999667</td>\n",
       "      <td>1.249295</td>\n",
       "      <td>1.207934</td>\n",
       "      <td>0.920410</td>\n",
       "      <td>19.657319</td>\n",
       "      <td>1.924872</td>\n",
       "      <td>8.397130</td>\n",
       "      <td>1.719104</td>\n",
       "    </tr>\n",
       "    <tr>\n",
       "      <th>min</th>\n",
       "      <td>1.252200e+04</td>\n",
       "      <td>1.350000e+02</td>\n",
       "      <td>1.000000</td>\n",
       "      <td>1.000000</td>\n",
       "      <td>1.000000</td>\n",
       "      <td>1.000000</td>\n",
       "      <td>0.000000</td>\n",
       "      <td>0.000000</td>\n",
       "      <td>0.000000</td>\n",
       "      <td>1.000000</td>\n",
       "      <td>1.000000</td>\n",
       "      <td>1.000000</td>\n",
       "      <td>0.000000</td>\n",
       "    </tr>\n",
       "    <tr>\n",
       "      <th>25%</th>\n",
       "      <td>8.829596e+07</td>\n",
       "      <td>2.357219e+07</td>\n",
       "      <td>1.000000</td>\n",
       "      <td>1.000000</td>\n",
       "      <td>1.000000</td>\n",
       "      <td>2.000000</td>\n",
       "      <td>0.000000</td>\n",
       "      <td>0.000000</td>\n",
       "      <td>0.000000</td>\n",
       "      <td>32.000000</td>\n",
       "      <td>6.000000</td>\n",
       "      <td>11.000000</td>\n",
       "      <td>0.000000</td>\n",
       "    </tr>\n",
       "    <tr>\n",
       "      <th>50%</th>\n",
       "      <td>1.547637e+08</td>\n",
       "      <td>4.630783e+07</td>\n",
       "      <td>1.000000</td>\n",
       "      <td>1.000000</td>\n",
       "      <td>7.000000</td>\n",
       "      <td>4.000000</td>\n",
       "      <td>0.000000</td>\n",
       "      <td>0.000000</td>\n",
       "      <td>0.000000</td>\n",
       "      <td>44.000000</td>\n",
       "      <td>8.000000</td>\n",
       "      <td>15.000000</td>\n",
       "      <td>1.000000</td>\n",
       "    </tr>\n",
       "    <tr>\n",
       "      <th>75%</th>\n",
       "      <td>2.320897e+08</td>\n",
       "      <td>8.823627e+07</td>\n",
       "      <td>3.000000</td>\n",
       "      <td>3.000000</td>\n",
       "      <td>7.000000</td>\n",
       "      <td>6.000000</td>\n",
       "      <td>0.000000</td>\n",
       "      <td>1.000000</td>\n",
       "      <td>0.000000</td>\n",
       "      <td>57.000000</td>\n",
       "      <td>9.000000</td>\n",
       "      <td>21.000000</td>\n",
       "      <td>2.000000</td>\n",
       "    </tr>\n",
       "    <tr>\n",
       "      <th>max</th>\n",
       "      <td>4.438672e+08</td>\n",
       "      <td>1.895026e+08</td>\n",
       "      <td>8.000000</td>\n",
       "      <td>28.000000</td>\n",
       "      <td>25.000000</td>\n",
       "      <td>14.000000</td>\n",
       "      <td>42.000000</td>\n",
       "      <td>21.000000</td>\n",
       "      <td>76.000000</td>\n",
       "      <td>132.000000</td>\n",
       "      <td>16.000000</td>\n",
       "      <td>81.000000</td>\n",
       "      <td>6.000000</td>\n",
       "    </tr>\n",
       "  </tbody>\n",
       "</table>\n",
       "</div>"
      ],
      "text/plain": [
       "       encounter_id   patient_nbr  admission_type_id  \\\n",
       "count  1.434240e+05  1.434240e+05      143424.000000   \n",
       "mean   1.674290e+08  5.493608e+07           2.027694   \n",
       "std    1.019046e+08  3.857840e+07           1.427585   \n",
       "min    1.252200e+04  1.350000e+02           1.000000   \n",
       "25%    8.829596e+07  2.357219e+07           1.000000   \n",
       "50%    1.547637e+08  4.630783e+07           1.000000   \n",
       "75%    2.320897e+08  8.823627e+07           3.000000   \n",
       "max    4.438672e+08  1.895026e+08           8.000000   \n",
       "\n",
       "       discharge_disposition_id  admission_source_id  time_in_hospital  \\\n",
       "count             143424.000000        143424.000000     143424.000000   \n",
       "mean                   3.655316             5.701096          4.490190   \n",
       "std                    5.219279             4.064532          2.999667   \n",
       "min                    1.000000             1.000000          1.000000   \n",
       "25%                    1.000000             1.000000          2.000000   \n",
       "50%                    1.000000             7.000000          4.000000   \n",
       "75%                    3.000000             7.000000          6.000000   \n",
       "max                   28.000000            25.000000         14.000000   \n",
       "\n",
       "       number_outpatient  number_inpatient  number_emergency  \\\n",
       "count      143424.000000     143424.000000     143424.000000   \n",
       "mean            0.362429          0.600855          0.195086   \n",
       "std             1.249295          1.207934          0.920410   \n",
       "min             0.000000          0.000000          0.000000   \n",
       "25%             0.000000          0.000000          0.000000   \n",
       "50%             0.000000          0.000000          0.000000   \n",
       "75%             0.000000          1.000000          0.000000   \n",
       "max            42.000000         21.000000         76.000000   \n",
       "\n",
       "       num_lab_procedures  number_diagnoses  num_medications  num_procedures  \n",
       "count       143424.000000     143424.000000    143424.000000   143424.000000  \n",
       "mean            43.255745          7.424434        16.776035        1.349021  \n",
       "std             19.657319          1.924872         8.397130        1.719104  \n",
       "min              1.000000          1.000000         1.000000        0.000000  \n",
       "25%             32.000000          6.000000        11.000000        0.000000  \n",
       "50%             44.000000          8.000000        15.000000        1.000000  \n",
       "75%             57.000000          9.000000        21.000000        2.000000  \n",
       "max            132.000000         16.000000        81.000000        6.000000  "
      ]
     },
     "execution_count": 9,
     "metadata": {},
     "output_type": "execute_result"
    }
   ],
   "source": [
    "# distributions\n",
    "df.describe()"
   ]
  },
  {
   "cell_type": "code",
   "execution_count": 10,
   "metadata": {
    "scrolled": false
   },
   "outputs": [
    {
     "name": "stderr",
     "output_type": "stream",
     "text": [
      "/home/mkirmse/venv/outfit_ml_lib/lib/python3.7/site-packages/seaborn/distributions.py:2557: FutureWarning: `distplot` is a deprecated function and will be removed in a future version. Please adapt your code to use either `displot` (a figure-level function with similar flexibility) or `histplot` (an axes-level function for histograms).\n",
      "  warnings.warn(msg, FutureWarning)\n",
      "/home/mkirmse/venv/outfit_ml_lib/lib/python3.7/site-packages/seaborn/distributions.py:2557: FutureWarning: `distplot` is a deprecated function and will be removed in a future version. Please adapt your code to use either `displot` (a figure-level function with similar flexibility) or `histplot` (an axes-level function for histograms).\n",
      "  warnings.warn(msg, FutureWarning)\n",
      "/home/mkirmse/venv/outfit_ml_lib/lib/python3.7/site-packages/seaborn/distributions.py:2557: FutureWarning: `distplot` is a deprecated function and will be removed in a future version. Please adapt your code to use either `displot` (a figure-level function with similar flexibility) or `histplot` (an axes-level function for histograms).\n",
      "  warnings.warn(msg, FutureWarning)\n",
      "/home/mkirmse/venv/outfit_ml_lib/lib/python3.7/site-packages/seaborn/distributions.py:2557: FutureWarning: `distplot` is a deprecated function and will be removed in a future version. Please adapt your code to use either `displot` (a figure-level function with similar flexibility) or `histplot` (an axes-level function for histograms).\n",
      "  warnings.warn(msg, FutureWarning)\n",
      "/home/mkirmse/venv/outfit_ml_lib/lib/python3.7/site-packages/seaborn/distributions.py:2557: FutureWarning: `distplot` is a deprecated function and will be removed in a future version. Please adapt your code to use either `displot` (a figure-level function with similar flexibility) or `histplot` (an axes-level function for histograms).\n",
      "  warnings.warn(msg, FutureWarning)\n",
      "/home/mkirmse/venv/outfit_ml_lib/lib/python3.7/site-packages/seaborn/distributions.py:2557: FutureWarning: `distplot` is a deprecated function and will be removed in a future version. Please adapt your code to use either `displot` (a figure-level function with similar flexibility) or `histplot` (an axes-level function for histograms).\n",
      "  warnings.warn(msg, FutureWarning)\n",
      "/home/mkirmse/venv/outfit_ml_lib/lib/python3.7/site-packages/seaborn/distributions.py:2557: FutureWarning: `distplot` is a deprecated function and will be removed in a future version. Please adapt your code to use either `displot` (a figure-level function with similar flexibility) or `histplot` (an axes-level function for histograms).\n",
      "  warnings.warn(msg, FutureWarning)\n"
     ]
    },
    {
     "data": {
      "image/png": "[encoded data removed]",
      "text/plain": [
       "<Figure size 432x288 with 1 Axes>"
      ]
     },
     "metadata": {
      "needs_background": "light"
     },
     "output_type": "display_data"
    },
    {
     "data": {
      "image/png": "[encoded data removed]",
      "text/plain": [
       "<Figure size 432x288 with 1 Axes>"
      ]
     },
     "metadata": {
      "needs_background": "light"
     },
     "output_type": "display_data"
    },
    {
     "data": {
      "image/png": "[encoded data removed]",
      "text/plain": [
       "<Figure size 432x288 with 1 Axes>"
      ]
     },
     "metadata": {
      "needs_background": "light"
     },
     "output_type": "display_data"
    },
    {
     "data": {
      "image/png": "[encoded data removed]",
      "text/plain": [
       "<Figure size 432x288 with 1 Axes>"
      ]
     },
     "metadata": {
      "needs_background": "light"
     },
     "output_type": "display_data"
    },
    {
     "data": {
      "image/png": "[encoded data removed]",
      "text/plain": [
       "<Figure size 432x288 with 1 Axes>"
      ]
     },
     "metadata": {
      "needs_background": "light"
     },
     "output_type": "display_data"
    },
    {
     "data": {
      "image/png": "[encoded data removed]",
      "text/plain": [
       "<Figure size 432x288 with 1 Axes>"
      ]
     },
     "metadata": {
      "needs_background": "light"
     },
     "output_type": "display_data"
    },
    {
     "data": {
      "image/png": "[encoded data removed]",
      "text/plain": [
       "<Figure size 432x288 with 1 Axes>"
      ]
     },
     "metadata": {
      "needs_background": "light"
     },
     "output_type": "display_data"
    },
    {
     "data": {
      "text/plain": [
       "<Figure size 432x288 with 0 Axes>"
      ]
     },
     "metadata": {},
     "output_type": "display_data"
    }
   ],
   "source": [
    "# as defined in schema\n",
    "num_features = ['time_in_hospital', 'number_outpatient', 'number_inpatient', 'number_emergency', 'num_lab_procedures',\n",
    "               'number_diagnoses','num_medications']\n",
    "for col in num_features:\n",
    "    sns.distplot(df[~(df[col].isnull() | (df[col].isin([0,'?'])))][col])\n",
    "    plt.figure()\n",
    "\n"
   ]
  },
  {
   "cell_type": "markdown",
   "metadata": {},
   "source": [
    "* Numerical Distributions\n",
    "    * time_in_hospital - normal distribution, just cut off by 0\n",
    "    * number_outpatient, number_inpatient, number_inpatient - right-skewed\n",
    "    * num_lab_procedures - looks like normal distribution with additional peek at 0 (technical not normal)\n",
    "    * num_medications - looks normal with left side cut off\n",
    "    * age - left-skewed\n"
   ]
  },
  {
   "cell_type": "code",
   "execution_count": 11,
   "metadata": {},
   "outputs": [
    {
     "name": "stderr",
     "output_type": "stream",
     "text": [
      "/home/mkirmse/venv/outfit_ml_lib/lib/python3.7/site-packages/seaborn/_decorators.py:43: FutureWarning: Pass the following variable as a keyword arg: x. From version 0.12, the only valid positional argument will be `data`, and passing other arguments without an explicit keyword will result in an error or misinterpretation.\n",
      "  FutureWarning\n"
     ]
    },
    {
     "data": {
      "text/plain": [
       "<Figure size 432x288 with 0 Axes>"
      ]
     },
     "execution_count": 11,
     "metadata": {},
     "output_type": "execute_result"
    },
    {
     "data": {
      "image/png": "[encoded data removed]",
      "text/plain": [
       "<Figure size 432x288 with 1 Axes>"
      ]
     },
     "metadata": {
      "needs_background": "light"
     },
     "output_type": "display_data"
    },
    {
     "data": {
      "text/plain": [
       "<Figure size 432x288 with 0 Axes>"
      ]
     },
     "metadata": {},
     "output_type": "display_data"
    }
   ],
   "source": [
    "discretized_numerical = ['weight','age']\n",
    "col = 'age'\n",
    "sns.countplot(df[~(df[col].isnull() | (df[col].isin([0,'?'])))][col])\n",
    "plt.xticks(rotation=45)    \n",
    "plt.figure()\n",
    "    "
   ]
  },
  {
   "cell_type": "code",
   "execution_count": 12,
   "metadata": {
    "scrolled": true
   },
   "outputs": [
    {
     "name": "stderr",
     "output_type": "stream",
     "text": [
      "/home/mkirmse/venv/outfit_ml_lib/lib/python3.7/site-packages/seaborn/_decorators.py:43: FutureWarning: Pass the following variable as a keyword arg: x. From version 0.12, the only valid positional argument will be `data`, and passing other arguments without an explicit keyword will result in an error or misinterpretation.\n",
      "  FutureWarning\n"
     ]
    },
    {
     "data": {
      "text/plain": [
       "<Figure size 432x288 with 0 Axes>"
      ]
     },
     "execution_count": 12,
     "metadata": {},
     "output_type": "execute_result"
    },
    {
     "data": {
      "image/png": "[encoded data removed]",
      "text/plain": [
       "<Figure size 432x288 with 1 Axes>"
      ]
     },
     "metadata": {
      "needs_background": "light"
     },
     "output_type": "display_data"
    },
    {
     "data": {
      "text/plain": [
       "<Figure size 432x288 with 0 Axes>"
      ]
     },
     "metadata": {},
     "output_type": "display_data"
    }
   ],
   "source": [
    "col = 'weight'\n",
    "wo = [\n",
    " '[0-25)',\n",
    " '[25-50)',\n",
    " '[50-75)',\n",
    " '[75-100)',\n",
    " '[100-125)',\n",
    " '[125-150)',\n",
    " '[150-175)',\n",
    " '[175-200)',\n",
    " '>200',\n",
    "]\n",
    "\n",
    "sns.countplot(df[~(df[col].isnull() | (df[col].isin([0,'?'])))][col], order=wo)\n",
    "plt.xticks(rotation=45)    \n",
    "plt.figure()\n"
   ]
  },
  {
   "cell_type": "markdown",
   "metadata": {},
   "source": [
    "#### Cardinatlity"
   ]
  },
  {
   "cell_type": "code",
   "execution_count": 13,
   "metadata": {},
   "outputs": [],
   "source": [
    "cat_feature_list = ['encounter_id', 'patient_nbr', 'race', 'gender',\n",
    "       'admission_type_id', 'discharge_disposition_id', 'admission_source_id',\n",
    "       'payer_code', 'medical_specialty',\n",
    "       'primary_diagnosis_code', 'other_diagnosis_codes', 'ndc_code',\n",
    "       'max_glu_serum', 'A1Cresult', 'change', 'readmitted']"
   ]
  },
  {
   "cell_type": "code",
   "execution_count": 14,
   "metadata": {},
   "outputs": [
    {
     "data": {
      "text/html": [
       "<div>\n",
       "<style scoped>\n",
       "    .dataframe tbody tr th:only-of-type {\n",
       "        vertical-align: middle;\n",
       "    }\n",
       "\n",
       "    .dataframe tbody tr th {\n",
       "        vertical-align: top;\n",
       "    }\n",
       "\n",
       "    .dataframe thead th {\n",
       "        text-align: right;\n",
       "    }\n",
       "</style>\n",
       "<table border=\"1\" class=\"dataframe\">\n",
       "  <thead>\n",
       "    <tr style=\"text-align: right;\">\n",
       "      <th></th>\n",
       "      <th>columns</th>\n",
       "      <th>cardinality</th>\n",
       "    </tr>\n",
       "  </thead>\n",
       "  <tbody>\n",
       "    <tr>\n",
       "      <th>encounter_id</th>\n",
       "      <td>encounter_id</td>\n",
       "      <td>101766</td>\n",
       "    </tr>\n",
       "    <tr>\n",
       "      <th>patient_nbr</th>\n",
       "      <td>patient_nbr</td>\n",
       "      <td>71518</td>\n",
       "    </tr>\n",
       "    <tr>\n",
       "      <th>race</th>\n",
       "      <td>race</td>\n",
       "      <td>6</td>\n",
       "    </tr>\n",
       "    <tr>\n",
       "      <th>gender</th>\n",
       "      <td>gender</td>\n",
       "      <td>3</td>\n",
       "    </tr>\n",
       "    <tr>\n",
       "      <th>admission_type_id</th>\n",
       "      <td>admission_type_id</td>\n",
       "      <td>8</td>\n",
       "    </tr>\n",
       "    <tr>\n",
       "      <th>discharge_disposition_id</th>\n",
       "      <td>discharge_disposition_id</td>\n",
       "      <td>26</td>\n",
       "    </tr>\n",
       "    <tr>\n",
       "      <th>admission_source_id</th>\n",
       "      <td>admission_source_id</td>\n",
       "      <td>17</td>\n",
       "    </tr>\n",
       "    <tr>\n",
       "      <th>payer_code</th>\n",
       "      <td>payer_code</td>\n",
       "      <td>18</td>\n",
       "    </tr>\n",
       "    <tr>\n",
       "      <th>medical_specialty</th>\n",
       "      <td>medical_specialty</td>\n",
       "      <td>73</td>\n",
       "    </tr>\n",
       "    <tr>\n",
       "      <th>primary_diagnosis_code</th>\n",
       "      <td>primary_diagnosis_code</td>\n",
       "      <td>717</td>\n",
       "    </tr>\n",
       "    <tr>\n",
       "      <th>other_diagnosis_codes</th>\n",
       "      <td>other_diagnosis_codes</td>\n",
       "      <td>19374</td>\n",
       "    </tr>\n",
       "    <tr>\n",
       "      <th>ndc_code</th>\n",
       "      <td>ndc_code</td>\n",
       "      <td>251</td>\n",
       "    </tr>\n",
       "    <tr>\n",
       "      <th>max_glu_serum</th>\n",
       "      <td>max_glu_serum</td>\n",
       "      <td>4</td>\n",
       "    </tr>\n",
       "    <tr>\n",
       "      <th>A1Cresult</th>\n",
       "      <td>A1Cresult</td>\n",
       "      <td>4</td>\n",
       "    </tr>\n",
       "    <tr>\n",
       "      <th>change</th>\n",
       "      <td>change</td>\n",
       "      <td>2</td>\n",
       "    </tr>\n",
       "    <tr>\n",
       "      <th>readmitted</th>\n",
       "      <td>readmitted</td>\n",
       "      <td>3</td>\n",
       "    </tr>\n",
       "  </tbody>\n",
       "</table>\n",
       "</div>"
      ],
      "text/plain": [
       "                                           columns  cardinality\n",
       "encounter_id                          encounter_id       101766\n",
       "patient_nbr                            patient_nbr        71518\n",
       "race                                          race            6\n",
       "gender                                      gender            3\n",
       "admission_type_id                admission_type_id            8\n",
       "discharge_disposition_id  discharge_disposition_id           26\n",
       "admission_source_id            admission_source_id           17\n",
       "payer_code                              payer_code           18\n",
       "medical_specialty                medical_specialty           73\n",
       "primary_diagnosis_code      primary_diagnosis_code          717\n",
       "other_diagnosis_codes        other_diagnosis_codes        19374\n",
       "ndc_code                                  ndc_code          251\n",
       "max_glu_serum                        max_glu_serum            4\n",
       "A1Cresult                                A1Cresult            4\n",
       "change                                      change            2\n",
       "readmitted                              readmitted            3"
      ]
     },
     "execution_count": 14,
     "metadata": {},
     "output_type": "execute_result"
    }
   ],
   "source": [
    "card_df = pd.DataFrame({'columns': df[cat_feature_list].columns, \n",
    "                       'cardinality': df[cat_feature_list].nunique() } )\n",
    "card_df"
   ]
  },
  {
   "cell_type": "markdown",
   "metadata": {},
   "source": [
    "* High cardinality\n",
    "    * Of course encounter_id and patient_nbr due to beeing identifiers\n",
    "    * primary_diagnosis_code - beeing from the ICD9 - CM code set\n",
    "    * other_diagnosis_codes - since its piped two diagnosis, so high number of combinations (could be split again)\n",
    "    * ndc_code medical codes"
   ]
  },
  {
   "cell_type": "code",
   "execution_count": 15,
   "metadata": {
    "scrolled": true
   },
   "outputs": [
    {
     "data": {
      "text/plain": [
       "array(['250.83', '276', '648', '8', '197', '414', '428', '398', '434',\n",
       "       '250.7', '157', '518', '999', '410', '682', '402', '737', '572',\n",
       "       'V57', '189', '786', '427', '996', '277', '584', '462', '473',\n",
       "       '411', '174', '486', '998', '511', '432', '626', '295', '196',\n",
       "       '250.6', '618', '182', '845', '423', '808', '250.4', '722', '403',\n",
       "       '250.11', '784', '707', '440', '151', '715', '997', '198', '564',\n",
       "       '812', '38', '590', '556', '578', '250.32', '433', 'V58', '569',\n",
       "       '185', '536', '255', '250.13', '599', '558', '574', '491', '560',\n",
       "       '244', '250.03', '577', '730', '188', '824', '250.8', '332', '562',\n",
       "       '291', '296', '510', '401', '263', '438', '70', '250.02', '493',\n",
       "       '642', '625', '571', '738', '593', '250.42', '807', '456', '446',\n",
       "       '575', '250.41', '820', '515', '780', '250.22', '995', '235',\n",
       "       '250.82', '721', '787', '162', '724', '282', '514', 'V55', '281',\n",
       "       '250.33', '530', '466', '435', '250.12', 'V53', '789', '566',\n",
       "       '822', '191', '557', '733', '455', '711', '482', '202', '280',\n",
       "       '553', '225', '154', '441', '250.81', '349', '?', '962', '592',\n",
       "       '507', '386', '156', '200', '728', '348', '459', '426', '388',\n",
       "       '607', '337', '82', '531', '596', '288', '656', '573', '492',\n",
       "       '220', '516', '210', '922', '286', '885', '958', '661', '969',\n",
       "       '250.93', '227', '112', '404', '823', '532', '416', '346', '535',\n",
       "       '453', '250', '595', '211', '303', '250.01', '852', '218', '782',\n",
       "       '540', '457', '285', '431', '340', '550', '54', '351', '601',\n",
       "       '723', '555', '153', '443', '380', '204', '424', '241', '358',\n",
       "       '694', '331', '345', '681', '447', '290', '158', '579', '436',\n",
       "       '335', '309', '654', '805', '799', '292', '183', '78', '851',\n",
       "       '458', '586', '311', '892', '305', '293', '415', '591', '794',\n",
       "       '803', '79', '655', '429', '278', '658', '598', '729', '585',\n",
       "       '444', '604', '727', '214', '552', '284', '680', '708', '41',\n",
       "       '644', '481', '821', '413', '437', '968', '756', '632', '359',\n",
       "       '275', '512', '781', '420', '368', '522', '294', '825', '135',\n",
       "       '304', '320', '250.31', '669', '868', '496', '250.43', '826',\n",
       "       '567', '3', '203', '53', '251', '565', '161', '495', '49', '250.1',\n",
       "       '297', '663', '576', '355', '850', '287', '250.2', '611', '840',\n",
       "       '350', '726', '537', '620', '180', '366', '783', '11', '751',\n",
       "       '716', '250.3', '199', '464', '580', '836', '664', '283', '813',\n",
       "       '966', '289', '965', '184', '480', '608', '333', '972', '212',\n",
       "       '117', '788', '924', '959', '621', '238', '785', '714', '942',\n",
       "       '250.23', '710', '47', '933', '508', '478', '844', '7', '736',\n",
       "       '233', '42', '250.5', '397', '395', '201', '421', '253', '250.92',\n",
       "       '600', '494', '977', '39', '659', '312', '614', '647', '652',\n",
       "       '646', '274', '861', '425', '527', '451', '485', '217', '250.53',\n",
       "       '442', '970', '193', '160', '322', '581', '475', '623', '374',\n",
       "       '582', '568', '465', '801', '237', '376', '150', '461', '913',\n",
       "       '226', '617', '987', '641', '298', '790', '336', '362', '228',\n",
       "       '513', '383', '746', '353', '911', '506', '873', '155', '860',\n",
       "       '534', '802', '141', 'V45', '396', '310', '341', '242', '719',\n",
       "       '239', '533', '616', '519', '301', 'V66', '5', '989', '230', '385',\n",
       "       '300', '853', '871', '570', '848', '463', '9', '934', '250.21',\n",
       "       '236', '361', '594', '501', '810', '643', '430', '528', '205',\n",
       "       '791', '983', '992', '490', '172', '171', '622', '306', '863',\n",
       "       '864', '474', '660', '759', '356', '634', '967', '551', '695',\n",
       "       '187', '732', '747', '323', '308', '370', '252', '152', '846',\n",
       "       '164', '365', '718', '48', '266', '720', '94', '344', '797', '170',\n",
       "       '878', '904', 'V56', '882', '843', '709', '973', '454', '686',\n",
       "       '939', '487', '229', '991', '483', '357', '692', '796', '693',\n",
       "       '935', '936', '800', '920', 'V26', '261', '307', '262', '250.9',\n",
       "       '831', '145', '223', 'V71', '839', '685', 'V54', '35', '34', '179',\n",
       "       '964', '136', '324', '389', '815', '334', '143', '526', '588',\n",
       "       '192', 'V67', '394', '917', '88', '219', '325', '792', '717',\n",
       "       '994', '990', '793', '207', '637', '195', '373', '847', '827',\n",
       "       '31', '891', '814', 'V60', '703', '865', '352', '627', '378',\n",
       "       '342', '886', '369', '745', '705', '816', '541', '986', '610',\n",
       "       '633', '640', '753', '173', '835', '379', '445', '272', '382',\n",
       "       '945', '619', '881', '250.52', '866', '405', '916', '215', '893',\n",
       "       '75', '671', '928', '906', '897', '725', '867', '115', '890',\n",
       "       '734', '521', '674', '470', '834', '146', '696', '524', '980',\n",
       "       '691', '384', '142', '879', '250.51', '246', '208', '448', '955',\n",
       "       '653', '149', '245', '735', '883', '854', '952', '838', '194',\n",
       "       'V43', '163', '216', '147', '354', '27', '477', '318', '880',\n",
       "       '921', '377', '471', '683', '175', '602', '250.91', '982', '706',\n",
       "       '375', '417', '131', '347', '870', '148', '862', '61', '817',\n",
       "       '914', '360', '684', '314', 'V63', '36', '57', '240', '915', '971',\n",
       "       '795', '988', '452', '963', '327', '731', '842', 'V25', '645',\n",
       "       '665', '110', '944', '603', '923', '412', '363', '957', '976',\n",
       "       '698', '299', '700', '273', '974', '97', '529', '66', '98', '605',\n",
       "       '941', '52', '806', '84', '271', '837', '657', '895', '338', '523',\n",
       "       '542', '114', '543', '372', 'V70', 'E909', '583', 'V07', '422',\n",
       "       '615', '279', '500', '903', '919', '875', '381', '804', '704',\n",
       "       '23', '58', '649', '832', '133', '975', '833', '391', '690', '10',\n",
       "       'V51'], dtype=object)"
      ]
     },
     "execution_count": 15,
     "metadata": {},
     "output_type": "execute_result"
    }
   ],
   "source": [
    "df['primary_diagnosis_code'].unique()"
   ]
  },
  {
   "cell_type": "markdown",
   "metadata": {},
   "source": [
    "#### Demographic distributions"
   ]
  },
  {
   "cell_type": "code",
   "execution_count": 16,
   "metadata": {
    "scrolled": false
   },
   "outputs": [
    {
     "name": "stderr",
     "output_type": "stream",
     "text": [
      "/home/mkirmse/venv/outfit_ml_lib/lib/python3.7/site-packages/seaborn/_decorators.py:43: FutureWarning: Pass the following variable as a keyword arg: x. From version 0.12, the only valid positional argument will be `data`, and passing other arguments without an explicit keyword will result in an error or misinterpretation.\n",
      "  FutureWarning\n"
     ]
    },
    {
     "data": {
      "text/plain": [
       "(array([0, 1, 2, 3, 4, 5, 6, 7, 8, 9]),\n",
       " [Text(0, 0, '[0-10)'),\n",
       "  Text(1, 0, '[10-20)'),\n",
       "  Text(2, 0, '[20-30)'),\n",
       "  Text(3, 0, '[30-40)'),\n",
       "  Text(4, 0, '[40-50)'),\n",
       "  Text(5, 0, '[50-60)'),\n",
       "  Text(6, 0, '[60-70)'),\n",
       "  Text(7, 0, '[70-80)'),\n",
       "  Text(8, 0, '[80-90)'),\n",
       "  Text(9, 0, '[90-100)')])"
      ]
     },
     "execution_count": 16,
     "metadata": {},
     "output_type": "execute_result"
    },
    {
     "data": {
      "image/png": "[encoded data removed]",
      "text/plain": [
       "<Figure size 432x288 with 1 Axes>"
      ]
     },
     "metadata": {
      "needs_background": "light"
     },
     "output_type": "display_data"
    }
   ],
   "source": [
    "col = 'age'\n",
    "sns.countplot(df['age'])\n",
    "plt.xticks(rotation=45)  "
   ]
  },
  {
   "cell_type": "code",
   "execution_count": 17,
   "metadata": {
    "scrolled": false
   },
   "outputs": [
    {
     "name": "stderr",
     "output_type": "stream",
     "text": [
      "/home/mkirmse/venv/outfit_ml_lib/lib/python3.7/site-packages/seaborn/_decorators.py:43: FutureWarning: Pass the following variable as a keyword arg: x. From version 0.12, the only valid positional argument will be `data`, and passing other arguments without an explicit keyword will result in an error or misinterpretation.\n",
      "  FutureWarning\n"
     ]
    },
    {
     "data": {
      "text/plain": [
       "<AxesSubplot:xlabel='gender', ylabel='count'>"
      ]
     },
     "execution_count": 17,
     "metadata": {},
     "output_type": "execute_result"
    },
    {
     "data": {
      "image/png": "[encoded data removed]",
      "text/plain": [
       "<Figure size 432x288 with 1 Axes>"
      ]
     },
     "metadata": {
      "needs_background": "light"
     },
     "output_type": "display_data"
    }
   ],
   "source": [
    "sns.countplot(df.gender)\n"
   ]
  },
  {
   "cell_type": "code",
   "execution_count": 18,
   "metadata": {},
   "outputs": [
    {
     "data": {
      "text/plain": [
       "<AxesSubplot:xlabel='age', ylabel='count'>"
      ]
     },
     "execution_count": 18,
     "metadata": {},
     "output_type": "execute_result"
    },
    {
     "data": {
      "image/png": "[encoded data removed]",
      "text/plain": [
       "<Figure size 432x288 with 1 Axes>"
      ]
     },
     "metadata": {
      "needs_background": "light"
     },
     "output_type": "display_data"
    }
   ],
   "source": [
    "sns.countplot(x = 'age', hue = 'gender', data = df)\n"
   ]
  },
  {
   "cell_type": "markdown",
   "metadata": {},
   "source": [
    "* Demographics\n",
    "    * Age is mainly above 40 and highest bin is 70-80\n",
    "    * There are slightly more women then men in total\n",
    "    * The genders are similar frequent in the age groups, altough above 70 there are significantly less men. I would guess this to be likely due to lower life expectancy"
   ]
  },
  {
   "cell_type": "markdown",
   "metadata": {},
   "source": [
    "######NOTE: The visualization will only display in Chrome browser. ########\n",
    "# import tensorflow_data_validation as tfdv \n",
    "full_data_stats = tfdv.generate_statistics_from_csv(data_location='./data/final_project_dataset.csv') \n",
    "tfdv.visualize_statistics(full_data_stats)"
   ]
  },
  {
   "cell_type": "markdown",
   "metadata": {},
   "source": [
    "Problem with tensorflow_data_validation. It only works with tensorflow 2.3 but tensorflow probability requires tensorlfow 2.4."
   ]
  },
  {
   "cell_type": "markdown",
   "metadata": {},
   "source": [
    "## Reduce Dimensionality of the NDC Code Feature"
   ]
  },
  {
   "cell_type": "markdown",
   "metadata": {},
   "source": [
    "**Question 3**: NDC codes are a common format to represent the wide variety of drugs that are prescribed for patient care in the United States. The challenge is that there are many codes that map to the same or similar drug. You are provided with the ndc drug lookup file https://github.com/udacity/nd320-c1-emr-data-starter/blob/master/project/data_schema_references/ndc_lookup_table.csv derived from the National Drug Codes List site(https://ndclist.com/). Please use this file to come up with a way to reduce the dimensionality of this field and create a new field in the dataset called \"generic_drug_name\" in the output dataframe. "
   ]
  },
  {
   "cell_type": "code",
   "execution_count": 19,
   "metadata": {},
   "outputs": [],
   "source": [
    "#NDC code lookup file\n",
    "ndc_code_path = \"./medication_lookup_tables/final_ndc_lookup_table\"\n",
    "ndc_code_df = pd.read_csv(ndc_code_path)"
   ]
  },
  {
   "cell_type": "code",
   "execution_count": 20,
   "metadata": {},
   "outputs": [
    {
     "data": {
      "text/html": [
       "<div>\n",
       "<style scoped>\n",
       "    .dataframe tbody tr th:only-of-type {\n",
       "        vertical-align: middle;\n",
       "    }\n",
       "\n",
       "    .dataframe tbody tr th {\n",
       "        vertical-align: top;\n",
       "    }\n",
       "\n",
       "    .dataframe thead th {\n",
       "        text-align: right;\n",
       "    }\n",
       "</style>\n",
       "<table border=\"1\" class=\"dataframe\">\n",
       "  <thead>\n",
       "    <tr style=\"text-align: right;\">\n",
       "      <th></th>\n",
       "      <th>NDC_Code</th>\n",
       "      <th>Proprietary Name</th>\n",
       "      <th>Non-proprietary Name</th>\n",
       "      <th>Dosage Form</th>\n",
       "      <th>Route Name</th>\n",
       "      <th>Company Name</th>\n",
       "      <th>Product Type</th>\n",
       "    </tr>\n",
       "  </thead>\n",
       "  <tbody>\n",
       "    <tr>\n",
       "      <th>0</th>\n",
       "      <td>0087-6060</td>\n",
       "      <td>Glucophage</td>\n",
       "      <td>Metformin Hydrochloride</td>\n",
       "      <td>Tablet, Film Coated</td>\n",
       "      <td>Oral</td>\n",
       "      <td>Bristol-myers Squibb Company</td>\n",
       "      <td>Human Prescription Drug</td>\n",
       "    </tr>\n",
       "    <tr>\n",
       "      <th>1</th>\n",
       "      <td>0087-6063</td>\n",
       "      <td>Glucophage XR</td>\n",
       "      <td>Metformin Hydrochloride</td>\n",
       "      <td>Tablet, Extended Release</td>\n",
       "      <td>Oral</td>\n",
       "      <td>Bristol-myers Squibb Company</td>\n",
       "      <td>Human Prescription Drug</td>\n",
       "    </tr>\n",
       "    <tr>\n",
       "      <th>2</th>\n",
       "      <td>0087-6064</td>\n",
       "      <td>Glucophage XR</td>\n",
       "      <td>Metformin Hydrochloride</td>\n",
       "      <td>Tablet, Extended Release</td>\n",
       "      <td>Oral</td>\n",
       "      <td>Bristol-myers Squibb Company</td>\n",
       "      <td>Human Prescription Drug</td>\n",
       "    </tr>\n",
       "    <tr>\n",
       "      <th>3</th>\n",
       "      <td>0087-6070</td>\n",
       "      <td>Glucophage</td>\n",
       "      <td>Metformin Hydrochloride</td>\n",
       "      <td>Tablet, Film Coated</td>\n",
       "      <td>Oral</td>\n",
       "      <td>Bristol-myers Squibb Company</td>\n",
       "      <td>Human Prescription Drug</td>\n",
       "    </tr>\n",
       "    <tr>\n",
       "      <th>4</th>\n",
       "      <td>0087-6071</td>\n",
       "      <td>Glucophage</td>\n",
       "      <td>Metformin Hydrochloride</td>\n",
       "      <td>Tablet, Film Coated</td>\n",
       "      <td>Oral</td>\n",
       "      <td>Bristol-myers Squibb Company</td>\n",
       "      <td>Human Prescription Drug</td>\n",
       "    </tr>\n",
       "  </tbody>\n",
       "</table>\n",
       "</div>"
      ],
      "text/plain": [
       "    NDC_Code Proprietary Name     Non-proprietary Name  \\\n",
       "0  0087-6060       Glucophage  Metformin Hydrochloride   \n",
       "1  0087-6063    Glucophage XR  Metformin Hydrochloride   \n",
       "2  0087-6064    Glucophage XR  Metformin Hydrochloride   \n",
       "3  0087-6070       Glucophage  Metformin Hydrochloride   \n",
       "4  0087-6071       Glucophage  Metformin Hydrochloride   \n",
       "\n",
       "                Dosage Form Route Name                  Company Name  \\\n",
       "0       Tablet, Film Coated       Oral  Bristol-myers Squibb Company   \n",
       "1  Tablet, Extended Release       Oral  Bristol-myers Squibb Company   \n",
       "2  Tablet, Extended Release       Oral  Bristol-myers Squibb Company   \n",
       "3       Tablet, Film Coated       Oral  Bristol-myers Squibb Company   \n",
       "4       Tablet, Film Coated       Oral  Bristol-myers Squibb Company   \n",
       "\n",
       "              Product Type  \n",
       "0  Human Prescription Drug  \n",
       "1  Human Prescription Drug  \n",
       "2  Human Prescription Drug  \n",
       "3  Human Prescription Drug  \n",
       "4  Human Prescription Drug  "
      ]
     },
     "execution_count": 20,
     "metadata": {},
     "output_type": "execute_result"
    }
   ],
   "source": [
    "ndc_code_df.head()"
   ]
  },
  {
   "cell_type": "code",
   "execution_count": 21,
   "metadata": {},
   "outputs": [],
   "source": [
    "from student_utils import reduce_dimension_ndc"
   ]
  },
  {
   "cell_type": "code",
   "execution_count": 22,
   "metadata": {},
   "outputs": [
    {
     "data": {
      "text/plain": [
       "0              NaN\n",
       "1    Human Insulin\n",
       "2        Glipizide\n",
       "3    Human Insulin\n",
       "4        Glipizide\n",
       "Name: generic_drug_name, dtype: object"
      ]
     },
     "execution_count": 22,
     "metadata": {},
     "output_type": "execute_result"
    }
   ],
   "source": [
    "reduce_dim_df = reduce_dimension_ndc(df, ndc_code_df)\n",
    "reduce_dim_df['generic_drug_name'].head()"
   ]
  },
  {
   "cell_type": "code",
   "execution_count": 23,
   "metadata": {},
   "outputs": [],
   "source": [
    "# Number of unique values should be less for the new output field\n",
    "assert df['ndc_code'].nunique() > reduce_dim_df['generic_drug_name'].nunique()"
   ]
  },
  {
   "cell_type": "markdown",
   "metadata": {},
   "source": [
    "## Select First Encounter for each Patient "
   ]
  },
  {
   "cell_type": "markdown",
   "metadata": {},
   "source": [
    "**Question 4**: In order to simplify the aggregation of data for the model, we will only select the first encounter for each patient in the dataset. This is to reduce the risk of data leakage of future patient encounters and to reduce complexity of the data transformation and modeling steps. We will assume that sorting in numerical order on the encounter_id provides the time horizon for determining which encounters come before and after another."
   ]
  },
  {
   "cell_type": "code",
   "execution_count": 24,
   "metadata": {},
   "outputs": [],
   "source": [
    "from student_utils import select_first_encounter\n",
    "first_encounter_df = select_first_encounter(reduce_dim_df)"
   ]
  },
  {
   "cell_type": "code",
   "execution_count": 25,
   "metadata": {},
   "outputs": [
    {
     "data": {
      "text/plain": [
       "101754"
      ]
     },
     "execution_count": 25,
     "metadata": {},
     "output_type": "execute_result"
    }
   ],
   "source": [
    "len(first_encounter_df)"
   ]
  },
  {
   "cell_type": "code",
   "execution_count": 26,
   "metadata": {},
   "outputs": [
    {
     "name": "stdout",
     "output_type": "stream",
     "text": [
      "Number of unique patients:71518\n",
      "Number of unique encounters:71518\n",
      "Tests passed!!\n"
     ]
    }
   ],
   "source": [
    "# unique patients in transformed dataset\n",
    "unique_patients = first_encounter_df['patient_nbr'].nunique()\n",
    "print(\"Number of unique patients:{}\".format(unique_patients))\n",
    "\n",
    "# unique encounters in transformed dataset\n",
    "unique_encounters = first_encounter_df['encounter_id'].nunique()\n",
    "print(\"Number of unique encounters:{}\".format(unique_encounters))\n",
    "\n",
    "original_unique_patient_number = reduce_dim_df['patient_nbr'].nunique()\n",
    "# number of unique patients should be equal to the number of unique encounters and patients in the final dataset\n",
    "assert original_unique_patient_number == unique_patients\n",
    "assert original_unique_patient_number == unique_encounters\n",
    "print(\"Tests passed!!\")"
   ]
  },
  {
   "cell_type": "markdown",
   "metadata": {},
   "source": [
    "## Aggregate Dataset to Right Level for Modeling "
   ]
  },
  {
   "cell_type": "markdown",
   "metadata": {},
   "source": [
    "In order to provide a broad scope of the steps and to prevent students from getting stuck with data transformations, we have selected the aggregation columns and provided a function to build the dataset at the appropriate level. The 'aggregate_dataset\" function that you can find in the 'utils.py' file can take the preceding dataframe with the 'generic_drug_name' field and transform the data appropriately for the project. \n",
    "\n",
    "To make it simpler for students, we are creating dummy columns for each unique generic drug name and adding those are input features to the model. There are other options for data representation but this is out of scope for the time constraints of the course."
   ]
  },
  {
   "cell_type": "code",
   "execution_count": 27,
   "metadata": {},
   "outputs": [
    {
     "name": "stderr",
     "output_type": "stream",
     "text": [
      "/home/mkirmse/projects/private/udacity/nd320-c1-emr-data-starter/project/starter_code/utils.py:10: FutureWarning: Indexing with multiple keys (implicitly converted to a tuple of keys) will be deprecated, use a list instead.\n",
      "  array_field].apply(lambda x: x[array_field].values.tolist()).reset_index().rename(columns={\n"
     ]
    }
   ],
   "source": [
    "exclusion_list = ['generic_drug_name','ndc_code']\n",
    "grouping_field_list = [c for c in first_encounter_df.columns if c not in exclusion_list]\n",
    "agg_drug_df, ndc_col_list = aggregate_dataset(first_encounter_df, grouping_field_list, 'generic_drug_name')"
   ]
  },
  {
   "cell_type": "code",
   "execution_count": 28,
   "metadata": {},
   "outputs": [],
   "source": [
    "assert len(agg_drug_df) == agg_drug_df['patient_nbr'].nunique() == agg_drug_df['encounter_id'].nunique()"
   ]
  },
  {
   "cell_type": "markdown",
   "metadata": {},
   "source": [
    "## Prepare Fields and Cast Dataset "
   ]
  },
  {
   "cell_type": "markdown",
   "metadata": {},
   "source": [
    "### Feature Selection"
   ]
  },
  {
   "cell_type": "markdown",
   "metadata": {},
   "source": [
    "**Question 5**: After you have aggregated the dataset to the right level, we can do feature selection (we will include the ndc_col_list, dummy column features too). In the block below, please select the categorical and numerical features that you will use for the model, so that we can create a dataset subset. \n",
    "\n",
    "For the payer_code and weight fields, please provide whether you think we should include/exclude the field in our model and give a justification/rationale for this based off of the statistics of the data. Feel free to use visualizations or summary statistics to support your choice."
   ]
  },
  {
   "cell_type": "markdown",
   "metadata": {},
   "source": [
    "**Student response:** The weight field should be exluded as 97% of the values are unknown and hence there is limited predictive value. The payer code also has a high fraction of unknown values, but the remaining once could be usefull as proxy for socio-demographic status. At the same time it could bias the model more. I would keep it in for now and see if it has predictive value or mainly biases the model."
   ]
  },
  {
   "cell_type": "code",
   "execution_count": 29,
   "metadata": {},
   "outputs": [
    {
     "data": {
      "text/plain": [
       "<AxesSubplot:>"
      ]
     },
     "execution_count": 29,
     "metadata": {},
     "output_type": "execute_result"
    },
    {
     "data": {
      "image/png": "[encoded data removed]",
      "text/plain": [
       "<Figure size 432x288 with 1 Axes>"
      ]
     },
     "metadata": {
      "needs_background": "light"
     },
     "output_type": "display_data"
    }
   ],
   "source": [
    "# weight\n",
    "# already bucketized\n",
    "# but 97% are ? => not usable/ properly imputable\n",
    "agg_drug_df.weight.value_counts().plot(kind = 'bar')"
   ]
  },
  {
   "cell_type": "code",
   "execution_count": 30,
   "metadata": {
    "scrolled": true
   },
   "outputs": [
    {
     "data": {
      "text/plain": [
       "<AxesSubplot:>"
      ]
     },
     "execution_count": 30,
     "metadata": {},
     "output_type": "execute_result"
    },
    {
     "data": {
      "image/png": "[encoded data removed]",
      "text/plain": [
       "<Figure size 432x288 with 1 Axes>"
      ]
     },
     "metadata": {
      "needs_background": "light"
     },
     "output_type": "display_data"
    }
   ],
   "source": [
    "# payer_code\n",
    "# has also a high percentage of unknown but could mark them as unknown\n",
    "# might be usefull as a proxy for socio demographic status\n",
    "agg_drug_df.payer_code.value_counts().plot(kind = 'bar')"
   ]
  },
  {
   "cell_type": "code",
   "execution_count": 31,
   "metadata": {},
   "outputs": [
    {
     "data": {
      "text/plain": [
       "<AxesSubplot:>"
      ]
     },
     "execution_count": 31,
     "metadata": {},
     "output_type": "execute_result"
    },
    {
     "data": {
      "image/png": "[encoded data removed]",
      "text/plain": [
       "<Figure size 432x288 with 1 Axes>"
      ]
     },
     "metadata": {
      "needs_background": "light"
     },
     "output_type": "display_data"
    }
   ],
   "source": [
    "# medical_specialty\n",
    "# has also high unknown rate but might be usefull as well... check later\n",
    "agg_drug_df.medical_specialty.value_counts().plot(kind = 'bar')"
   ]
  },
  {
   "cell_type": "code",
   "execution_count": 32,
   "metadata": {
    "scrolled": true
   },
   "outputs": [
    {
     "data": {
      "text/plain": [
       "['time_in_hospital',\n",
       " 'number_outpatient',\n",
       " 'number_inpatient',\n",
       " 'number_emergency',\n",
       " 'num_lab_procedures',\n",
       " 'number_diagnoses',\n",
       " 'num_medications']"
      ]
     },
     "execution_count": 32,
     "metadata": {},
     "output_type": "execute_result"
    }
   ],
   "source": [
    "num_features"
   ]
  },
  {
   "cell_type": "code",
   "execution_count": 33,
   "metadata": {},
   "outputs": [],
   "source": [
    "'''\n",
    "Please update the list to include the features you think are appropriate for the model \n",
    "and the field that we will be using to train the model. There are three required demographic features for the model \n",
    "and I have inserted a list with them already in the categorical list. \n",
    "These will be required for later steps when analyzing data splits and model biases.\n",
    "'''\n",
    "required_demo_col_list = ['race', 'gender', 'age']\n",
    "student_categorical_col_list = [\n",
    " 'admission_type_id',\n",
    " #'discharge_disposition_id', not available during prediction\n",
    " 'admission_source_id',\n",
    " 'payer_code',\n",
    " 'medical_specialty',\n",
    " 'primary_diagnosis_code',\n",
    " 'other_diagnosis_codes',\n",
    " 'max_glu_serum',\n",
    " 'A1Cresult',\n",
    " #'change', should also not be available during prediction\n",
    " #'readmitted'\n",
    "] + required_demo_col_list + ndc_col_list\n",
    "student_numerical_col_list = [ \n",
    " 'number_outpatient',\n",
    " 'number_inpatient',\n",
    " 'number_emergency',\n",
    " 'num_lab_procedures',\n",
    " 'number_diagnoses',\n",
    " 'num_medications' ]\n",
    "PREDICTOR_FIELD = 'time_in_hospital'"
   ]
  },
  {
   "cell_type": "code",
   "execution_count": 34,
   "metadata": {},
   "outputs": [],
   "source": [
    "agg_drug_df[student_numerical_col_list] = agg_drug_df[student_numerical_col_list].astype(float)"
   ]
  },
  {
   "cell_type": "code",
   "execution_count": 35,
   "metadata": {},
   "outputs": [],
   "source": [
    "def select_model_features(df, categorical_col_list, numerical_col_list, PREDICTOR_FIELD, grouping_key='patient_nbr'):\n",
    "    selected_col_list = [grouping_key] + [PREDICTOR_FIELD] + categorical_col_list + numerical_col_list   \n",
    "    return agg_drug_df[selected_col_list]\n"
   ]
  },
  {
   "cell_type": "code",
   "execution_count": 36,
   "metadata": {},
   "outputs": [],
   "source": [
    "selected_features_df = select_model_features(agg_drug_df, student_categorical_col_list, student_numerical_col_list,\n",
    "                                            PREDICTOR_FIELD)"
   ]
  },
  {
   "cell_type": "markdown",
   "metadata": {},
   "source": [
    "### Preprocess Dataset - Casting and Imputing  "
   ]
  },
  {
   "cell_type": "markdown",
   "metadata": {},
   "source": [
    "We will cast and impute the dataset before splitting so that we do not have to repeat these steps across the splits in the next step. For imputing, there can be deeper analysis into which features to impute and how to impute but for the sake of time, we are taking a general strategy of imputing zero for only numerical features. \n",
    "\n",
    "OPTIONAL: What are some potential issues with this approach? Can you recommend a better way and also implement it?"
   ]
  },
  {
   "cell_type": "code",
   "execution_count": 37,
   "metadata": {},
   "outputs": [
    {
     "name": "stderr",
     "output_type": "stream",
     "text": [
      "/home/mkirmse/projects/private/udacity/nd320-c1-emr-data-starter/project/starter_code/utils.py:29: SettingWithCopyWarning: \n",
      "A value is trying to be set on a copy of a slice from a DataFrame.\n",
      "Try using .loc[row_indexer,col_indexer] = value instead\n",
      "\n",
      "See the caveats in the documentation: https://pandas.pydata.org/pandas-docs/stable/user_guide/indexing.html#returning-a-view-versus-a-copy\n",
      "  df[predictor] = df[predictor].astype(float)\n",
      "/home/mkirmse/projects/private/udacity/nd320-c1-emr-data-starter/project/starter_code/utils.py:31: SettingWithCopyWarning: \n",
      "A value is trying to be set on a copy of a slice from a DataFrame.\n",
      "Try using .loc[row_indexer,col_indexer] = value instead\n",
      "\n",
      "See the caveats in the documentation: https://pandas.pydata.org/pandas-docs/stable/user_guide/indexing.html#returning-a-view-versus-a-copy\n",
      "  df[c] = cast_df(df, c, d_type=str)\n",
      "/home/mkirmse/projects/private/udacity/nd320-c1-emr-data-starter/project/starter_code/utils.py:33: SettingWithCopyWarning: \n",
      "A value is trying to be set on a copy of a slice from a DataFrame.\n",
      "Try using .loc[row_indexer,col_indexer] = value instead\n",
      "\n",
      "See the caveats in the documentation: https://pandas.pydata.org/pandas-docs/stable/user_guide/indexing.html#returning-a-view-versus-a-copy\n",
      "  df[numerical_column] = impute_df(df, numerical_column, numerical_impute_value)\n"
     ]
    }
   ],
   "source": [
    "processed_df = preprocess_df(selected_features_df, student_categorical_col_list, \n",
    "        student_numerical_col_list, PREDICTOR_FIELD, categorical_impute_value='nan', numerical_impute_value=0)"
   ]
  },
  {
   "cell_type": "markdown",
   "metadata": {},
   "source": [
    "## Split Dataset into Train, Validation, and Test Partitions"
   ]
  },
  {
   "cell_type": "markdown",
   "metadata": {},
   "source": [
    "**Question 6**: In order to prepare the data for being trained and evaluated by a deep learning model, we will split the dataset into three partitions, with the validation partition used for optimizing the model hyperparameters during training. One of the key parts is that we need to be sure that the data does not accidently leak across partitions.\n",
    "\n",
    "Please complete the function below to split the input dataset into three partitions(train, validation, test) with the following requirements.\n",
    "- Approximately 60%/20%/20%  train/validation/test split\n",
    "- Randomly sample different patients into each data partition\n",
    "- **IMPORTANT** Make sure that a patient's data is not in more than one partition, so that we can avoid possible data leakage.\n",
    "- Make sure that the total number of unique patients across the splits is equal to the total number of unique patients in the original dataset\n",
    "- Total number of rows in original dataset = sum of rows across all three dataset partitions"
   ]
  },
  {
   "cell_type": "code",
   "execution_count": 38,
   "metadata": {},
   "outputs": [],
   "source": [
    "%autoreload\n",
    "from student_utils import patient_dataset_splitter\n",
    "d_train, d_val, d_test = patient_dataset_splitter(processed_df, 'patient_nbr')"
   ]
  },
  {
   "cell_type": "code",
   "execution_count": 39,
   "metadata": {},
   "outputs": [
    {
     "name": "stdout",
     "output_type": "stream",
     "text": [
      "Test passed for number of total rows equal!\n"
     ]
    }
   ],
   "source": [
    "assert len(d_train) + len(d_val) + len(d_test) == len(processed_df)\n",
    "print(\"Test passed for number of total rows equal!\")"
   ]
  },
  {
   "cell_type": "code",
   "execution_count": 40,
   "metadata": {},
   "outputs": [
    {
     "name": "stdout",
     "output_type": "stream",
     "text": [
      "Test passed for number of unique patients being equal!\n"
     ]
    }
   ],
   "source": [
    "assert (d_train['patient_nbr'].nunique() + d_val['patient_nbr'].nunique() + d_test['patient_nbr'].nunique()) == agg_drug_df['patient_nbr'].nunique()\n",
    "print(\"Test passed for number of unique patients being equal!\")"
   ]
  },
  {
   "cell_type": "markdown",
   "metadata": {},
   "source": [
    "## Demographic Representation Analysis of Split"
   ]
  },
  {
   "cell_type": "markdown",
   "metadata": {},
   "source": [
    "After the split, we should check to see the distribution of key features/groups and make sure that there is representative samples across the partitions. The show_group_stats_viz function in the utils.py file can be used to group and visualize different groups and dataframe partitions."
   ]
  },
  {
   "cell_type": "markdown",
   "metadata": {},
   "source": [
    "### Label Distribution Across Partitions"
   ]
  },
  {
   "cell_type": "markdown",
   "metadata": {},
   "source": [
    "Below you can see the distributution of the label across your splits. Are the histogram distribution shapes similar across partitions?"
   ]
  },
  {
   "cell_type": "code",
   "execution_count": 41,
   "metadata": {},
   "outputs": [
    {
     "name": "stdout",
     "output_type": "stream",
     "text": [
      "time_in_hospital\n",
      "1.0     10717\n",
      "2.0     12397\n",
      "3.0     12701\n",
      "4.0      9567\n",
      "5.0      6839\n",
      "6.0      5171\n",
      "7.0      3999\n",
      "8.0      2919\n",
      "9.0      1990\n",
      "10.0     1558\n",
      "11.0     1241\n",
      "12.0      955\n",
      "13.0      795\n",
      "14.0      669\n",
      "dtype: int64\n",
      "AxesSubplot(0.125,0.125;0.775x0.755)\n"
     ]
    },
    {
     "data": {
      "image/png": "[encoded data removed]",
      "text/plain": [
       "<Figure size 432x288 with 1 Axes>"
      ]
     },
     "metadata": {
      "needs_background": "light"
     },
     "output_type": "display_data"
    }
   ],
   "source": [
    "show_group_stats_viz(processed_df, PREDICTOR_FIELD)"
   ]
  },
  {
   "cell_type": "code",
   "execution_count": 42,
   "metadata": {},
   "outputs": [
    {
     "name": "stdout",
     "output_type": "stream",
     "text": [
      "time_in_hospital\n",
      "1.0     6492\n",
      "2.0     7385\n",
      "3.0     7607\n",
      "4.0     5729\n",
      "5.0     4139\n",
      "6.0     3094\n",
      "7.0     2416\n",
      "8.0     1744\n",
      "9.0     1165\n",
      "10.0     948\n",
      "11.0     736\n",
      "12.0     590\n",
      "13.0     468\n",
      "14.0     397\n",
      "dtype: int64\n",
      "AxesSubplot(0.125,0.125;0.775x0.755)\n"
     ]
    },
    {
     "data": {
      "image/png": "[encoded data removed]",
      "text/plain": [
       "<Figure size 432x288 with 1 Axes>"
      ]
     },
     "metadata": {
      "needs_background": "light"
     },
     "output_type": "display_data"
    }
   ],
   "source": [
    "show_group_stats_viz(d_train, PREDICTOR_FIELD)"
   ]
  },
  {
   "cell_type": "code",
   "execution_count": 43,
   "metadata": {},
   "outputs": [
    {
     "name": "stdout",
     "output_type": "stream",
     "text": [
      "time_in_hospital\n",
      "1.0     2085\n",
      "2.0     2444\n",
      "3.0     2589\n",
      "4.0     1935\n",
      "5.0     1348\n",
      "6.0     1026\n",
      "7.0      759\n",
      "8.0      611\n",
      "9.0      426\n",
      "10.0     303\n",
      "11.0     274\n",
      "12.0     193\n",
      "13.0     179\n",
      "14.0     132\n",
      "dtype: int64\n",
      "AxesSubplot(0.125,0.125;0.775x0.755)\n"
     ]
    },
    {
     "data": {
      "image/png": "[encoded data removed]",
      "text/plain": [
       "<Figure size 432x288 with 1 Axes>"
      ]
     },
     "metadata": {
      "needs_background": "light"
     },
     "output_type": "display_data"
    }
   ],
   "source": [
    "show_group_stats_viz(d_test, PREDICTOR_FIELD)"
   ]
  },
  {
   "cell_type": "markdown",
   "metadata": {},
   "source": [
    "## Demographic Group Analysis"
   ]
  },
  {
   "cell_type": "markdown",
   "metadata": {},
   "source": [
    "We should check that our partitions/splits of the dataset are similar in terms of their demographic profiles. Below you can see how we might visualize and analyze the full dataset vs. the partitions."
   ]
  },
  {
   "cell_type": "code",
   "execution_count": 44,
   "metadata": {},
   "outputs": [
    {
     "name": "stdout",
     "output_type": "stream",
     "text": [
      "gender\n",
      "Female             38025\n",
      "Male               33490\n",
      "Unknown/Invalid        3\n",
      "dtype: int64\n",
      "AxesSubplot(0.125,0.125;0.775x0.755)\n"
     ]
    },
    {
     "data": {
      "image/png": "[encoded data removed]",
      "text/plain": [
       "<Figure size 432x288 with 1 Axes>"
      ]
     },
     "metadata": {
      "needs_background": "light"
     },
     "output_type": "display_data"
    }
   ],
   "source": [
    "# Full dataset before splitting\n",
    "patient_demo_features = ['race', 'gender', 'age', 'patient_nbr']\n",
    "patient_group_analysis_df = processed_df[patient_demo_features].groupby('patient_nbr').head(1).reset_index(drop=True)\n",
    "show_group_stats_viz(patient_group_analysis_df, 'gender')"
   ]
  },
  {
   "cell_type": "code",
   "execution_count": 45,
   "metadata": {},
   "outputs": [
    {
     "name": "stdout",
     "output_type": "stream",
     "text": [
      "gender\n",
      "Female             22827\n",
      "Male               20081\n",
      "Unknown/Invalid        2\n",
      "dtype: int64\n",
      "AxesSubplot(0.125,0.125;0.775x0.755)\n"
     ]
    },
    {
     "data": {
      "image/png": "[encoded data removed]",
      "text/plain": [
       "<Figure size 432x288 with 1 Axes>"
      ]
     },
     "metadata": {
      "needs_background": "light"
     },
     "output_type": "display_data"
    }
   ],
   "source": [
    "# Training partition\n",
    "show_group_stats_viz(d_train, 'gender')"
   ]
  },
  {
   "cell_type": "code",
   "execution_count": 46,
   "metadata": {},
   "outputs": [
    {
     "name": "stdout",
     "output_type": "stream",
     "text": [
      "gender\n",
      "Female             7582\n",
      "Male               6721\n",
      "Unknown/Invalid       1\n",
      "dtype: int64\n",
      "AxesSubplot(0.125,0.125;0.775x0.755)\n"
     ]
    },
    {
     "data": {
      "image/png": "[encoded data removed]",
      "text/plain": [
       "<Figure size 432x288 with 1 Axes>"
      ]
     },
     "metadata": {
      "needs_background": "light"
     },
     "output_type": "display_data"
    }
   ],
   "source": [
    "# Test partition\n",
    "show_group_stats_viz(d_test, 'gender')"
   ]
  },
  {
   "cell_type": "markdown",
   "metadata": {},
   "source": [
    "## Convert Dataset Splits to TF Dataset"
   ]
  },
  {
   "cell_type": "markdown",
   "metadata": {},
   "source": [
    "We have provided you the function to convert the Pandas dataframe to TF tensors using the TF Dataset API. \n",
    "Please note that this is not a scalable method and for larger datasets, the 'make_csv_dataset' method is recommended -https://www.tensorflow.org/api_docs/python/tf/data/experimental/make_csv_dataset."
   ]
  },
  {
   "cell_type": "code",
   "execution_count": 47,
   "metadata": {},
   "outputs": [
    {
     "data": {
      "text/plain": [
       "55971    0.0\n",
       "58027    2.0\n",
       "46300    0.0\n",
       "35495    0.0\n",
       "38852    1.0\n",
       "        ... \n",
       "10507    0.0\n",
       "67861    0.0\n",
       "48509    0.0\n",
       "12132    0.0\n",
       "45524    0.0\n",
       "Name: number_emergency, Length: 42910, dtype: float64"
      ]
     },
     "execution_count": 47,
     "metadata": {},
     "output_type": "execute_result"
    }
   ],
   "source": [
    "d_train.number_emergency"
   ]
  },
  {
   "cell_type": "code",
   "execution_count": 48,
   "metadata": {},
   "outputs": [],
   "source": [
    "# Convert dataset from Pandas dataframes to TF dataset \n",
    "batch_size = 128\n",
    "diabetes_train_ds = df_to_dataset(d_train, PREDICTOR_FIELD, batch_size=batch_size)\n",
    "diabetes_val_ds = df_to_dataset(d_val, PREDICTOR_FIELD, batch_size=batch_size)\n",
    "diabetes_test_ds = df_to_dataset(d_test, PREDICTOR_FIELD, batch_size=batch_size)"
   ]
  },
  {
   "cell_type": "code",
   "execution_count": 49,
   "metadata": {},
   "outputs": [],
   "source": [
    "# We use this sample of the dataset to show transformations later\n",
    "diabetes_batch = next(iter(diabetes_train_ds))[0]\n",
    "def demo(feature_column, example_batch):\n",
    "    feature_layer = layers.DenseFeatures(feature_column)\n",
    "    print(feature_layer(example_batch))"
   ]
  },
  {
   "cell_type": "code",
   "execution_count": 50,
   "metadata": {},
   "outputs": [
    {
     "data": {
      "text/plain": [
       "<tf.Tensor: shape=(128,), dtype=float64, numpy=\n",
       "array([ 6., 14., 14.,  4.,  5.,  7.,  4.,  5.,  4.,  3.,  1.,  4.,  3.,\n",
       "        3.,  4.,  4.,  2.,  4., 12.,  9.,  5.,  4.,  1.,  3.,  2.,  4.,\n",
       "        1.,  5.,  3.,  3.,  6., 13.,  2.,  7.,  2.,  8.,  6.,  1.,  5.,\n",
       "        3.,  2.,  7.,  1.,  1.,  2.,  4.,  5.,  3., 12.,  7.,  4.,  4.,\n",
       "        6.,  7.,  2.,  8.,  5.,  1.,  2.,  1.,  2.,  3.,  2.,  9.,  5.,\n",
       "        2.,  1.,  2.,  3., 12.,  6.,  1.,  1.,  1.,  2., 11.,  3.,  5.,\n",
       "        5.,  2.,  7.,  5.,  3.,  8.,  4.,  5.,  2.,  5.,  1.,  1.,  1.,\n",
       "        2.,  2.,  1.,  9., 12.,  1.,  3.,  5.,  9.,  4., 13., 13.,  6.,\n",
       "        6.,  2.,  3.,  3.,  4.,  4.,  1.,  8.,  4.,  3.,  3.,  3.,  2.,\n",
       "        3.,  3.,  3.,  3.,  2.,  3., 12.,  4.,  8.,  4.,  3.])>"
      ]
     },
     "execution_count": 50,
     "metadata": {},
     "output_type": "execute_result"
    }
   ],
   "source": [
    "next(iter(diabetes_train_ds))[1]"
   ]
  },
  {
   "cell_type": "markdown",
   "metadata": {},
   "source": [
    "# 4. Create Categorical Features with TF Feature Columns"
   ]
  },
  {
   "cell_type": "markdown",
   "metadata": {},
   "source": [
    "## Build Vocabulary for Categorical Features"
   ]
  },
  {
   "cell_type": "markdown",
   "metadata": {},
   "source": [
    "Before we can create the TF categorical features, we must first create the vocab files with the unique values for a given field that are from the **training** dataset. Below we have provided a function that you can use that only requires providing the pandas train dataset partition and the list of the categorical columns in a list format. The output variable 'vocab_file_list' will be a list of the file paths that can be used in the next step for creating the categorical features."
   ]
  },
  {
   "cell_type": "code",
   "execution_count": 51,
   "metadata": {},
   "outputs": [],
   "source": [
    "vocab_file_list = build_vocab_files(d_train, student_categorical_col_list)"
   ]
  },
  {
   "cell_type": "markdown",
   "metadata": {},
   "source": [
    "## Create Categorical Features with Tensorflow Feature Column API"
   ]
  },
  {
   "cell_type": "markdown",
   "metadata": {},
   "source": [
    "**Question 7**: Using the vocab file list from above that was derived fromt the features you selected earlier, please create categorical features with the Tensorflow Feature Column API, https://www.tensorflow.org/api_docs/python/tf/feature_column. Below is a function to help guide you."
   ]
  },
  {
   "cell_type": "code",
   "execution_count": 141,
   "metadata": {},
   "outputs": [
    {
     "name": "stdout",
     "output_type": "stream",
     "text": [
      "INFO:tensorflow:vocabulary_size = 9 in admission_type_id is inferred from the number of elements in the vocabulary_file ./diabetes_vocab/admission_type_id_vocab.txt.\n"
     ]
    },
    {
     "name": "stderr",
     "output_type": "stream",
     "text": [
      "INFO:tensorflow:vocabulary_size = 9 in admission_type_id is inferred from the number of elements in the vocabulary_file ./diabetes_vocab/admission_type_id_vocab.txt.\n"
     ]
    },
    {
     "name": "stdout",
     "output_type": "stream",
     "text": [
      "INFO:tensorflow:vocabulary_size = 17 in admission_source_id is inferred from the number of elements in the vocabulary_file ./diabetes_vocab/admission_source_id_vocab.txt.\n"
     ]
    },
    {
     "name": "stderr",
     "output_type": "stream",
     "text": [
      "INFO:tensorflow:vocabulary_size = 17 in admission_source_id is inferred from the number of elements in the vocabulary_file ./diabetes_vocab/admission_source_id_vocab.txt.\n"
     ]
    },
    {
     "name": "stdout",
     "output_type": "stream",
     "text": [
      "INFO:tensorflow:vocabulary_size = 19 in payer_code is inferred from the number of elements in the vocabulary_file ./diabetes_vocab/payer_code_vocab.txt.\n"
     ]
    },
    {
     "name": "stderr",
     "output_type": "stream",
     "text": [
      "INFO:tensorflow:vocabulary_size = 19 in payer_code is inferred from the number of elements in the vocabulary_file ./diabetes_vocab/payer_code_vocab.txt.\n"
     ]
    },
    {
     "name": "stdout",
     "output_type": "stream",
     "text": [
      "INFO:tensorflow:vocabulary_size = 68 in medical_specialty is inferred from the number of elements in the vocabulary_file ./diabetes_vocab/medical_specialty_vocab.txt.\n"
     ]
    },
    {
     "name": "stderr",
     "output_type": "stream",
     "text": [
      "INFO:tensorflow:vocabulary_size = 68 in medical_specialty is inferred from the number of elements in the vocabulary_file ./diabetes_vocab/medical_specialty_vocab.txt.\n"
     ]
    },
    {
     "name": "stdout",
     "output_type": "stream",
     "text": [
      "INFO:tensorflow:vocabulary_size = 639 in primary_diagnosis_code is inferred from the number of elements in the vocabulary_file ./diabetes_vocab/primary_diagnosis_code_vocab.txt.\n"
     ]
    },
    {
     "name": "stderr",
     "output_type": "stream",
     "text": [
      "INFO:tensorflow:vocabulary_size = 639 in primary_diagnosis_code is inferred from the number of elements in the vocabulary_file ./diabetes_vocab/primary_diagnosis_code_vocab.txt.\n"
     ]
    },
    {
     "name": "stdout",
     "output_type": "stream",
     "text": [
      "INFO:tensorflow:vocabulary_size = 11467 in other_diagnosis_codes is inferred from the number of elements in the vocabulary_file ./diabetes_vocab/other_diagnosis_codes_vocab.txt.\n"
     ]
    },
    {
     "name": "stderr",
     "output_type": "stream",
     "text": [
      "INFO:tensorflow:vocabulary_size = 11467 in other_diagnosis_codes is inferred from the number of elements in the vocabulary_file ./diabetes_vocab/other_diagnosis_codes_vocab.txt.\n"
     ]
    },
    {
     "name": "stdout",
     "output_type": "stream",
     "text": [
      "INFO:tensorflow:vocabulary_size = 5 in max_glu_serum is inferred from the number of elements in the vocabulary_file ./diabetes_vocab/max_glu_serum_vocab.txt.\n"
     ]
    },
    {
     "name": "stderr",
     "output_type": "stream",
     "text": [
      "INFO:tensorflow:vocabulary_size = 5 in max_glu_serum is inferred from the number of elements in the vocabulary_file ./diabetes_vocab/max_glu_serum_vocab.txt.\n"
     ]
    },
    {
     "name": "stdout",
     "output_type": "stream",
     "text": [
      "INFO:tensorflow:vocabulary_size = 5 in A1Cresult is inferred from the number of elements in the vocabulary_file ./diabetes_vocab/A1Cresult_vocab.txt.\n"
     ]
    },
    {
     "name": "stderr",
     "output_type": "stream",
     "text": [
      "INFO:tensorflow:vocabulary_size = 5 in A1Cresult is inferred from the number of elements in the vocabulary_file ./diabetes_vocab/A1Cresult_vocab.txt.\n"
     ]
    },
    {
     "name": "stdout",
     "output_type": "stream",
     "text": [
      "INFO:tensorflow:vocabulary_size = 7 in race is inferred from the number of elements in the vocabulary_file ./diabetes_vocab/race_vocab.txt.\n"
     ]
    },
    {
     "name": "stderr",
     "output_type": "stream",
     "text": [
      "INFO:tensorflow:vocabulary_size = 7 in race is inferred from the number of elements in the vocabulary_file ./diabetes_vocab/race_vocab.txt.\n"
     ]
    },
    {
     "name": "stdout",
     "output_type": "stream",
     "text": [
      "INFO:tensorflow:vocabulary_size = 4 in gender is inferred from the number of elements in the vocabulary_file ./diabetes_vocab/gender_vocab.txt.\n"
     ]
    },
    {
     "name": "stderr",
     "output_type": "stream",
     "text": [
      "INFO:tensorflow:vocabulary_size = 4 in gender is inferred from the number of elements in the vocabulary_file ./diabetes_vocab/gender_vocab.txt.\n"
     ]
    },
    {
     "name": "stdout",
     "output_type": "stream",
     "text": [
      "INFO:tensorflow:vocabulary_size = 11 in age is inferred from the number of elements in the vocabulary_file ./diabetes_vocab/age_vocab.txt.\n"
     ]
    },
    {
     "name": "stderr",
     "output_type": "stream",
     "text": [
      "INFO:tensorflow:vocabulary_size = 11 in age is inferred from the number of elements in the vocabulary_file ./diabetes_vocab/age_vocab.txt.\n"
     ]
    },
    {
     "name": "stdout",
     "output_type": "stream",
     "text": [
      "INFO:tensorflow:vocabulary_size = 4 in Acarbose is inferred from the number of elements in the vocabulary_file ./diabetes_vocab/Acarbose_vocab.txt.\n"
     ]
    },
    {
     "name": "stderr",
     "output_type": "stream",
     "text": [
      "INFO:tensorflow:vocabulary_size = 4 in Acarbose is inferred from the number of elements in the vocabulary_file ./diabetes_vocab/Acarbose_vocab.txt.\n"
     ]
    },
    {
     "name": "stdout",
     "output_type": "stream",
     "text": [
      "INFO:tensorflow:vocabulary_size = 4 in Glimepiride is inferred from the number of elements in the vocabulary_file ./diabetes_vocab/Glimepiride_vocab.txt.\n"
     ]
    },
    {
     "name": "stderr",
     "output_type": "stream",
     "text": [
      "INFO:tensorflow:vocabulary_size = 4 in Glimepiride is inferred from the number of elements in the vocabulary_file ./diabetes_vocab/Glimepiride_vocab.txt.\n"
     ]
    },
    {
     "name": "stdout",
     "output_type": "stream",
     "text": [
      "INFO:tensorflow:vocabulary_size = 4 in Glipizide is inferred from the number of elements in the vocabulary_file ./diabetes_vocab/Glipizide_vocab.txt.\n"
     ]
    },
    {
     "name": "stderr",
     "output_type": "stream",
     "text": [
      "INFO:tensorflow:vocabulary_size = 4 in Glipizide is inferred from the number of elements in the vocabulary_file ./diabetes_vocab/Glipizide_vocab.txt.\n"
     ]
    },
    {
     "name": "stdout",
     "output_type": "stream",
     "text": [
      "INFO:tensorflow:vocabulary_size = 3 in Glipizide_And_Metformin_Hcl is inferred from the number of elements in the vocabulary_file ./diabetes_vocab/Glipizide_And_Metformin_Hcl_vocab.txt.\n"
     ]
    },
    {
     "name": "stderr",
     "output_type": "stream",
     "text": [
      "INFO:tensorflow:vocabulary_size = 3 in Glipizide_And_Metformin_Hcl is inferred from the number of elements in the vocabulary_file ./diabetes_vocab/Glipizide_And_Metformin_Hcl_vocab.txt.\n"
     ]
    },
    {
     "name": "stdout",
     "output_type": "stream",
     "text": [
      "INFO:tensorflow:vocabulary_size = 4 in Glipizide_And_Metformin_Hydrochloride is inferred from the number of elements in the vocabulary_file ./diabetes_vocab/Glipizide_And_Metformin_Hydrochloride_vocab.txt.\n"
     ]
    },
    {
     "name": "stderr",
     "output_type": "stream",
     "text": [
      "INFO:tensorflow:vocabulary_size = 4 in Glipizide_And_Metformin_Hydrochloride is inferred from the number of elements in the vocabulary_file ./diabetes_vocab/Glipizide_And_Metformin_Hydrochloride_vocab.txt.\n"
     ]
    },
    {
     "name": "stdout",
     "output_type": "stream",
     "text": [
      "INFO:tensorflow:vocabulary_size = 4 in Glyburide is inferred from the number of elements in the vocabulary_file ./diabetes_vocab/Glyburide_vocab.txt.\n"
     ]
    },
    {
     "name": "stderr",
     "output_type": "stream",
     "text": [
      "INFO:tensorflow:vocabulary_size = 4 in Glyburide is inferred from the number of elements in the vocabulary_file ./diabetes_vocab/Glyburide_vocab.txt.\n"
     ]
    },
    {
     "name": "stdout",
     "output_type": "stream",
     "text": [
      "INFO:tensorflow:vocabulary_size = 4 in Glyburide_And_Metformin_Hydrochloride is inferred from the number of elements in the vocabulary_file ./diabetes_vocab/Glyburide_And_Metformin_Hydrochloride_vocab.txt.\n"
     ]
    },
    {
     "name": "stderr",
     "output_type": "stream",
     "text": [
      "INFO:tensorflow:vocabulary_size = 4 in Glyburide_And_Metformin_Hydrochloride is inferred from the number of elements in the vocabulary_file ./diabetes_vocab/Glyburide_And_Metformin_Hydrochloride_vocab.txt.\n"
     ]
    },
    {
     "name": "stdout",
     "output_type": "stream",
     "text": [
      "INFO:tensorflow:vocabulary_size = 4 in Glyburide-metformin_Hydrochloride is inferred from the number of elements in the vocabulary_file ./diabetes_vocab/Glyburide-metformin_Hydrochloride_vocab.txt.\n"
     ]
    },
    {
     "name": "stderr",
     "output_type": "stream",
     "text": [
      "INFO:tensorflow:vocabulary_size = 4 in Glyburide-metformin_Hydrochloride is inferred from the number of elements in the vocabulary_file ./diabetes_vocab/Glyburide-metformin_Hydrochloride_vocab.txt.\n"
     ]
    },
    {
     "name": "stdout",
     "output_type": "stream",
     "text": [
      "INFO:tensorflow:vocabulary_size = 4 in Human_Insulin is inferred from the number of elements in the vocabulary_file ./diabetes_vocab/Human_Insulin_vocab.txt.\n"
     ]
    },
    {
     "name": "stderr",
     "output_type": "stream",
     "text": [
      "INFO:tensorflow:vocabulary_size = 4 in Human_Insulin is inferred from the number of elements in the vocabulary_file ./diabetes_vocab/Human_Insulin_vocab.txt.\n"
     ]
    },
    {
     "name": "stdout",
     "output_type": "stream",
     "text": [
      "INFO:tensorflow:vocabulary_size = 4 in Insulin_Human is inferred from the number of elements in the vocabulary_file ./diabetes_vocab/Insulin_Human_vocab.txt.\n"
     ]
    },
    {
     "name": "stderr",
     "output_type": "stream",
     "text": [
      "INFO:tensorflow:vocabulary_size = 4 in Insulin_Human is inferred from the number of elements in the vocabulary_file ./diabetes_vocab/Insulin_Human_vocab.txt.\n"
     ]
    },
    {
     "name": "stdout",
     "output_type": "stream",
     "text": [
      "INFO:tensorflow:vocabulary_size = 4 in Metformin_Hcl is inferred from the number of elements in the vocabulary_file ./diabetes_vocab/Metformin_Hcl_vocab.txt.\n"
     ]
    },
    {
     "name": "stderr",
     "output_type": "stream",
     "text": [
      "INFO:tensorflow:vocabulary_size = 4 in Metformin_Hcl is inferred from the number of elements in the vocabulary_file ./diabetes_vocab/Metformin_Hcl_vocab.txt.\n"
     ]
    },
    {
     "name": "stdout",
     "output_type": "stream",
     "text": [
      "INFO:tensorflow:vocabulary_size = 4 in Metformin_Hydrochloride is inferred from the number of elements in the vocabulary_file ./diabetes_vocab/Metformin_Hydrochloride_vocab.txt.\n"
     ]
    },
    {
     "name": "stderr",
     "output_type": "stream",
     "text": [
      "INFO:tensorflow:vocabulary_size = 4 in Metformin_Hydrochloride is inferred from the number of elements in the vocabulary_file ./diabetes_vocab/Metformin_Hydrochloride_vocab.txt.\n"
     ]
    },
    {
     "name": "stdout",
     "output_type": "stream",
     "text": [
      "INFO:tensorflow:vocabulary_size = 4 in Miglitol is inferred from the number of elements in the vocabulary_file ./diabetes_vocab/Miglitol_vocab.txt.\n"
     ]
    },
    {
     "name": "stderr",
     "output_type": "stream",
     "text": [
      "INFO:tensorflow:vocabulary_size = 4 in Miglitol is inferred from the number of elements in the vocabulary_file ./diabetes_vocab/Miglitol_vocab.txt.\n"
     ]
    },
    {
     "name": "stdout",
     "output_type": "stream",
     "text": [
      "INFO:tensorflow:vocabulary_size = 4 in Nateglinide is inferred from the number of elements in the vocabulary_file ./diabetes_vocab/Nateglinide_vocab.txt.\n"
     ]
    },
    {
     "name": "stderr",
     "output_type": "stream",
     "text": [
      "INFO:tensorflow:vocabulary_size = 4 in Nateglinide is inferred from the number of elements in the vocabulary_file ./diabetes_vocab/Nateglinide_vocab.txt.\n"
     ]
    },
    {
     "name": "stdout",
     "output_type": "stream",
     "text": [
      "INFO:tensorflow:vocabulary_size = 4 in Pioglitazole_And_Metformin_Hydrochloride is inferred from the number of elements in the vocabulary_file ./diabetes_vocab/Pioglitazole_And_Metformin_Hydrochloride_vocab.txt.\n"
     ]
    },
    {
     "name": "stderr",
     "output_type": "stream",
     "text": [
      "INFO:tensorflow:vocabulary_size = 4 in Pioglitazole_And_Metformin_Hydrochloride is inferred from the number of elements in the vocabulary_file ./diabetes_vocab/Pioglitazole_And_Metformin_Hydrochloride_vocab.txt.\n"
     ]
    },
    {
     "name": "stdout",
     "output_type": "stream",
     "text": [
      "INFO:tensorflow:vocabulary_size = 4 in Pioglitazone is inferred from the number of elements in the vocabulary_file ./diabetes_vocab/Pioglitazone_vocab.txt.\n"
     ]
    },
    {
     "name": "stderr",
     "output_type": "stream",
     "text": [
      "INFO:tensorflow:vocabulary_size = 4 in Pioglitazone is inferred from the number of elements in the vocabulary_file ./diabetes_vocab/Pioglitazone_vocab.txt.\n"
     ]
    },
    {
     "name": "stdout",
     "output_type": "stream",
     "text": [
      "INFO:tensorflow:vocabulary_size = 4 in Pioglitazone_Hydrochloride_And_Glimepiride is inferred from the number of elements in the vocabulary_file ./diabetes_vocab/Pioglitazone_Hydrochloride_And_Glimepiride_vocab.txt.\n"
     ]
    },
    {
     "name": "stderr",
     "output_type": "stream",
     "text": [
      "INFO:tensorflow:vocabulary_size = 4 in Pioglitazone_Hydrochloride_And_Glimepiride is inferred from the number of elements in the vocabulary_file ./diabetes_vocab/Pioglitazone_Hydrochloride_And_Glimepiride_vocab.txt.\n"
     ]
    },
    {
     "name": "stdout",
     "output_type": "stream",
     "text": [
      "INFO:tensorflow:vocabulary_size = 4 in Repaglinide is inferred from the number of elements in the vocabulary_file ./diabetes_vocab/Repaglinide_vocab.txt.\n"
     ]
    },
    {
     "name": "stderr",
     "output_type": "stream",
     "text": [
      "INFO:tensorflow:vocabulary_size = 4 in Repaglinide is inferred from the number of elements in the vocabulary_file ./diabetes_vocab/Repaglinide_vocab.txt.\n"
     ]
    },
    {
     "name": "stdout",
     "output_type": "stream",
     "text": [
      "INFO:tensorflow:vocabulary_size = 4 in Rosiglitazone_Maleate is inferred from the number of elements in the vocabulary_file ./diabetes_vocab/Rosiglitazone_Maleate_vocab.txt.\n"
     ]
    },
    {
     "name": "stderr",
     "output_type": "stream",
     "text": [
      "INFO:tensorflow:vocabulary_size = 4 in Rosiglitazone_Maleate is inferred from the number of elements in the vocabulary_file ./diabetes_vocab/Rosiglitazone_Maleate_vocab.txt.\n"
     ]
    },
    {
     "name": "stdout",
     "output_type": "stream",
     "text": [
      "INFO:tensorflow:vocabulary_size = 4 in Tolazamide is inferred from the number of elements in the vocabulary_file ./diabetes_vocab/Tolazamide_vocab.txt.\n"
     ]
    },
    {
     "name": "stderr",
     "output_type": "stream",
     "text": [
      "INFO:tensorflow:vocabulary_size = 4 in Tolazamide is inferred from the number of elements in the vocabulary_file ./diabetes_vocab/Tolazamide_vocab.txt.\n"
     ]
    },
    {
     "name": "stdout",
     "output_type": "stream",
     "text": [
      "INFO:tensorflow:vocabulary_size = 4 in Tolbutamide is inferred from the number of elements in the vocabulary_file ./diabetes_vocab/Tolbutamide_vocab.txt.\n"
     ]
    },
    {
     "name": "stderr",
     "output_type": "stream",
     "text": [
      "INFO:tensorflow:vocabulary_size = 4 in Tolbutamide is inferred from the number of elements in the vocabulary_file ./diabetes_vocab/Tolbutamide_vocab.txt.\n"
     ]
    }
   ],
   "source": [
    "%autoreload\n",
    "from student_utils import create_tf_categorical_feature_cols\n",
    "tf_cat_col_list = create_tf_categorical_feature_cols(student_categorical_col_list)"
   ]
  },
  {
   "cell_type": "code",
   "execution_count": 142,
   "metadata": {
    "scrolled": true
   },
   "outputs": [
    {
     "name": "stdout",
     "output_type": "stream",
     "text": [
      "Example categorical field:\n",
      "IndicatorColumn(categorical_column=VocabularyFileCategoricalColumn(key='admission_type_id', vocabulary_file='./diabetes_vocab/admission_type_id_vocab.txt', vocabulary_size=9, num_oov_buckets=1, dtype=tf.string, default_value=-1))\n",
      "tf.Tensor(\n",
      "[[0. 0. 1. ... 0. 0. 0.]\n",
      " [0. 0. 1. ... 0. 0. 0.]\n",
      " [0. 0. 1. ... 0. 0. 0.]\n",
      " ...\n",
      " [0. 0. 1. ... 0. 0. 0.]\n",
      " [0. 0. 0. ... 0. 0. 0.]\n",
      " [0. 0. 0. ... 0. 0. 0.]], shape=(128, 10), dtype=float32)\n"
     ]
    }
   ],
   "source": [
    "test_cat_var1 = tf_cat_col_list[0]\n",
    "print(\"Example categorical field:\\n{}\".format(test_cat_var1))\n",
    "demo(test_cat_var1, diabetes_batch)"
   ]
  },
  {
   "cell_type": "markdown",
   "metadata": {},
   "source": [
    "# 5. Create Numerical Features with TF Feature Columns"
   ]
  },
  {
   "cell_type": "markdown",
   "metadata": {},
   "source": [
    "**Question 8**: Using the TF Feature Column API(https://www.tensorflow.org/api_docs/python/tf/feature_column/), please create normalized Tensorflow numeric features for the model. Try to use the z-score normalizer function below to help as well as the 'calculate_stats_from_train_data' function."
   ]
  },
  {
   "cell_type": "code",
   "execution_count": 143,
   "metadata": {},
   "outputs": [],
   "source": [
    "%autoreload\n",
    "from student_utils import create_tf_numeric_feature"
   ]
  },
  {
   "cell_type": "markdown",
   "metadata": {},
   "source": [
    "For simplicity the create_tf_numerical_feature_cols function below uses the same normalizer function across all features(z-score normalization) but if you have time feel free to analyze and adapt the normalizer based off the statistical distributions. You may find this as a good resource in determining which transformation fits best for the data https://developers.google.com/machine-learning/data-prep/transform/normalization.\n"
   ]
  },
  {
   "cell_type": "code",
   "execution_count": 144,
   "metadata": {},
   "outputs": [],
   "source": [
    "def calculate_stats_from_train_data(df, col):\n",
    "    mean = df[col].describe()['mean']\n",
    "    std = df[col].describe()['std']\n",
    "    return mean, std\n",
    "\n",
    "def create_tf_numerical_feature_cols(numerical_col_list, train_df):\n",
    "    tf_numeric_col_list = []\n",
    "    for c in numerical_col_list:\n",
    "        mean, std = calculate_stats_from_train_data(train_df, c)\n",
    "        tf_numeric_feature = create_tf_numeric_feature(c, mean, std)\n",
    "        tf_numeric_col_list.append(tf_numeric_feature)\n",
    "    return tf_numeric_col_list"
   ]
  },
  {
   "cell_type": "code",
   "execution_count": 145,
   "metadata": {},
   "outputs": [],
   "source": [
    "tf_cont_col_list = create_tf_numerical_feature_cols(student_numerical_col_list, d_train)"
   ]
  },
  {
   "cell_type": "code",
   "execution_count": 146,
   "metadata": {
    "scrolled": true
   },
   "outputs": [
    {
     "name": "stdout",
     "output_type": "stream",
     "text": [
      "Example continuous field:\n",
      "NumericColumn(key='number_outpatient', shape=(1,), default_value=(0,), dtype=tf.float64, normalizer_fn=functools.partial(<function normalize_numeric_with_zscore at 0x7fabb75ed050>, mean=0.27928221859706365, std=1.0458625045784622))\n",
      "\n",
      "tf.Tensor(\n",
      "[[ 0.6891133]\n",
      " [-0.2670353]\n",
      " [-0.2670353]\n",
      " [-0.2670353]\n",
      " [-0.2670353]\n",
      " [-0.2670353]\n",
      " [ 5.4698563]\n",
      " [-0.2670353]\n",
      " [-0.2670353]\n",
      " [-0.2670353]\n",
      " [-0.2670353]\n",
      " [-0.2670353]\n",
      " [-0.2670353]\n",
      " [-0.2670353]\n",
      " [ 0.6891133]\n",
      " [-0.2670353]\n",
      " [-0.2670353]\n",
      " [-0.2670353]\n",
      " [-0.2670353]\n",
      " [-0.2670353]\n",
      " [-0.2670353]\n",
      " [-0.2670353]\n",
      " [-0.2670353]\n",
      " [-0.2670353]\n",
      " [-0.2670353]\n",
      " [-0.2670353]\n",
      " [-0.2670353]\n",
      " [-0.2670353]\n",
      " [-0.2670353]\n",
      " [-0.2670353]\n",
      " [-0.2670353]\n",
      " [-0.2670353]\n",
      " [-0.2670353]\n",
      " [-0.2670353]\n",
      " [-0.2670353]\n",
      " [-0.2670353]\n",
      " [-0.2670353]\n",
      " [-0.2670353]\n",
      " [-0.2670353]\n",
      " [-0.2670353]\n",
      " [-0.2670353]\n",
      " [-0.2670353]\n",
      " [-0.2670353]\n",
      " [-0.2670353]\n",
      " [-0.2670353]\n",
      " [ 0.6891133]\n",
      " [-0.2670353]\n",
      " [ 0.6891133]\n",
      " [-0.2670353]\n",
      " [-0.2670353]\n",
      " [-0.2670353]\n",
      " [-0.2670353]\n",
      " [ 3.5575593]\n",
      " [-0.2670353]\n",
      " [-0.2670353]\n",
      " [-0.2670353]\n",
      " [-0.2670353]\n",
      " [-0.2670353]\n",
      " [-0.2670353]\n",
      " [-0.2670353]\n",
      " [ 0.6891133]\n",
      " [-0.2670353]\n",
      " [-0.2670353]\n",
      " [-0.2670353]\n",
      " [-0.2670353]\n",
      " [-0.2670353]\n",
      " [-0.2670353]\n",
      " [-0.2670353]\n",
      " [-0.2670353]\n",
      " [ 1.6452619]\n",
      " [-0.2670353]\n",
      " [-0.2670353]\n",
      " [-0.2670353]\n",
      " [-0.2670353]\n",
      " [-0.2670353]\n",
      " [-0.2670353]\n",
      " [ 2.6014106]\n",
      " [-0.2670353]\n",
      " [ 0.6891133]\n",
      " [-0.2670353]\n",
      " [-0.2670353]\n",
      " [-0.2670353]\n",
      " [-0.2670353]\n",
      " [-0.2670353]\n",
      " [-0.2670353]\n",
      " [-0.2670353]\n",
      " [-0.2670353]\n",
      " [ 0.6891133]\n",
      " [-0.2670353]\n",
      " [-0.2670353]\n",
      " [-0.2670353]\n",
      " [-0.2670353]\n",
      " [-0.2670353]\n",
      " [-0.2670353]\n",
      " [-0.2670353]\n",
      " [-0.2670353]\n",
      " [-0.2670353]\n",
      " [ 0.6891133]\n",
      " [-0.2670353]\n",
      " [-0.2670353]\n",
      " [-0.2670353]\n",
      " [-0.2670353]\n",
      " [-0.2670353]\n",
      " [-0.2670353]\n",
      " [-0.2670353]\n",
      " [-0.2670353]\n",
      " [-0.2670353]\n",
      " [ 0.6891133]\n",
      " [33.198166 ]\n",
      " [-0.2670353]\n",
      " [-0.2670353]\n",
      " [-0.2670353]\n",
      " [-0.2670353]\n",
      " [-0.2670353]\n",
      " [-0.2670353]\n",
      " [-0.2670353]\n",
      " [-0.2670353]\n",
      " [ 0.6891133]\n",
      " [ 0.6891133]\n",
      " [-0.2670353]\n",
      " [-0.2670353]\n",
      " [-0.2670353]\n",
      " [-0.2670353]\n",
      " [-0.2670353]\n",
      " [ 3.5575593]\n",
      " [-0.2670353]\n",
      " [-0.2670353]\n",
      " [-0.2670353]], shape=(128, 1), dtype=float32)\n"
     ]
    }
   ],
   "source": [
    "test_cont_var1 = tf_cont_col_list[0]\n",
    "print(\"Example continuous field:\\n{}\\n\".format(test_cont_var1))\n",
    "demo(test_cont_var1, diabetes_batch)"
   ]
  },
  {
   "cell_type": "markdown",
   "metadata": {},
   "source": [
    "# 6. Build Deep Learning Regression Model with Sequential API and TF Probability Layers"
   ]
  },
  {
   "cell_type": "markdown",
   "metadata": {},
   "source": [
    "## Use DenseFeatures to combine features for model"
   ]
  },
  {
   "cell_type": "markdown",
   "metadata": {},
   "source": [
    "Now that we have prepared categorical and numerical features using Tensorflow's Feature Column API, we can combine them into a dense vector representation for the model. Below we will create this new input layer, which we will call 'claim_feature_layer'."
   ]
  },
  {
   "cell_type": "code",
   "execution_count": 147,
   "metadata": {},
   "outputs": [],
   "source": [
    "claim_feature_columns = tf_cat_col_list + tf_cont_col_list\n",
    "claim_feature_layer = tf.keras.layers.DenseFeatures(claim_feature_columns)"
   ]
  },
  {
   "cell_type": "code",
   "execution_count": 148,
   "metadata": {},
   "outputs": [
    {
     "data": {
      "text/plain": [
       "['number_outpatient',\n",
       " 'number_inpatient',\n",
       " 'number_emergency',\n",
       " 'num_lab_procedures',\n",
       " 'number_diagnoses',\n",
       " 'num_medications']"
      ]
     },
     "execution_count": 148,
     "metadata": {},
     "output_type": "execute_result"
    }
   ],
   "source": [
    "student_numerical_col_list"
   ]
  },
  {
   "cell_type": "code",
   "execution_count": 149,
   "metadata": {},
   "outputs": [
    {
     "data": {
      "text/plain": [
       "['admission_type_id',\n",
       " 'admission_source_id',\n",
       " 'payer_code',\n",
       " 'medical_specialty',\n",
       " 'primary_diagnosis_code',\n",
       " 'other_diagnosis_codes',\n",
       " 'max_glu_serum',\n",
       " 'A1Cresult',\n",
       " 'race',\n",
       " 'gender',\n",
       " 'age',\n",
       " 'Acarbose',\n",
       " 'Glimepiride',\n",
       " 'Glipizide',\n",
       " 'Glipizide_And_Metformin_Hcl',\n",
       " 'Glipizide_And_Metformin_Hydrochloride',\n",
       " 'Glyburide',\n",
       " 'Glyburide_And_Metformin_Hydrochloride',\n",
       " 'Glyburide-metformin_Hydrochloride',\n",
       " 'Human_Insulin',\n",
       " 'Insulin_Human',\n",
       " 'Metformin_Hcl',\n",
       " 'Metformin_Hydrochloride',\n",
       " 'Miglitol',\n",
       " 'Nateglinide',\n",
       " 'Pioglitazole_And_Metformin_Hydrochloride',\n",
       " 'Pioglitazone',\n",
       " 'Pioglitazone_Hydrochloride_And_Glimepiride',\n",
       " 'Repaglinide',\n",
       " 'Rosiglitazone_Maleate',\n",
       " 'Tolazamide',\n",
       " 'Tolbutamide']"
      ]
     },
     "execution_count": 149,
     "metadata": {},
     "output_type": "execute_result"
    }
   ],
   "source": [
    "student_categorical_col_list"
   ]
  },
  {
   "cell_type": "code",
   "execution_count": 150,
   "metadata": {},
   "outputs": [
    {
     "data": {
      "text/plain": [
       "<tf.Tensor: shape=(128, 12372), dtype=float32, numpy=\n",
       "array([[0., 1., 0., ..., 0., 0., 0.],\n",
       "       [0., 1., 0., ..., 0., 0., 0.],\n",
       "       [0., 1., 0., ..., 0., 0., 0.],\n",
       "       ...,\n",
       "       [0., 1., 0., ..., 0., 0., 0.],\n",
       "       [0., 0., 0., ..., 0., 0., 0.],\n",
       "       [0., 1., 0., ..., 0., 0., 0.]], dtype=float32)>"
      ]
     },
     "execution_count": 150,
     "metadata": {},
     "output_type": "execute_result"
    }
   ],
   "source": [
    "claim_feature_layer(diabetes_batch)"
   ]
  },
  {
   "cell_type": "markdown",
   "metadata": {},
   "source": [
    "## Build Sequential API Model from DenseFeatures and TF Probability Layers"
   ]
  },
  {
   "cell_type": "markdown",
   "metadata": {},
   "source": [
    "Below we have provided some boilerplate code for building a model that connects the Sequential API, DenseFeatures, and Tensorflow Probability layers into a deep learning model. There are many opportunities to further optimize and explore different architectures through benchmarking and testing approaches in various research papers, loss and evaluation metrics, learning curves, hyperparameter tuning, TF probability layers, etc. Feel free to modify and explore as you wish."
   ]
  },
  {
   "cell_type": "markdown",
   "metadata": {},
   "source": [
    "**OPTIONAL**: Come up with a more optimal neural network architecture and hyperparameters. Share the process in discovering the architecture and hyperparameters."
   ]
  },
  {
   "cell_type": "code",
   "execution_count": 151,
   "metadata": {},
   "outputs": [],
   "source": [
    "def build_sequential_model(feature_layer):\n",
    "    model = tf.keras.Sequential([\n",
    "        feature_layer,\n",
    "        tf.keras.layers.Dense(150, activation='relu'),\n",
    "        tf.keras.layers.Dense(75, activation='relu'),\n",
    "        #tfp.layers.DenseVariational(75, posterior_mean_field, prior_trainable, activation='relu'),\n",
    "        tfp.layers.DenseVariational(1+1, posterior_mean_field, prior_trainable),\n",
    "        tfp.layers.DistributionLambda(\n",
    "            lambda t:tfp.distributions.Normal(loc=t[..., :1],\n",
    "                                             scale=1e-3 + tf.math.softplus(0.01 * t[...,1:])\n",
    "                                             )\n",
    "        ),\n",
    "    ])\n",
    "    return model\n",
    "\n",
    "def build_diabetes_model(train_ds, val_ds,  feature_layer,  epochs=5, loss_metric='mse'):\n",
    "    model = build_sequential_model(feature_layer)\n",
    "    model.compile(optimizer='rmsprop', loss=loss_metric, metrics=[loss_metric])\n",
    "    early_stop = tf.keras.callbacks.EarlyStopping(monitor=loss_metric, patience=3)     \n",
    "    history = model.fit(train_ds, validation_data=val_ds,\n",
    "                        callbacks=[early_stop],\n",
    "                        epochs=epochs)\n",
    "    return model, history "
   ]
  },
  {
   "cell_type": "code",
   "execution_count": 152,
   "metadata": {},
   "outputs": [],
   "source": [
    "example_batch = next(iter(diabetes_train_ds))\n",
    "example_input = example_batch[0]\n",
    "example_labels = example_batch[1]"
   ]
  },
  {
   "cell_type": "code",
   "execution_count": 153,
   "metadata": {},
   "outputs": [],
   "source": [
    "input_tensor = claim_feature_layer(example_input)"
   ]
  },
  {
   "cell_type": "code",
   "execution_count": 154,
   "metadata": {
    "scrolled": true
   },
   "outputs": [
    {
     "name": "stdout",
     "output_type": "stream",
     "text": [
      "Epoch 1/10\n",
      "WARNING:tensorflow:Layers in a Sequential model should only have a single input tensor, but we receive a <class 'dict'> input: {'patient_nbr': <tf.Tensor 'ExpandDims_35:0' shape=(None, 1) dtype=int64>, 'admission_type_id': <tf.Tensor 'ExpandDims_23:0' shape=(None, 1) dtype=string>, 'admission_source_id': <tf.Tensor 'ExpandDims_22:0' shape=(None, 1) dtype=string>, 'payer_code': <tf.Tensor 'ExpandDims_36:0' shape=(None, 1) dtype=string>, 'medical_specialty': <tf.Tensor 'ExpandDims_27:0' shape=(None, 1) dtype=string>, 'primary_diagnosis_code': <tf.Tensor 'ExpandDims_37:0' shape=(None, 1) dtype=string>, 'other_diagnosis_codes': <tf.Tensor 'ExpandDims_34:0' shape=(None, 1) dtype=string>, 'max_glu_serum': <tf.Tensor 'ExpandDims_26:0' shape=(None, 1) dtype=string>, 'A1Cresult': <tf.Tensor 'ExpandDims:0' shape=(None, 1) dtype=string>, 'race': <tf.Tensor 'ExpandDims_38:0' shape=(None, 1) dtype=string>, 'gender': <tf.Tensor 'ExpandDims_25:0' shape=(None, 1) dtype=string>, 'age': <tf.Tensor 'ExpandDims_24:0' shape=(None, 1) dtype=string>, 'Acarbose': <tf.Tensor 'ExpandDims_1:0' shape=(None, 1) dtype=string>, 'Glimepiride': <tf.Tensor 'ExpandDims_2:0' shape=(None, 1) dtype=string>, 'Glipizide': <tf.Tensor 'ExpandDims_3:0' shape=(None, 1) dtype=string>, 'Glipizide_And_Metformin_Hcl': <tf.Tensor 'ExpandDims_4:0' shape=(None, 1) dtype=string>, 'Glipizide_And_Metformin_Hydrochloride': <tf.Tensor 'ExpandDims_5:0' shape=(None, 1) dtype=string>, 'Glyburide': <tf.Tensor 'ExpandDims_6:0' shape=(None, 1) dtype=string>, 'Glyburide_And_Metformin_Hydrochloride': <tf.Tensor 'ExpandDims_8:0' shape=(None, 1) dtype=string>, 'Glyburide-metformin_Hydrochloride': <tf.Tensor 'ExpandDims_7:0' shape=(None, 1) dtype=string>, 'Human_Insulin': <tf.Tensor 'ExpandDims_9:0' shape=(None, 1) dtype=string>, 'Insulin_Human': <tf.Tensor 'ExpandDims_10:0' shape=(None, 1) dtype=string>, 'Metformin_Hcl': <tf.Tensor 'ExpandDims_11:0' shape=(None, 1) dtype=string>, 'Metformin_Hydrochloride': <tf.Tensor 'ExpandDims_12:0' shape=(None, 1) dtype=string>, 'Miglitol': <tf.Tensor 'ExpandDims_13:0' shape=(None, 1) dtype=string>, 'Nateglinide': <tf.Tensor 'ExpandDims_14:0' shape=(None, 1) dtype=string>, 'Pioglitazole_And_Metformin_Hydrochloride': <tf.Tensor 'ExpandDims_15:0' shape=(None, 1) dtype=string>, 'Pioglitazone': <tf.Tensor 'ExpandDims_16:0' shape=(None, 1) dtype=string>, 'Pioglitazone_Hydrochloride_And_Glimepiride': <tf.Tensor 'ExpandDims_17:0' shape=(None, 1) dtype=string>, 'Repaglinide': <tf.Tensor 'ExpandDims_18:0' shape=(None, 1) dtype=string>, 'Rosiglitazone_Maleate': <tf.Tensor 'ExpandDims_19:0' shape=(None, 1) dtype=string>, 'Tolazamide': <tf.Tensor 'ExpandDims_20:0' shape=(None, 1) dtype=string>, 'Tolbutamide': <tf.Tensor 'ExpandDims_21:0' shape=(None, 1) dtype=string>, 'number_outpatient': <tf.Tensor 'ExpandDims_33:0' shape=(None, 1) dtype=float64>, 'number_inpatient': <tf.Tensor 'ExpandDims_32:0' shape=(None, 1) dtype=float64>, 'number_emergency': <tf.Tensor 'ExpandDims_31:0' shape=(None, 1) dtype=float64>, 'num_lab_procedures': <tf.Tensor 'ExpandDims_28:0' shape=(None, 1) dtype=float64>, 'number_diagnoses': <tf.Tensor 'ExpandDims_30:0' shape=(None, 1) dtype=float64>, 'num_medications': <tf.Tensor 'ExpandDims_29:0' shape=(None, 1) dtype=float64>}\n",
      "Consider rewriting this model with the Functional API.\n"
     ]
    },
    {
     "name": "stderr",
     "output_type": "stream",
     "text": [
      "WARNING:tensorflow:Layers in a Sequential model should only have a single input tensor, but we receive a <class 'dict'> input: {'patient_nbr': <tf.Tensor 'ExpandDims_35:0' shape=(None, 1) dtype=int64>, 'admission_type_id': <tf.Tensor 'ExpandDims_23:0' shape=(None, 1) dtype=string>, 'admission_source_id': <tf.Tensor 'ExpandDims_22:0' shape=(None, 1) dtype=string>, 'payer_code': <tf.Tensor 'ExpandDims_36:0' shape=(None, 1) dtype=string>, 'medical_specialty': <tf.Tensor 'ExpandDims_27:0' shape=(None, 1) dtype=string>, 'primary_diagnosis_code': <tf.Tensor 'ExpandDims_37:0' shape=(None, 1) dtype=string>, 'other_diagnosis_codes': <tf.Tensor 'ExpandDims_34:0' shape=(None, 1) dtype=string>, 'max_glu_serum': <tf.Tensor 'ExpandDims_26:0' shape=(None, 1) dtype=string>, 'A1Cresult': <tf.Tensor 'ExpandDims:0' shape=(None, 1) dtype=string>, 'race': <tf.Tensor 'ExpandDims_38:0' shape=(None, 1) dtype=string>, 'gender': <tf.Tensor 'ExpandDims_25:0' shape=(None, 1) dtype=string>, 'age': <tf.Tensor 'ExpandDims_24:0' shape=(None, 1) dtype=string>, 'Acarbose': <tf.Tensor 'ExpandDims_1:0' shape=(None, 1) dtype=string>, 'Glimepiride': <tf.Tensor 'ExpandDims_2:0' shape=(None, 1) dtype=string>, 'Glipizide': <tf.Tensor 'ExpandDims_3:0' shape=(None, 1) dtype=string>, 'Glipizide_And_Metformin_Hcl': <tf.Tensor 'ExpandDims_4:0' shape=(None, 1) dtype=string>, 'Glipizide_And_Metformin_Hydrochloride': <tf.Tensor 'ExpandDims_5:0' shape=(None, 1) dtype=string>, 'Glyburide': <tf.Tensor 'ExpandDims_6:0' shape=(None, 1) dtype=string>, 'Glyburide_And_Metformin_Hydrochloride': <tf.Tensor 'ExpandDims_8:0' shape=(None, 1) dtype=string>, 'Glyburide-metformin_Hydrochloride': <tf.Tensor 'ExpandDims_7:0' shape=(None, 1) dtype=string>, 'Human_Insulin': <tf.Tensor 'ExpandDims_9:0' shape=(None, 1) dtype=string>, 'Insulin_Human': <tf.Tensor 'ExpandDims_10:0' shape=(None, 1) dtype=string>, 'Metformin_Hcl': <tf.Tensor 'ExpandDims_11:0' shape=(None, 1) dtype=string>, 'Metformin_Hydrochloride': <tf.Tensor 'ExpandDims_12:0' shape=(None, 1) dtype=string>, 'Miglitol': <tf.Tensor 'ExpandDims_13:0' shape=(None, 1) dtype=string>, 'Nateglinide': <tf.Tensor 'ExpandDims_14:0' shape=(None, 1) dtype=string>, 'Pioglitazole_And_Metformin_Hydrochloride': <tf.Tensor 'ExpandDims_15:0' shape=(None, 1) dtype=string>, 'Pioglitazone': <tf.Tensor 'ExpandDims_16:0' shape=(None, 1) dtype=string>, 'Pioglitazone_Hydrochloride_And_Glimepiride': <tf.Tensor 'ExpandDims_17:0' shape=(None, 1) dtype=string>, 'Repaglinide': <tf.Tensor 'ExpandDims_18:0' shape=(None, 1) dtype=string>, 'Rosiglitazone_Maleate': <tf.Tensor 'ExpandDims_19:0' shape=(None, 1) dtype=string>, 'Tolazamide': <tf.Tensor 'ExpandDims_20:0' shape=(None, 1) dtype=string>, 'Tolbutamide': <tf.Tensor 'ExpandDims_21:0' shape=(None, 1) dtype=string>, 'number_outpatient': <tf.Tensor 'ExpandDims_33:0' shape=(None, 1) dtype=float64>, 'number_inpatient': <tf.Tensor 'ExpandDims_32:0' shape=(None, 1) dtype=float64>, 'number_emergency': <tf.Tensor 'ExpandDims_31:0' shape=(None, 1) dtype=float64>, 'num_lab_procedures': <tf.Tensor 'ExpandDims_28:0' shape=(None, 1) dtype=float64>, 'number_diagnoses': <tf.Tensor 'ExpandDims_30:0' shape=(None, 1) dtype=float64>, 'num_medications': <tf.Tensor 'ExpandDims_29:0' shape=(None, 1) dtype=float64>}\n",
      "Consider rewriting this model with the Functional API.\n"
     ]
    },
    {
     "name": "stdout",
     "output_type": "stream",
     "text": [
      "WARNING:tensorflow:Layers in a Sequential model should only have a single input tensor, but we receive a <class 'dict'> input: {'patient_nbr': <tf.Tensor 'ExpandDims_35:0' shape=(None, 1) dtype=int64>, 'admission_type_id': <tf.Tensor 'ExpandDims_23:0' shape=(None, 1) dtype=string>, 'admission_source_id': <tf.Tensor 'ExpandDims_22:0' shape=(None, 1) dtype=string>, 'payer_code': <tf.Tensor 'ExpandDims_36:0' shape=(None, 1) dtype=string>, 'medical_specialty': <tf.Tensor 'ExpandDims_27:0' shape=(None, 1) dtype=string>, 'primary_diagnosis_code': <tf.Tensor 'ExpandDims_37:0' shape=(None, 1) dtype=string>, 'other_diagnosis_codes': <tf.Tensor 'ExpandDims_34:0' shape=(None, 1) dtype=string>, 'max_glu_serum': <tf.Tensor 'ExpandDims_26:0' shape=(None, 1) dtype=string>, 'A1Cresult': <tf.Tensor 'ExpandDims:0' shape=(None, 1) dtype=string>, 'race': <tf.Tensor 'ExpandDims_38:0' shape=(None, 1) dtype=string>, 'gender': <tf.Tensor 'ExpandDims_25:0' shape=(None, 1) dtype=string>, 'age': <tf.Tensor 'ExpandDims_24:0' shape=(None, 1) dtype=string>, 'Acarbose': <tf.Tensor 'ExpandDims_1:0' shape=(None, 1) dtype=string>, 'Glimepiride': <tf.Tensor 'ExpandDims_2:0' shape=(None, 1) dtype=string>, 'Glipizide': <tf.Tensor 'ExpandDims_3:0' shape=(None, 1) dtype=string>, 'Glipizide_And_Metformin_Hcl': <tf.Tensor 'ExpandDims_4:0' shape=(None, 1) dtype=string>, 'Glipizide_And_Metformin_Hydrochloride': <tf.Tensor 'ExpandDims_5:0' shape=(None, 1) dtype=string>, 'Glyburide': <tf.Tensor 'ExpandDims_6:0' shape=(None, 1) dtype=string>, 'Glyburide_And_Metformin_Hydrochloride': <tf.Tensor 'ExpandDims_8:0' shape=(None, 1) dtype=string>, 'Glyburide-metformin_Hydrochloride': <tf.Tensor 'ExpandDims_7:0' shape=(None, 1) dtype=string>, 'Human_Insulin': <tf.Tensor 'ExpandDims_9:0' shape=(None, 1) dtype=string>, 'Insulin_Human': <tf.Tensor 'ExpandDims_10:0' shape=(None, 1) dtype=string>, 'Metformin_Hcl': <tf.Tensor 'ExpandDims_11:0' shape=(None, 1) dtype=string>, 'Metformin_Hydrochloride': <tf.Tensor 'ExpandDims_12:0' shape=(None, 1) dtype=string>, 'Miglitol': <tf.Tensor 'ExpandDims_13:0' shape=(None, 1) dtype=string>, 'Nateglinide': <tf.Tensor 'ExpandDims_14:0' shape=(None, 1) dtype=string>, 'Pioglitazole_And_Metformin_Hydrochloride': <tf.Tensor 'ExpandDims_15:0' shape=(None, 1) dtype=string>, 'Pioglitazone': <tf.Tensor 'ExpandDims_16:0' shape=(None, 1) dtype=string>, 'Pioglitazone_Hydrochloride_And_Glimepiride': <tf.Tensor 'ExpandDims_17:0' shape=(None, 1) dtype=string>, 'Repaglinide': <tf.Tensor 'ExpandDims_18:0' shape=(None, 1) dtype=string>, 'Rosiglitazone_Maleate': <tf.Tensor 'ExpandDims_19:0' shape=(None, 1) dtype=string>, 'Tolazamide': <tf.Tensor 'ExpandDims_20:0' shape=(None, 1) dtype=string>, 'Tolbutamide': <tf.Tensor 'ExpandDims_21:0' shape=(None, 1) dtype=string>, 'number_outpatient': <tf.Tensor 'ExpandDims_33:0' shape=(None, 1) dtype=float64>, 'number_inpatient': <tf.Tensor 'ExpandDims_32:0' shape=(None, 1) dtype=float64>, 'number_emergency': <tf.Tensor 'ExpandDims_31:0' shape=(None, 1) dtype=float64>, 'num_lab_procedures': <tf.Tensor 'ExpandDims_28:0' shape=(None, 1) dtype=float64>, 'number_diagnoses': <tf.Tensor 'ExpandDims_30:0' shape=(None, 1) dtype=float64>, 'num_medications': <tf.Tensor 'ExpandDims_29:0' shape=(None, 1) dtype=float64>}\n",
      "Consider rewriting this model with the Functional API.\n"
     ]
    },
    {
     "name": "stderr",
     "output_type": "stream",
     "text": [
      "WARNING:tensorflow:Layers in a Sequential model should only have a single input tensor, but we receive a <class 'dict'> input: {'patient_nbr': <tf.Tensor 'ExpandDims_35:0' shape=(None, 1) dtype=int64>, 'admission_type_id': <tf.Tensor 'ExpandDims_23:0' shape=(None, 1) dtype=string>, 'admission_source_id': <tf.Tensor 'ExpandDims_22:0' shape=(None, 1) dtype=string>, 'payer_code': <tf.Tensor 'ExpandDims_36:0' shape=(None, 1) dtype=string>, 'medical_specialty': <tf.Tensor 'ExpandDims_27:0' shape=(None, 1) dtype=string>, 'primary_diagnosis_code': <tf.Tensor 'ExpandDims_37:0' shape=(None, 1) dtype=string>, 'other_diagnosis_codes': <tf.Tensor 'ExpandDims_34:0' shape=(None, 1) dtype=string>, 'max_glu_serum': <tf.Tensor 'ExpandDims_26:0' shape=(None, 1) dtype=string>, 'A1Cresult': <tf.Tensor 'ExpandDims:0' shape=(None, 1) dtype=string>, 'race': <tf.Tensor 'ExpandDims_38:0' shape=(None, 1) dtype=string>, 'gender': <tf.Tensor 'ExpandDims_25:0' shape=(None, 1) dtype=string>, 'age': <tf.Tensor 'ExpandDims_24:0' shape=(None, 1) dtype=string>, 'Acarbose': <tf.Tensor 'ExpandDims_1:0' shape=(None, 1) dtype=string>, 'Glimepiride': <tf.Tensor 'ExpandDims_2:0' shape=(None, 1) dtype=string>, 'Glipizide': <tf.Tensor 'ExpandDims_3:0' shape=(None, 1) dtype=string>, 'Glipizide_And_Metformin_Hcl': <tf.Tensor 'ExpandDims_4:0' shape=(None, 1) dtype=string>, 'Glipizide_And_Metformin_Hydrochloride': <tf.Tensor 'ExpandDims_5:0' shape=(None, 1) dtype=string>, 'Glyburide': <tf.Tensor 'ExpandDims_6:0' shape=(None, 1) dtype=string>, 'Glyburide_And_Metformin_Hydrochloride': <tf.Tensor 'ExpandDims_8:0' shape=(None, 1) dtype=string>, 'Glyburide-metformin_Hydrochloride': <tf.Tensor 'ExpandDims_7:0' shape=(None, 1) dtype=string>, 'Human_Insulin': <tf.Tensor 'ExpandDims_9:0' shape=(None, 1) dtype=string>, 'Insulin_Human': <tf.Tensor 'ExpandDims_10:0' shape=(None, 1) dtype=string>, 'Metformin_Hcl': <tf.Tensor 'ExpandDims_11:0' shape=(None, 1) dtype=string>, 'Metformin_Hydrochloride': <tf.Tensor 'ExpandDims_12:0' shape=(None, 1) dtype=string>, 'Miglitol': <tf.Tensor 'ExpandDims_13:0' shape=(None, 1) dtype=string>, 'Nateglinide': <tf.Tensor 'ExpandDims_14:0' shape=(None, 1) dtype=string>, 'Pioglitazole_And_Metformin_Hydrochloride': <tf.Tensor 'ExpandDims_15:0' shape=(None, 1) dtype=string>, 'Pioglitazone': <tf.Tensor 'ExpandDims_16:0' shape=(None, 1) dtype=string>, 'Pioglitazone_Hydrochloride_And_Glimepiride': <tf.Tensor 'ExpandDims_17:0' shape=(None, 1) dtype=string>, 'Repaglinide': <tf.Tensor 'ExpandDims_18:0' shape=(None, 1) dtype=string>, 'Rosiglitazone_Maleate': <tf.Tensor 'ExpandDims_19:0' shape=(None, 1) dtype=string>, 'Tolazamide': <tf.Tensor 'ExpandDims_20:0' shape=(None, 1) dtype=string>, 'Tolbutamide': <tf.Tensor 'ExpandDims_21:0' shape=(None, 1) dtype=string>, 'number_outpatient': <tf.Tensor 'ExpandDims_33:0' shape=(None, 1) dtype=float64>, 'number_inpatient': <tf.Tensor 'ExpandDims_32:0' shape=(None, 1) dtype=float64>, 'number_emergency': <tf.Tensor 'ExpandDims_31:0' shape=(None, 1) dtype=float64>, 'num_lab_procedures': <tf.Tensor 'ExpandDims_28:0' shape=(None, 1) dtype=float64>, 'number_diagnoses': <tf.Tensor 'ExpandDims_30:0' shape=(None, 1) dtype=float64>, 'num_medications': <tf.Tensor 'ExpandDims_29:0' shape=(None, 1) dtype=float64>}\n",
      "Consider rewriting this model with the Functional API.\n"
     ]
    },
    {
     "name": "stdout",
     "output_type": "stream",
     "text": [
      "335/336 [============================>.] - ETA: 0s - loss: 28.2138 - mse: 28.1746WARNING:tensorflow:Layers in a Sequential model should only have a single input tensor, but we receive a <class 'dict'> input: {'patient_nbr': <tf.Tensor 'ExpandDims_35:0' shape=(None, 1) dtype=int64>, 'admission_type_id': <tf.Tensor 'ExpandDims_23:0' shape=(None, 1) dtype=string>, 'admission_source_id': <tf.Tensor 'ExpandDims_22:0' shape=(None, 1) dtype=string>, 'payer_code': <tf.Tensor 'ExpandDims_36:0' shape=(None, 1) dtype=string>, 'medical_specialty': <tf.Tensor 'ExpandDims_27:0' shape=(None, 1) dtype=string>, 'primary_diagnosis_code': <tf.Tensor 'ExpandDims_37:0' shape=(None, 1) dtype=string>, 'other_diagnosis_codes': <tf.Tensor 'ExpandDims_34:0' shape=(None, 1) dtype=string>, 'max_glu_serum': <tf.Tensor 'ExpandDims_26:0' shape=(None, 1) dtype=string>, 'A1Cresult': <tf.Tensor 'ExpandDims:0' shape=(None, 1) dtype=string>, 'race': <tf.Tensor 'ExpandDims_38:0' shape=(None, 1) dtype=string>, 'gender': <tf.Tensor 'ExpandDims_25:0' shape=(None, 1) dtype=string>, 'age': <tf.Tensor 'ExpandDims_24:0' shape=(None, 1) dtype=string>, 'Acarbose': <tf.Tensor 'ExpandDims_1:0' shape=(None, 1) dtype=string>, 'Glimepiride': <tf.Tensor 'ExpandDims_2:0' shape=(None, 1) dtype=string>, 'Glipizide': <tf.Tensor 'ExpandDims_3:0' shape=(None, 1) dtype=string>, 'Glipizide_And_Metformin_Hcl': <tf.Tensor 'ExpandDims_4:0' shape=(None, 1) dtype=string>, 'Glipizide_And_Metformin_Hydrochloride': <tf.Tensor 'ExpandDims_5:0' shape=(None, 1) dtype=string>, 'Glyburide': <tf.Tensor 'ExpandDims_6:0' shape=(None, 1) dtype=string>, 'Glyburide_And_Metformin_Hydrochloride': <tf.Tensor 'ExpandDims_8:0' shape=(None, 1) dtype=string>, 'Glyburide-metformin_Hydrochloride': <tf.Tensor 'ExpandDims_7:0' shape=(None, 1) dtype=string>, 'Human_Insulin': <tf.Tensor 'ExpandDims_9:0' shape=(None, 1) dtype=string>, 'Insulin_Human': <tf.Tensor 'ExpandDims_10:0' shape=(None, 1) dtype=string>, 'Metformin_Hcl': <tf.Tensor 'ExpandDims_11:0' shape=(None, 1) dtype=string>, 'Metformin_Hydrochloride': <tf.Tensor 'ExpandDims_12:0' shape=(None, 1) dtype=string>, 'Miglitol': <tf.Tensor 'ExpandDims_13:0' shape=(None, 1) dtype=string>, 'Nateglinide': <tf.Tensor 'ExpandDims_14:0' shape=(None, 1) dtype=string>, 'Pioglitazole_And_Metformin_Hydrochloride': <tf.Tensor 'ExpandDims_15:0' shape=(None, 1) dtype=string>, 'Pioglitazone': <tf.Tensor 'ExpandDims_16:0' shape=(None, 1) dtype=string>, 'Pioglitazone_Hydrochloride_And_Glimepiride': <tf.Tensor 'ExpandDims_17:0' shape=(None, 1) dtype=string>, 'Repaglinide': <tf.Tensor 'ExpandDims_18:0' shape=(None, 1) dtype=string>, 'Rosiglitazone_Maleate': <tf.Tensor 'ExpandDims_19:0' shape=(None, 1) dtype=string>, 'Tolazamide': <tf.Tensor 'ExpandDims_20:0' shape=(None, 1) dtype=string>, 'Tolbutamide': <tf.Tensor 'ExpandDims_21:0' shape=(None, 1) dtype=string>, 'number_outpatient': <tf.Tensor 'ExpandDims_33:0' shape=(None, 1) dtype=float64>, 'number_inpatient': <tf.Tensor 'ExpandDims_32:0' shape=(None, 1) dtype=float64>, 'number_emergency': <tf.Tensor 'ExpandDims_31:0' shape=(None, 1) dtype=float64>, 'num_lab_procedures': <tf.Tensor 'ExpandDims_28:0' shape=(None, 1) dtype=float64>, 'number_diagnoses': <tf.Tensor 'ExpandDims_30:0' shape=(None, 1) dtype=float64>, 'num_medications': <tf.Tensor 'ExpandDims_29:0' shape=(None, 1) dtype=float64>}\n",
      "Consider rewriting this model with the Functional API.\n"
     ]
    },
    {
     "name": "stderr",
     "output_type": "stream",
     "text": [
      "WARNING:tensorflow:Layers in a Sequential model should only have a single input tensor, but we receive a <class 'dict'> input: {'patient_nbr': <tf.Tensor 'ExpandDims_35:0' shape=(None, 1) dtype=int64>, 'admission_type_id': <tf.Tensor 'ExpandDims_23:0' shape=(None, 1) dtype=string>, 'admission_source_id': <tf.Tensor 'ExpandDims_22:0' shape=(None, 1) dtype=string>, 'payer_code': <tf.Tensor 'ExpandDims_36:0' shape=(None, 1) dtype=string>, 'medical_specialty': <tf.Tensor 'ExpandDims_27:0' shape=(None, 1) dtype=string>, 'primary_diagnosis_code': <tf.Tensor 'ExpandDims_37:0' shape=(None, 1) dtype=string>, 'other_diagnosis_codes': <tf.Tensor 'ExpandDims_34:0' shape=(None, 1) dtype=string>, 'max_glu_serum': <tf.Tensor 'ExpandDims_26:0' shape=(None, 1) dtype=string>, 'A1Cresult': <tf.Tensor 'ExpandDims:0' shape=(None, 1) dtype=string>, 'race': <tf.Tensor 'ExpandDims_38:0' shape=(None, 1) dtype=string>, 'gender': <tf.Tensor 'ExpandDims_25:0' shape=(None, 1) dtype=string>, 'age': <tf.Tensor 'ExpandDims_24:0' shape=(None, 1) dtype=string>, 'Acarbose': <tf.Tensor 'ExpandDims_1:0' shape=(None, 1) dtype=string>, 'Glimepiride': <tf.Tensor 'ExpandDims_2:0' shape=(None, 1) dtype=string>, 'Glipizide': <tf.Tensor 'ExpandDims_3:0' shape=(None, 1) dtype=string>, 'Glipizide_And_Metformin_Hcl': <tf.Tensor 'ExpandDims_4:0' shape=(None, 1) dtype=string>, 'Glipizide_And_Metformin_Hydrochloride': <tf.Tensor 'ExpandDims_5:0' shape=(None, 1) dtype=string>, 'Glyburide': <tf.Tensor 'ExpandDims_6:0' shape=(None, 1) dtype=string>, 'Glyburide_And_Metformin_Hydrochloride': <tf.Tensor 'ExpandDims_8:0' shape=(None, 1) dtype=string>, 'Glyburide-metformin_Hydrochloride': <tf.Tensor 'ExpandDims_7:0' shape=(None, 1) dtype=string>, 'Human_Insulin': <tf.Tensor 'ExpandDims_9:0' shape=(None, 1) dtype=string>, 'Insulin_Human': <tf.Tensor 'ExpandDims_10:0' shape=(None, 1) dtype=string>, 'Metformin_Hcl': <tf.Tensor 'ExpandDims_11:0' shape=(None, 1) dtype=string>, 'Metformin_Hydrochloride': <tf.Tensor 'ExpandDims_12:0' shape=(None, 1) dtype=string>, 'Miglitol': <tf.Tensor 'ExpandDims_13:0' shape=(None, 1) dtype=string>, 'Nateglinide': <tf.Tensor 'ExpandDims_14:0' shape=(None, 1) dtype=string>, 'Pioglitazole_And_Metformin_Hydrochloride': <tf.Tensor 'ExpandDims_15:0' shape=(None, 1) dtype=string>, 'Pioglitazone': <tf.Tensor 'ExpandDims_16:0' shape=(None, 1) dtype=string>, 'Pioglitazone_Hydrochloride_And_Glimepiride': <tf.Tensor 'ExpandDims_17:0' shape=(None, 1) dtype=string>, 'Repaglinide': <tf.Tensor 'ExpandDims_18:0' shape=(None, 1) dtype=string>, 'Rosiglitazone_Maleate': <tf.Tensor 'ExpandDims_19:0' shape=(None, 1) dtype=string>, 'Tolazamide': <tf.Tensor 'ExpandDims_20:0' shape=(None, 1) dtype=string>, 'Tolbutamide': <tf.Tensor 'ExpandDims_21:0' shape=(None, 1) dtype=string>, 'number_outpatient': <tf.Tensor 'ExpandDims_33:0' shape=(None, 1) dtype=float64>, 'number_inpatient': <tf.Tensor 'ExpandDims_32:0' shape=(None, 1) dtype=float64>, 'number_emergency': <tf.Tensor 'ExpandDims_31:0' shape=(None, 1) dtype=float64>, 'num_lab_procedures': <tf.Tensor 'ExpandDims_28:0' shape=(None, 1) dtype=float64>, 'number_diagnoses': <tf.Tensor 'ExpandDims_30:0' shape=(None, 1) dtype=float64>, 'num_medications': <tf.Tensor 'ExpandDims_29:0' shape=(None, 1) dtype=float64>}\n",
      "Consider rewriting this model with the Functional API.\n"
     ]
    },
    {
     "name": "stdout",
     "output_type": "stream",
     "text": [
      "336/336 [==============================] - 13s 33ms/step - loss: 28.2002 - mse: 28.1604 - val_loss: 18.7158 - val_mse: 18.1941\n",
      "Epoch 2/10\n",
      "336/336 [==============================] - 10s 30ms/step - loss: 17.5985 - mse: 17.0221 - val_loss: 12.2456 - val_mse: 11.3500\n",
      "Epoch 3/10\n",
      "336/336 [==============================] - 10s 28ms/step - loss: 13.9263 - mse: 13.1019 - val_loss: 11.9464 - val_mse: 10.6930\n",
      "Epoch 4/10\n",
      "336/336 [==============================] - 9s 26ms/step - loss: 10.9138 - mse: 9.8881 - val_loss: 11.2157 - val_mse: 10.2574\n",
      "Epoch 5/10\n",
      "336/336 [==============================] - 9s 27ms/step - loss: 11.1762 - mse: 10.1270 - val_loss: 10.2094 - val_mse: 9.0998\n",
      "Epoch 6/10\n",
      "336/336 [==============================] - 9s 27ms/step - loss: 9.4699 - mse: 8.4687 - val_loss: 9.3035 - val_mse: 8.5317\n",
      "Epoch 7/10\n",
      "336/336 [==============================] - 9s 27ms/step - loss: 9.2111 - mse: 8.1647 - val_loss: 8.5852 - val_mse: 7.8511\n",
      "Epoch 8/10\n",
      "336/336 [==============================] - 10s 30ms/step - loss: 9.1334 - mse: 8.2004 - val_loss: 8.4492 - val_mse: 7.5240\n",
      "Epoch 9/10\n",
      "336/336 [==============================] - 9s 27ms/step - loss: 8.4725 - mse: 7.6007 - val_loss: 8.5391 - val_mse: 7.5434\n",
      "Epoch 10/10\n",
      "336/336 [==============================] - 10s 27ms/step - loss: 8.2256 - mse: 7.3529 - val_loss: 8.2428 - val_mse: 7.2699\n"
     ]
    }
   ],
   "source": [
    "diabetes_model, history = build_diabetes_model(diabetes_train_ds, diabetes_val_ds,  claim_feature_layer,  epochs=10)"
   ]
  },
  {
   "cell_type": "markdown",
   "metadata": {},
   "source": [
    "## Show Model Uncertainty Range with TF Probability"
   ]
  },
  {
   "cell_type": "markdown",
   "metadata": {},
   "source": [
    "**Question 9**: Now that we have trained a model with TF Probability layers, we can extract the mean and standard deviation for each prediction. Please fill in the answer for the m and s variables below. The code for getting the predictions is provided for you below."
   ]
  },
  {
   "cell_type": "code",
   "execution_count": 155,
   "metadata": {
    "scrolled": true
   },
   "outputs": [
    {
     "name": "stdout",
     "output_type": "stream",
     "text": [
      "WARNING:tensorflow:Layers in a Sequential model should only have a single input tensor, but we receive a <class 'dict'> input: {'admission_type_id': 22725    1\n",
      "67129    1\n",
      "26436    3\n",
      "16469    6\n",
      "42510    1\n",
      "        ..\n",
      "51999    1\n",
      "61363    1\n",
      "36538    1\n",
      "9664     6\n",
      "24878    1\n",
      "Name: admission_type_id, Length: 14304, dtype: object, 'admission_source_id': 22725     6\n",
      "67129     7\n",
      "26436     7\n",
      "16469    17\n",
      "42510     1\n",
      "         ..\n",
      "51999     7\n",
      "61363     7\n",
      "36538     7\n",
      "9664     17\n",
      "24878     7\n",
      "Name: admission_source_id, Length: 14304, dtype: object, 'payer_code': 22725    MC\n",
      "67129    MD\n",
      "26436    CP\n",
      "16469     ?\n",
      "42510    MC\n",
      "         ..\n",
      "51999    MC\n",
      "61363    SP\n",
      "36538    MC\n",
      "9664      ?\n",
      "24878     ?\n",
      "Name: payer_code, Length: 14304, dtype: object, 'medical_specialty': 22725                Nephrology\n",
      "67129                         ?\n",
      "26436          Emergency/Trauma\n",
      "16469                         ?\n",
      "42510                         ?\n",
      "                  ...          \n",
      "51999                         ?\n",
      "61363          Emergency/Trauma\n",
      "36538                         ?\n",
      "9664     Family/GeneralPractice\n",
      "24878          InternalMedicine\n",
      "Name: medical_specialty, Length: 14304, dtype: object, 'primary_diagnosis_code': 22725       428\n",
      "67129    250.13\n",
      "26436       507\n",
      "16469       162\n",
      "42510       414\n",
      "          ...  \n",
      "51999       162\n",
      "61363       428\n",
      "36538         8\n",
      "9664        625\n",
      "24878       786\n",
      "Name: primary_diagnosis_code, Length: 14304, dtype: object, 'other_diagnosis_codes': 22725      425|585\n",
      "67129      275|276\n",
      "26436      276|428\n",
      "16469      196|196\n",
      "42510      427|496\n",
      "           ...    \n",
      "51999      518|426\n",
      "61363    424|250.4\n",
      "36538      276|496\n",
      "9664       428|250\n",
      "24878      491|428\n",
      "Name: other_diagnosis_codes, Length: 14304, dtype: object, 'max_glu_serum': 22725    None\n",
      "67129    None\n",
      "26436    None\n",
      "16469    >300\n",
      "42510    None\n",
      "         ... \n",
      "51999    None\n",
      "61363    None\n",
      "36538    None\n",
      "9664     None\n",
      "24878    None\n",
      "Name: max_glu_serum, Length: 14304, dtype: object, 'A1Cresult': 22725    None\n",
      "67129      >8\n",
      "26436    Norm\n",
      "16469    None\n",
      "42510    None\n",
      "         ... \n",
      "51999    None\n",
      "61363    None\n",
      "36538    None\n",
      "9664     None\n",
      "24878    None\n",
      "Name: A1Cresult, Length: 14304, dtype: object, 'race': 22725          Caucasian\n",
      "67129           Hispanic\n",
      "26436    AfricanAmerican\n",
      "16469          Caucasian\n",
      "42510          Caucasian\n",
      "              ...       \n",
      "51999          Caucasian\n",
      "61363          Caucasian\n",
      "36538          Caucasian\n",
      "9664           Caucasian\n",
      "24878              Other\n",
      "Name: race, Length: 14304, dtype: object, 'gender': 22725    Female\n",
      "67129    Female\n",
      "26436    Female\n",
      "16469    Female\n",
      "42510    Female\n",
      "          ...  \n",
      "51999      Male\n",
      "61363      Male\n",
      "36538      Male\n",
      "9664     Female\n",
      "24878    Female\n",
      "Name: gender, Length: 14304, dtype: object, 'age': 22725    [50-60)\n",
      "67129    [10-20)\n",
      "26436    [70-80)\n",
      "16469    [50-60)\n",
      "42510    [80-90)\n",
      "          ...   \n",
      "51999    [80-90)\n",
      "61363    [80-90)\n",
      "36538    [80-90)\n",
      "9664     [60-70)\n",
      "24878    [80-90)\n",
      "Name: age, Length: 14304, dtype: object, 'Acarbose': 22725    0.0\n",
      "67129    0.0\n",
      "26436    nan\n",
      "16469    0.0\n",
      "42510    nan\n",
      "        ... \n",
      "51999    nan\n",
      "61363    0.0\n",
      "36538    0.0\n",
      "9664     nan\n",
      "24878    0.0\n",
      "Name: Acarbose, Length: 14304, dtype: object, 'Glimepiride': 22725    0.0\n",
      "67129    0.0\n",
      "26436    nan\n",
      "16469    0.0\n",
      "42510    nan\n",
      "        ... \n",
      "51999    nan\n",
      "61363    0.0\n",
      "36538    0.0\n",
      "9664     nan\n",
      "24878    0.0\n",
      "Name: Glimepiride, Length: 14304, dtype: object, 'Glipizide': 22725    0.0\n",
      "67129    0.0\n",
      "26436    nan\n",
      "16469    0.0\n",
      "42510    nan\n",
      "        ... \n",
      "51999    nan\n",
      "61363    0.0\n",
      "36538    0.0\n",
      "9664     nan\n",
      "24878    1.0\n",
      "Name: Glipizide, Length: 14304, dtype: object, 'Glipizide_And_Metformin_Hcl': 22725    0.0\n",
      "67129    0.0\n",
      "26436    nan\n",
      "16469    0.0\n",
      "42510    nan\n",
      "        ... \n",
      "51999    nan\n",
      "61363    0.0\n",
      "36538    0.0\n",
      "9664     nan\n",
      "24878    0.0\n",
      "Name: Glipizide_And_Metformin_Hcl, Length: 14304, dtype: object, 'Glipizide_And_Metformin_Hydrochloride': 22725    0.0\n",
      "67129    0.0\n",
      "26436    nan\n",
      "16469    0.0\n",
      "42510    nan\n",
      "        ... \n",
      "51999    nan\n",
      "61363    0.0\n",
      "36538    0.0\n",
      "9664     nan\n",
      "24878    0.0\n",
      "Name: Glipizide_And_Metformin_Hydrochloride, Length: 14304, dtype: object, 'Glyburide': 22725    0.0\n",
      "67129    0.0\n",
      "26436    nan\n",
      "16469    0.0\n",
      "42510    nan\n",
      "        ... \n",
      "51999    nan\n",
      "61363    0.0\n",
      "36538    0.0\n",
      "9664     nan\n",
      "24878    0.0\n",
      "Name: Glyburide, Length: 14304, dtype: object, 'Glyburide_And_Metformin_Hydrochloride': 22725    0.0\n",
      "67129    0.0\n",
      "26436    nan\n",
      "16469    0.0\n",
      "42510    nan\n",
      "        ... \n",
      "51999    nan\n",
      "61363    0.0\n",
      "36538    0.0\n",
      "9664     nan\n",
      "24878    0.0\n",
      "Name: Glyburide_And_Metformin_Hydrochloride, Length: 14304, dtype: object, 'Glyburide-metformin_Hydrochloride': 22725    0.0\n",
      "67129    0.0\n",
      "26436    nan\n",
      "16469    0.0\n",
      "42510    nan\n",
      "        ... \n",
      "51999    nan\n",
      "61363    0.0\n",
      "36538    0.0\n",
      "9664     nan\n",
      "24878    0.0\n",
      "Name: Glyburide-metformin_Hydrochloride, Length: 14304, dtype: object, 'Human_Insulin': 22725    1.0\n",
      "67129    0.0\n",
      "26436    nan\n",
      "16469    0.0\n",
      "42510    nan\n",
      "        ... \n",
      "51999    nan\n",
      "61363    0.0\n",
      "36538    0.0\n",
      "9664     nan\n",
      "24878    0.0\n",
      "Name: Human_Insulin, Length: 14304, dtype: object, 'Insulin_Human': 22725    0.0\n",
      "67129    1.0\n",
      "26436    nan\n",
      "16469    1.0\n",
      "42510    nan\n",
      "        ... \n",
      "51999    nan\n",
      "61363    1.0\n",
      "36538    1.0\n",
      "9664     nan\n",
      "24878    0.0\n",
      "Name: Insulin_Human, Length: 14304, dtype: object, 'Metformin_Hcl': 22725    0.0\n",
      "67129    0.0\n",
      "26436    nan\n",
      "16469    0.0\n",
      "42510    nan\n",
      "        ... \n",
      "51999    nan\n",
      "61363    0.0\n",
      "36538    0.0\n",
      "9664     nan\n",
      "24878    0.0\n",
      "Name: Metformin_Hcl, Length: 14304, dtype: object, 'Metformin_Hydrochloride': 22725    0.0\n",
      "67129    0.0\n",
      "26436    nan\n",
      "16469    0.0\n",
      "42510    nan\n",
      "        ... \n",
      "51999    nan\n",
      "61363    0.0\n",
      "36538    0.0\n",
      "9664     nan\n",
      "24878    0.0\n",
      "Name: Metformin_Hydrochloride, Length: 14304, dtype: object, 'Miglitol': 22725    0.0\n",
      "67129    0.0\n",
      "26436    nan\n",
      "16469    0.0\n",
      "42510    nan\n",
      "        ... \n",
      "51999    nan\n",
      "61363    0.0\n",
      "36538    0.0\n",
      "9664     nan\n",
      "24878    0.0\n",
      "Name: Miglitol, Length: 14304, dtype: object, 'Nateglinide': 22725    0.0\n",
      "67129    0.0\n",
      "26436    nan\n",
      "16469    0.0\n",
      "42510    nan\n",
      "        ... \n",
      "51999    nan\n",
      "61363    0.0\n",
      "36538    0.0\n",
      "9664     nan\n",
      "24878    0.0\n",
      "Name: Nateglinide, Length: 14304, dtype: object, 'Pioglitazole_And_Metformin_Hydrochloride': 22725    0.0\n",
      "67129    0.0\n",
      "26436    nan\n",
      "16469    0.0\n",
      "42510    nan\n",
      "        ... \n",
      "51999    nan\n",
      "61363    0.0\n",
      "36538    0.0\n",
      "9664     nan\n",
      "24878    0.0\n",
      "Name: Pioglitazole_And_Metformin_Hydrochloride, Length: 14304, dtype: object, 'Pioglitazone': 22725    0.0\n",
      "67129    0.0\n",
      "26436    nan\n",
      "16469    1.0\n",
      "42510    nan\n",
      "        ... \n",
      "51999    nan\n",
      "61363    0.0\n",
      "36538    0.0\n",
      "9664     nan\n",
      "24878    0.0\n",
      "Name: Pioglitazone, Length: 14304, dtype: object, 'Pioglitazone_Hydrochloride_And_Glimepiride': 22725    0.0\n",
      "67129    0.0\n",
      "26436    nan\n",
      "16469    0.0\n",
      "42510    nan\n",
      "        ... \n",
      "51999    nan\n",
      "61363    0.0\n",
      "36538    0.0\n",
      "9664     nan\n",
      "24878    0.0\n",
      "Name: Pioglitazone_Hydrochloride_And_Glimepiride, Length: 14304, dtype: object, 'Repaglinide': 22725    0.0\n",
      "67129    0.0\n",
      "26436    nan\n",
      "16469    0.0\n",
      "42510    nan\n",
      "        ... \n",
      "51999    nan\n",
      "61363    1.0\n",
      "36538    0.0\n",
      "9664     nan\n",
      "24878    0.0\n",
      "Name: Repaglinide, Length: 14304, dtype: object, 'Rosiglitazone_Maleate': 22725    0.0\n",
      "67129    0.0\n",
      "26436    nan\n",
      "16469    0.0\n",
      "42510    nan\n",
      "        ... \n",
      "51999    nan\n",
      "61363    0.0\n",
      "36538    0.0\n",
      "9664     nan\n",
      "24878    0.0\n",
      "Name: Rosiglitazone_Maleate, Length: 14304, dtype: object, 'Tolazamide': 22725    0.0\n",
      "67129    0.0\n",
      "26436    nan\n",
      "16469    0.0\n",
      "42510    nan\n",
      "        ... \n",
      "51999    nan\n",
      "61363    0.0\n",
      "36538    0.0\n",
      "9664     nan\n",
      "24878    0.0\n",
      "Name: Tolazamide, Length: 14304, dtype: object, 'Tolbutamide': 22725    0.0\n",
      "67129    0.0\n",
      "26436    nan\n",
      "16469    0.0\n",
      "42510    nan\n",
      "        ... \n",
      "51999    nan\n",
      "61363    0.0\n",
      "36538    0.0\n",
      "9664     nan\n",
      "24878    0.0\n",
      "Name: Tolbutamide, Length: 14304, dtype: object, 'number_outpatient': 22725    0.0\n",
      "67129    0.0\n",
      "26436    0.0\n",
      "16469    4.0\n",
      "42510    0.0\n",
      "        ... \n",
      "51999    0.0\n",
      "61363    0.0\n",
      "36538    1.0\n",
      "9664     0.0\n",
      "24878    0.0\n",
      "Name: number_outpatient, Length: 14304, dtype: float64, 'number_inpatient': 22725    0.0\n",
      "67129    0.0\n",
      "26436    0.0\n",
      "16469    0.0\n",
      "42510    0.0\n",
      "        ... \n",
      "51999    0.0\n",
      "61363    0.0\n",
      "36538    2.0\n",
      "9664     0.0\n",
      "24878    0.0\n",
      "Name: number_inpatient, Length: 14304, dtype: float64, 'number_emergency': 22725    0.0\n",
      "67129    1.0\n",
      "26436    0.0\n",
      "16469    0.0\n",
      "42510    0.0\n",
      "        ... \n",
      "51999    0.0\n",
      "61363    0.0\n",
      "36538    0.0\n",
      "9664     0.0\n",
      "24878    1.0\n",
      "Name: number_emergency, Length: 14304, dtype: float64, 'num_lab_procedures': 22725    49.0\n",
      "67129    24.0\n",
      "26436    61.0\n",
      "16469    22.0\n",
      "42510    39.0\n",
      "         ... \n",
      "51999    32.0\n",
      "61363    63.0\n",
      "36538    29.0\n",
      "9664     42.0\n",
      "24878    32.0\n",
      "Name: num_lab_procedures, Length: 14304, dtype: float64, 'number_diagnoses': 22725    5.0\n",
      "67129    4.0\n",
      "26436    9.0\n",
      "16469    9.0\n",
      "42510    9.0\n",
      "        ... \n",
      "51999    9.0\n",
      "61363    9.0\n",
      "36538    5.0\n",
      "9664     6.0\n",
      "24878    9.0\n",
      "Name: number_diagnoses, Length: 14304, dtype: float64, 'num_medications': 22725    17.0\n",
      "67129     2.0\n",
      "26436    10.0\n",
      "16469    17.0\n",
      "42510    12.0\n",
      "         ... \n",
      "51999    11.0\n",
      "61363    19.0\n",
      "36538     7.0\n",
      "9664     24.0\n",
      "24878    15.0\n",
      "Name: num_medications, Length: 14304, dtype: float64}\n",
      "Consider rewriting this model with the Functional API.\n"
     ]
    },
    {
     "name": "stderr",
     "output_type": "stream",
     "text": [
      "WARNING:tensorflow:Layers in a Sequential model should only have a single input tensor, but we receive a <class 'dict'> input: {'admission_type_id': 22725    1\n",
      "67129    1\n",
      "26436    3\n",
      "16469    6\n",
      "42510    1\n",
      "        ..\n",
      "51999    1\n",
      "61363    1\n",
      "36538    1\n",
      "9664     6\n",
      "24878    1\n",
      "Name: admission_type_id, Length: 14304, dtype: object, 'admission_source_id': 22725     6\n",
      "67129     7\n",
      "26436     7\n",
      "16469    17\n",
      "42510     1\n",
      "         ..\n",
      "51999     7\n",
      "61363     7\n",
      "36538     7\n",
      "9664     17\n",
      "24878     7\n",
      "Name: admission_source_id, Length: 14304, dtype: object, 'payer_code': 22725    MC\n",
      "67129    MD\n",
      "26436    CP\n",
      "16469     ?\n",
      "42510    MC\n",
      "         ..\n",
      "51999    MC\n",
      "61363    SP\n",
      "36538    MC\n",
      "9664      ?\n",
      "24878     ?\n",
      "Name: payer_code, Length: 14304, dtype: object, 'medical_specialty': 22725                Nephrology\n",
      "67129                         ?\n",
      "26436          Emergency/Trauma\n",
      "16469                         ?\n",
      "42510                         ?\n",
      "                  ...          \n",
      "51999                         ?\n",
      "61363          Emergency/Trauma\n",
      "36538                         ?\n",
      "9664     Family/GeneralPractice\n",
      "24878          InternalMedicine\n",
      "Name: medical_specialty, Length: 14304, dtype: object, 'primary_diagnosis_code': 22725       428\n",
      "67129    250.13\n",
      "26436       507\n",
      "16469       162\n",
      "42510       414\n",
      "          ...  \n",
      "51999       162\n",
      "61363       428\n",
      "36538         8\n",
      "9664        625\n",
      "24878       786\n",
      "Name: primary_diagnosis_code, Length: 14304, dtype: object, 'other_diagnosis_codes': 22725      425|585\n",
      "67129      275|276\n",
      "26436      276|428\n",
      "16469      196|196\n",
      "42510      427|496\n",
      "           ...    \n",
      "51999      518|426\n",
      "61363    424|250.4\n",
      "36538      276|496\n",
      "9664       428|250\n",
      "24878      491|428\n",
      "Name: other_diagnosis_codes, Length: 14304, dtype: object, 'max_glu_serum': 22725    None\n",
      "67129    None\n",
      "26436    None\n",
      "16469    >300\n",
      "42510    None\n",
      "         ... \n",
      "51999    None\n",
      "61363    None\n",
      "36538    None\n",
      "9664     None\n",
      "24878    None\n",
      "Name: max_glu_serum, Length: 14304, dtype: object, 'A1Cresult': 22725    None\n",
      "67129      >8\n",
      "26436    Norm\n",
      "16469    None\n",
      "42510    None\n",
      "         ... \n",
      "51999    None\n",
      "61363    None\n",
      "36538    None\n",
      "9664     None\n",
      "24878    None\n",
      "Name: A1Cresult, Length: 14304, dtype: object, 'race': 22725          Caucasian\n",
      "67129           Hispanic\n",
      "26436    AfricanAmerican\n",
      "16469          Caucasian\n",
      "42510          Caucasian\n",
      "              ...       \n",
      "51999          Caucasian\n",
      "61363          Caucasian\n",
      "36538          Caucasian\n",
      "9664           Caucasian\n",
      "24878              Other\n",
      "Name: race, Length: 14304, dtype: object, 'gender': 22725    Female\n",
      "67129    Female\n",
      "26436    Female\n",
      "16469    Female\n",
      "42510    Female\n",
      "          ...  \n",
      "51999      Male\n",
      "61363      Male\n",
      "36538      Male\n",
      "9664     Female\n",
      "24878    Female\n",
      "Name: gender, Length: 14304, dtype: object, 'age': 22725    [50-60)\n",
      "67129    [10-20)\n",
      "26436    [70-80)\n",
      "16469    [50-60)\n",
      "42510    [80-90)\n",
      "          ...   \n",
      "51999    [80-90)\n",
      "61363    [80-90)\n",
      "36538    [80-90)\n",
      "9664     [60-70)\n",
      "24878    [80-90)\n",
      "Name: age, Length: 14304, dtype: object, 'Acarbose': 22725    0.0\n",
      "67129    0.0\n",
      "26436    nan\n",
      "16469    0.0\n",
      "42510    nan\n",
      "        ... \n",
      "51999    nan\n",
      "61363    0.0\n",
      "36538    0.0\n",
      "9664     nan\n",
      "24878    0.0\n",
      "Name: Acarbose, Length: 14304, dtype: object, 'Glimepiride': 22725    0.0\n",
      "67129    0.0\n",
      "26436    nan\n",
      "16469    0.0\n",
      "42510    nan\n",
      "        ... \n",
      "51999    nan\n",
      "61363    0.0\n",
      "36538    0.0\n",
      "9664     nan\n",
      "24878    0.0\n",
      "Name: Glimepiride, Length: 14304, dtype: object, 'Glipizide': 22725    0.0\n",
      "67129    0.0\n",
      "26436    nan\n",
      "16469    0.0\n",
      "42510    nan\n",
      "        ... \n",
      "51999    nan\n",
      "61363    0.0\n",
      "36538    0.0\n",
      "9664     nan\n",
      "24878    1.0\n",
      "Name: Glipizide, Length: 14304, dtype: object, 'Glipizide_And_Metformin_Hcl': 22725    0.0\n",
      "67129    0.0\n",
      "26436    nan\n",
      "16469    0.0\n",
      "42510    nan\n",
      "        ... \n",
      "51999    nan\n",
      "61363    0.0\n",
      "36538    0.0\n",
      "9664     nan\n",
      "24878    0.0\n",
      "Name: Glipizide_And_Metformin_Hcl, Length: 14304, dtype: object, 'Glipizide_And_Metformin_Hydrochloride': 22725    0.0\n",
      "67129    0.0\n",
      "26436    nan\n",
      "16469    0.0\n",
      "42510    nan\n",
      "        ... \n",
      "51999    nan\n",
      "61363    0.0\n",
      "36538    0.0\n",
      "9664     nan\n",
      "24878    0.0\n",
      "Name: Glipizide_And_Metformin_Hydrochloride, Length: 14304, dtype: object, 'Glyburide': 22725    0.0\n",
      "67129    0.0\n",
      "26436    nan\n",
      "16469    0.0\n",
      "42510    nan\n",
      "        ... \n",
      "51999    nan\n",
      "61363    0.0\n",
      "36538    0.0\n",
      "9664     nan\n",
      "24878    0.0\n",
      "Name: Glyburide, Length: 14304, dtype: object, 'Glyburide_And_Metformin_Hydrochloride': 22725    0.0\n",
      "67129    0.0\n",
      "26436    nan\n",
      "16469    0.0\n",
      "42510    nan\n",
      "        ... \n",
      "51999    nan\n",
      "61363    0.0\n",
      "36538    0.0\n",
      "9664     nan\n",
      "24878    0.0\n",
      "Name: Glyburide_And_Metformin_Hydrochloride, Length: 14304, dtype: object, 'Glyburide-metformin_Hydrochloride': 22725    0.0\n",
      "67129    0.0\n",
      "26436    nan\n",
      "16469    0.0\n",
      "42510    nan\n",
      "        ... \n",
      "51999    nan\n",
      "61363    0.0\n",
      "36538    0.0\n",
      "9664     nan\n",
      "24878    0.0\n",
      "Name: Glyburide-metformin_Hydrochloride, Length: 14304, dtype: object, 'Human_Insulin': 22725    1.0\n",
      "67129    0.0\n",
      "26436    nan\n",
      "16469    0.0\n",
      "42510    nan\n",
      "        ... \n",
      "51999    nan\n",
      "61363    0.0\n",
      "36538    0.0\n",
      "9664     nan\n",
      "24878    0.0\n",
      "Name: Human_Insulin, Length: 14304, dtype: object, 'Insulin_Human': 22725    0.0\n",
      "67129    1.0\n",
      "26436    nan\n",
      "16469    1.0\n",
      "42510    nan\n",
      "        ... \n",
      "51999    nan\n",
      "61363    1.0\n",
      "36538    1.0\n",
      "9664     nan\n",
      "24878    0.0\n",
      "Name: Insulin_Human, Length: 14304, dtype: object, 'Metformin_Hcl': 22725    0.0\n",
      "67129    0.0\n",
      "26436    nan\n",
      "16469    0.0\n",
      "42510    nan\n",
      "        ... \n",
      "51999    nan\n",
      "61363    0.0\n",
      "36538    0.0\n",
      "9664     nan\n",
      "24878    0.0\n",
      "Name: Metformin_Hcl, Length: 14304, dtype: object, 'Metformin_Hydrochloride': 22725    0.0\n",
      "67129    0.0\n",
      "26436    nan\n",
      "16469    0.0\n",
      "42510    nan\n",
      "        ... \n",
      "51999    nan\n",
      "61363    0.0\n",
      "36538    0.0\n",
      "9664     nan\n",
      "24878    0.0\n",
      "Name: Metformin_Hydrochloride, Length: 14304, dtype: object, 'Miglitol': 22725    0.0\n",
      "67129    0.0\n",
      "26436    nan\n",
      "16469    0.0\n",
      "42510    nan\n",
      "        ... \n",
      "51999    nan\n",
      "61363    0.0\n",
      "36538    0.0\n",
      "9664     nan\n",
      "24878    0.0\n",
      "Name: Miglitol, Length: 14304, dtype: object, 'Nateglinide': 22725    0.0\n",
      "67129    0.0\n",
      "26436    nan\n",
      "16469    0.0\n",
      "42510    nan\n",
      "        ... \n",
      "51999    nan\n",
      "61363    0.0\n",
      "36538    0.0\n",
      "9664     nan\n",
      "24878    0.0\n",
      "Name: Nateglinide, Length: 14304, dtype: object, 'Pioglitazole_And_Metformin_Hydrochloride': 22725    0.0\n",
      "67129    0.0\n",
      "26436    nan\n",
      "16469    0.0\n",
      "42510    nan\n",
      "        ... \n",
      "51999    nan\n",
      "61363    0.0\n",
      "36538    0.0\n",
      "9664     nan\n",
      "24878    0.0\n",
      "Name: Pioglitazole_And_Metformin_Hydrochloride, Length: 14304, dtype: object, 'Pioglitazone': 22725    0.0\n",
      "67129    0.0\n",
      "26436    nan\n",
      "16469    1.0\n",
      "42510    nan\n",
      "        ... \n",
      "51999    nan\n",
      "61363    0.0\n",
      "36538    0.0\n",
      "9664     nan\n",
      "24878    0.0\n",
      "Name: Pioglitazone, Length: 14304, dtype: object, 'Pioglitazone_Hydrochloride_And_Glimepiride': 22725    0.0\n",
      "67129    0.0\n",
      "26436    nan\n",
      "16469    0.0\n",
      "42510    nan\n",
      "        ... \n",
      "51999    nan\n",
      "61363    0.0\n",
      "36538    0.0\n",
      "9664     nan\n",
      "24878    0.0\n",
      "Name: Pioglitazone_Hydrochloride_And_Glimepiride, Length: 14304, dtype: object, 'Repaglinide': 22725    0.0\n",
      "67129    0.0\n",
      "26436    nan\n",
      "16469    0.0\n",
      "42510    nan\n",
      "        ... \n",
      "51999    nan\n",
      "61363    1.0\n",
      "36538    0.0\n",
      "9664     nan\n",
      "24878    0.0\n",
      "Name: Repaglinide, Length: 14304, dtype: object, 'Rosiglitazone_Maleate': 22725    0.0\n",
      "67129    0.0\n",
      "26436    nan\n",
      "16469    0.0\n",
      "42510    nan\n",
      "        ... \n",
      "51999    nan\n",
      "61363    0.0\n",
      "36538    0.0\n",
      "9664     nan\n",
      "24878    0.0\n",
      "Name: Rosiglitazone_Maleate, Length: 14304, dtype: object, 'Tolazamide': 22725    0.0\n",
      "67129    0.0\n",
      "26436    nan\n",
      "16469    0.0\n",
      "42510    nan\n",
      "        ... \n",
      "51999    nan\n",
      "61363    0.0\n",
      "36538    0.0\n",
      "9664     nan\n",
      "24878    0.0\n",
      "Name: Tolazamide, Length: 14304, dtype: object, 'Tolbutamide': 22725    0.0\n",
      "67129    0.0\n",
      "26436    nan\n",
      "16469    0.0\n",
      "42510    nan\n",
      "        ... \n",
      "51999    nan\n",
      "61363    0.0\n",
      "36538    0.0\n",
      "9664     nan\n",
      "24878    0.0\n",
      "Name: Tolbutamide, Length: 14304, dtype: object, 'number_outpatient': 22725    0.0\n",
      "67129    0.0\n",
      "26436    0.0\n",
      "16469    4.0\n",
      "42510    0.0\n",
      "        ... \n",
      "51999    0.0\n",
      "61363    0.0\n",
      "36538    1.0\n",
      "9664     0.0\n",
      "24878    0.0\n",
      "Name: number_outpatient, Length: 14304, dtype: float64, 'number_inpatient': 22725    0.0\n",
      "67129    0.0\n",
      "26436    0.0\n",
      "16469    0.0\n",
      "42510    0.0\n",
      "        ... \n",
      "51999    0.0\n",
      "61363    0.0\n",
      "36538    2.0\n",
      "9664     0.0\n",
      "24878    0.0\n",
      "Name: number_inpatient, Length: 14304, dtype: float64, 'number_emergency': 22725    0.0\n",
      "67129    1.0\n",
      "26436    0.0\n",
      "16469    0.0\n",
      "42510    0.0\n",
      "        ... \n",
      "51999    0.0\n",
      "61363    0.0\n",
      "36538    0.0\n",
      "9664     0.0\n",
      "24878    1.0\n",
      "Name: number_emergency, Length: 14304, dtype: float64, 'num_lab_procedures': 22725    49.0\n",
      "67129    24.0\n",
      "26436    61.0\n",
      "16469    22.0\n",
      "42510    39.0\n",
      "         ... \n",
      "51999    32.0\n",
      "61363    63.0\n",
      "36538    29.0\n",
      "9664     42.0\n",
      "24878    32.0\n",
      "Name: num_lab_procedures, Length: 14304, dtype: float64, 'number_diagnoses': 22725    5.0\n",
      "67129    4.0\n",
      "26436    9.0\n",
      "16469    9.0\n",
      "42510    9.0\n",
      "        ... \n",
      "51999    9.0\n",
      "61363    9.0\n",
      "36538    5.0\n",
      "9664     6.0\n",
      "24878    9.0\n",
      "Name: number_diagnoses, Length: 14304, dtype: float64, 'num_medications': 22725    17.0\n",
      "67129     2.0\n",
      "26436    10.0\n",
      "16469    17.0\n",
      "42510    12.0\n",
      "         ... \n",
      "51999    11.0\n",
      "61363    19.0\n",
      "36538     7.0\n",
      "9664     24.0\n",
      "24878    15.0\n",
      "Name: num_medications, Length: 14304, dtype: float64}\n",
      "Consider rewriting this model with the Functional API.\n"
     ]
    },
    {
     "name": "stdout",
     "output_type": "stream",
     "text": [
      "WARNING:tensorflow:Layers in a Sequential model should only have a single input tensor, but we receive a <class 'dict'> input: {'patient_nbr': <tf.Tensor 'ExpandDims_35:0' shape=(None, 1) dtype=int64>, 'admission_type_id': <tf.Tensor 'ExpandDims_23:0' shape=(None, 1) dtype=string>, 'admission_source_id': <tf.Tensor 'ExpandDims_22:0' shape=(None, 1) dtype=string>, 'payer_code': <tf.Tensor 'ExpandDims_36:0' shape=(None, 1) dtype=string>, 'medical_specialty': <tf.Tensor 'ExpandDims_27:0' shape=(None, 1) dtype=string>, 'primary_diagnosis_code': <tf.Tensor 'ExpandDims_37:0' shape=(None, 1) dtype=string>, 'other_diagnosis_codes': <tf.Tensor 'ExpandDims_34:0' shape=(None, 1) dtype=string>, 'max_glu_serum': <tf.Tensor 'ExpandDims_26:0' shape=(None, 1) dtype=string>, 'A1Cresult': <tf.Tensor 'ExpandDims:0' shape=(None, 1) dtype=string>, 'race': <tf.Tensor 'ExpandDims_38:0' shape=(None, 1) dtype=string>, 'gender': <tf.Tensor 'ExpandDims_25:0' shape=(None, 1) dtype=string>, 'age': <tf.Tensor 'ExpandDims_24:0' shape=(None, 1) dtype=string>, 'Acarbose': <tf.Tensor 'ExpandDims_1:0' shape=(None, 1) dtype=string>, 'Glimepiride': <tf.Tensor 'ExpandDims_2:0' shape=(None, 1) dtype=string>, 'Glipizide': <tf.Tensor 'ExpandDims_3:0' shape=(None, 1) dtype=string>, 'Glipizide_And_Metformin_Hcl': <tf.Tensor 'ExpandDims_4:0' shape=(None, 1) dtype=string>, 'Glipizide_And_Metformin_Hydrochloride': <tf.Tensor 'ExpandDims_5:0' shape=(None, 1) dtype=string>, 'Glyburide': <tf.Tensor 'ExpandDims_6:0' shape=(None, 1) dtype=string>, 'Glyburide_And_Metformin_Hydrochloride': <tf.Tensor 'ExpandDims_8:0' shape=(None, 1) dtype=string>, 'Glyburide-metformin_Hydrochloride': <tf.Tensor 'ExpandDims_7:0' shape=(None, 1) dtype=string>, 'Human_Insulin': <tf.Tensor 'ExpandDims_9:0' shape=(None, 1) dtype=string>, 'Insulin_Human': <tf.Tensor 'ExpandDims_10:0' shape=(None, 1) dtype=string>, 'Metformin_Hcl': <tf.Tensor 'ExpandDims_11:0' shape=(None, 1) dtype=string>, 'Metformin_Hydrochloride': <tf.Tensor 'ExpandDims_12:0' shape=(None, 1) dtype=string>, 'Miglitol': <tf.Tensor 'ExpandDims_13:0' shape=(None, 1) dtype=string>, 'Nateglinide': <tf.Tensor 'ExpandDims_14:0' shape=(None, 1) dtype=string>, 'Pioglitazole_And_Metformin_Hydrochloride': <tf.Tensor 'ExpandDims_15:0' shape=(None, 1) dtype=string>, 'Pioglitazone': <tf.Tensor 'ExpandDims_16:0' shape=(None, 1) dtype=string>, 'Pioglitazone_Hydrochloride_And_Glimepiride': <tf.Tensor 'ExpandDims_17:0' shape=(None, 1) dtype=string>, 'Repaglinide': <tf.Tensor 'ExpandDims_18:0' shape=(None, 1) dtype=string>, 'Rosiglitazone_Maleate': <tf.Tensor 'ExpandDims_19:0' shape=(None, 1) dtype=string>, 'Tolazamide': <tf.Tensor 'ExpandDims_20:0' shape=(None, 1) dtype=string>, 'Tolbutamide': <tf.Tensor 'ExpandDims_21:0' shape=(None, 1) dtype=string>, 'number_outpatient': <tf.Tensor 'ExpandDims_33:0' shape=(None, 1) dtype=float64>, 'number_inpatient': <tf.Tensor 'ExpandDims_32:0' shape=(None, 1) dtype=float64>, 'number_emergency': <tf.Tensor 'ExpandDims_31:0' shape=(None, 1) dtype=float64>, 'num_lab_procedures': <tf.Tensor 'ExpandDims_28:0' shape=(None, 1) dtype=float64>, 'number_diagnoses': <tf.Tensor 'ExpandDims_30:0' shape=(None, 1) dtype=float64>, 'num_medications': <tf.Tensor 'ExpandDims_29:0' shape=(None, 1) dtype=float64>}\n",
      "Consider rewriting this model with the Functional API.\n"
     ]
    },
    {
     "name": "stderr",
     "output_type": "stream",
     "text": [
      "WARNING:tensorflow:Layers in a Sequential model should only have a single input tensor, but we receive a <class 'dict'> input: {'patient_nbr': <tf.Tensor 'ExpandDims_35:0' shape=(None, 1) dtype=int64>, 'admission_type_id': <tf.Tensor 'ExpandDims_23:0' shape=(None, 1) dtype=string>, 'admission_source_id': <tf.Tensor 'ExpandDims_22:0' shape=(None, 1) dtype=string>, 'payer_code': <tf.Tensor 'ExpandDims_36:0' shape=(None, 1) dtype=string>, 'medical_specialty': <tf.Tensor 'ExpandDims_27:0' shape=(None, 1) dtype=string>, 'primary_diagnosis_code': <tf.Tensor 'ExpandDims_37:0' shape=(None, 1) dtype=string>, 'other_diagnosis_codes': <tf.Tensor 'ExpandDims_34:0' shape=(None, 1) dtype=string>, 'max_glu_serum': <tf.Tensor 'ExpandDims_26:0' shape=(None, 1) dtype=string>, 'A1Cresult': <tf.Tensor 'ExpandDims:0' shape=(None, 1) dtype=string>, 'race': <tf.Tensor 'ExpandDims_38:0' shape=(None, 1) dtype=string>, 'gender': <tf.Tensor 'ExpandDims_25:0' shape=(None, 1) dtype=string>, 'age': <tf.Tensor 'ExpandDims_24:0' shape=(None, 1) dtype=string>, 'Acarbose': <tf.Tensor 'ExpandDims_1:0' shape=(None, 1) dtype=string>, 'Glimepiride': <tf.Tensor 'ExpandDims_2:0' shape=(None, 1) dtype=string>, 'Glipizide': <tf.Tensor 'ExpandDims_3:0' shape=(None, 1) dtype=string>, 'Glipizide_And_Metformin_Hcl': <tf.Tensor 'ExpandDims_4:0' shape=(None, 1) dtype=string>, 'Glipizide_And_Metformin_Hydrochloride': <tf.Tensor 'ExpandDims_5:0' shape=(None, 1) dtype=string>, 'Glyburide': <tf.Tensor 'ExpandDims_6:0' shape=(None, 1) dtype=string>, 'Glyburide_And_Metformin_Hydrochloride': <tf.Tensor 'ExpandDims_8:0' shape=(None, 1) dtype=string>, 'Glyburide-metformin_Hydrochloride': <tf.Tensor 'ExpandDims_7:0' shape=(None, 1) dtype=string>, 'Human_Insulin': <tf.Tensor 'ExpandDims_9:0' shape=(None, 1) dtype=string>, 'Insulin_Human': <tf.Tensor 'ExpandDims_10:0' shape=(None, 1) dtype=string>, 'Metformin_Hcl': <tf.Tensor 'ExpandDims_11:0' shape=(None, 1) dtype=string>, 'Metformin_Hydrochloride': <tf.Tensor 'ExpandDims_12:0' shape=(None, 1) dtype=string>, 'Miglitol': <tf.Tensor 'ExpandDims_13:0' shape=(None, 1) dtype=string>, 'Nateglinide': <tf.Tensor 'ExpandDims_14:0' shape=(None, 1) dtype=string>, 'Pioglitazole_And_Metformin_Hydrochloride': <tf.Tensor 'ExpandDims_15:0' shape=(None, 1) dtype=string>, 'Pioglitazone': <tf.Tensor 'ExpandDims_16:0' shape=(None, 1) dtype=string>, 'Pioglitazone_Hydrochloride_And_Glimepiride': <tf.Tensor 'ExpandDims_17:0' shape=(None, 1) dtype=string>, 'Repaglinide': <tf.Tensor 'ExpandDims_18:0' shape=(None, 1) dtype=string>, 'Rosiglitazone_Maleate': <tf.Tensor 'ExpandDims_19:0' shape=(None, 1) dtype=string>, 'Tolazamide': <tf.Tensor 'ExpandDims_20:0' shape=(None, 1) dtype=string>, 'Tolbutamide': <tf.Tensor 'ExpandDims_21:0' shape=(None, 1) dtype=string>, 'number_outpatient': <tf.Tensor 'ExpandDims_33:0' shape=(None, 1) dtype=float64>, 'number_inpatient': <tf.Tensor 'ExpandDims_32:0' shape=(None, 1) dtype=float64>, 'number_emergency': <tf.Tensor 'ExpandDims_31:0' shape=(None, 1) dtype=float64>, 'num_lab_procedures': <tf.Tensor 'ExpandDims_28:0' shape=(None, 1) dtype=float64>, 'number_diagnoses': <tf.Tensor 'ExpandDims_30:0' shape=(None, 1) dtype=float64>, 'num_medications': <tf.Tensor 'ExpandDims_29:0' shape=(None, 1) dtype=float64>}\n",
      "Consider rewriting this model with the Functional API.\n"
     ]
    }
   ],
   "source": [
    "feature_list = student_categorical_col_list + student_numerical_col_list\n",
    "diabetes_x_tst = dict(d_test[feature_list])\n",
    "diabetes_yhat = diabetes_model(diabetes_x_tst)\n",
    "preds = diabetes_model.predict(diabetes_test_ds)"
   ]
  },
  {
   "cell_type": "code",
   "execution_count": 156,
   "metadata": {},
   "outputs": [],
   "source": [
    "%autoreload\n",
    "from student_utils import get_mean_std_from_preds\n",
    "m, s = get_mean_std_from_preds(diabetes_yhat)"
   ]
  },
  {
   "cell_type": "code",
   "execution_count": 157,
   "metadata": {},
   "outputs": [
    {
     "data": {
      "text/plain": [
       "(array([2.4629931 , 0.47285116, 2.8835282 , ..., 0.98782325, 1.2224437 ,\n",
       "        0.8131163 ], dtype=float32),\n",
       " array([0.6916187 , 0.6876362 , 0.69127613, ..., 0.6878491 , 0.688567  ,\n",
       "        0.6895598 ], dtype=float32))"
      ]
     },
     "execution_count": 157,
     "metadata": {},
     "output_type": "execute_result"
    }
   ],
   "source": [
    "m, s"
   ]
  },
  {
   "cell_type": "markdown",
   "metadata": {},
   "source": [
    "## Show Prediction Output "
   ]
  },
  {
   "cell_type": "code",
   "execution_count": 158,
   "metadata": {},
   "outputs": [],
   "source": [
    "prob_outputs = {\n",
    "    \"pred\": preds.flatten(),\n",
    "    \"actual_value\": d_test['time_in_hospital'].values,\n",
    "    \"pred_mean\": m.flatten(),\n",
    "    \"pred_std\": s.flatten()\n",
    "}\n",
    "prob_output_df = pd.DataFrame(prob_outputs)"
   ]
  },
  {
   "cell_type": "code",
   "execution_count": 159,
   "metadata": {
    "scrolled": true
   },
   "outputs": [
    {
     "data": {
      "text/html": [
       "<div>\n",
       "<style scoped>\n",
       "    .dataframe tbody tr th:only-of-type {\n",
       "        vertical-align: middle;\n",
       "    }\n",
       "\n",
       "    .dataframe tbody tr th {\n",
       "        vertical-align: top;\n",
       "    }\n",
       "\n",
       "    .dataframe thead th {\n",
       "        text-align: right;\n",
       "    }\n",
       "</style>\n",
       "<table border=\"1\" class=\"dataframe\">\n",
       "  <thead>\n",
       "    <tr style=\"text-align: right;\">\n",
       "      <th></th>\n",
       "      <th>pred</th>\n",
       "      <th>actual_value</th>\n",
       "      <th>pred_mean</th>\n",
       "      <th>pred_std</th>\n",
       "    </tr>\n",
       "  </thead>\n",
       "  <tbody>\n",
       "    <tr>\n",
       "      <th>0</th>\n",
       "      <td>10.185124</td>\n",
       "      <td>12.0</td>\n",
       "      <td>2.462993</td>\n",
       "      <td>0.691619</td>\n",
       "    </tr>\n",
       "    <tr>\n",
       "      <th>1</th>\n",
       "      <td>7.061288</td>\n",
       "      <td>1.0</td>\n",
       "      <td>0.472851</td>\n",
       "      <td>0.687636</td>\n",
       "    </tr>\n",
       "    <tr>\n",
       "      <th>2</th>\n",
       "      <td>6.727659</td>\n",
       "      <td>4.0</td>\n",
       "      <td>2.883528</td>\n",
       "      <td>0.691276</td>\n",
       "    </tr>\n",
       "    <tr>\n",
       "      <th>3</th>\n",
       "      <td>3.681791</td>\n",
       "      <td>1.0</td>\n",
       "      <td>2.214670</td>\n",
       "      <td>0.690248</td>\n",
       "    </tr>\n",
       "    <tr>\n",
       "      <th>4</th>\n",
       "      <td>11.036695</td>\n",
       "      <td>1.0</td>\n",
       "      <td>1.086078</td>\n",
       "      <td>0.688372</td>\n",
       "    </tr>\n",
       "  </tbody>\n",
       "</table>\n",
       "</div>"
      ],
      "text/plain": [
       "        pred  actual_value  pred_mean  pred_std\n",
       "0  10.185124          12.0   2.462993  0.691619\n",
       "1   7.061288           1.0   0.472851  0.687636\n",
       "2   6.727659           4.0   2.883528  0.691276\n",
       "3   3.681791           1.0   2.214670  0.690248\n",
       "4  11.036695           1.0   1.086078  0.688372"
      ]
     },
     "execution_count": 159,
     "metadata": {},
     "output_type": "execute_result"
    }
   ],
   "source": [
    "prob_output_df.head()"
   ]
  },
  {
   "cell_type": "markdown",
   "metadata": {},
   "source": [
    "## Convert Regression Output to Classification Output for Patient Selection"
   ]
  },
  {
   "cell_type": "markdown",
   "metadata": {},
   "source": [
    "**Question 10**: Given the output predictions, convert it to a binary label for whether the patient meets the time criteria or does not (HINT: use the mean prediction numpy array). The expected output is a numpy array with a 1 or 0 based off if the prediction meets or doesnt meet the criteria."
   ]
  },
  {
   "cell_type": "code",
   "execution_count": 160,
   "metadata": {},
   "outputs": [
    {
     "data": {
      "text/plain": [
       "(array([0, 0, 0, ..., 0, 0, 0]), 14304, 612)"
      ]
     },
     "execution_count": 160,
     "metadata": {},
     "output_type": "execute_result"
    }
   ],
   "source": [
    "%autoreload\n",
    "from student_utils import get_student_binary_prediction\n",
    "student_binary_prediction = get_student_binary_prediction(prob_output_df, 'pred_mean')\n",
    "student_binary_prediction, len(student_binary_prediction), sum(student_binary_prediction)"
   ]
  },
  {
   "cell_type": "markdown",
   "metadata": {},
   "source": [
    "### Add Binary Prediction to Test Dataframe"
   ]
  },
  {
   "cell_type": "markdown",
   "metadata": {},
   "source": [
    "Using the student_binary_prediction output that is a numpy array with binary labels, we can use this to add to a dataframe to better visualize and also to prepare the data for the Aequitas toolkit. The Aequitas toolkit requires that the predictions be mapped to a binary label for the predictions (called 'score' field) and the actual value (called 'label_value')."
   ]
  },
  {
   "cell_type": "code",
   "execution_count": 161,
   "metadata": {},
   "outputs": [],
   "source": [
    "def add_pred_to_test(test_df, pred_np, demo_col_list):\n",
    "    for c in demo_col_list:\n",
    "        test_df[c] = test_df[c].astype(str)\n",
    "    test_df['score'] = pred_np\n",
    "    test_df['label_value'] = test_df['time_in_hospital'].apply(lambda x: 1 if x >=5 else 0)\n",
    "    return test_df\n",
    "\n",
    "pred_test_df = add_pred_to_test(d_test, student_binary_prediction, ['race', 'gender'])"
   ]
  },
  {
   "cell_type": "code",
   "execution_count": 162,
   "metadata": {},
   "outputs": [
    {
     "data": {
      "text/html": [
       "<div>\n",
       "<style scoped>\n",
       "    .dataframe tbody tr th:only-of-type {\n",
       "        vertical-align: middle;\n",
       "    }\n",
       "\n",
       "    .dataframe tbody tr th {\n",
       "        vertical-align: top;\n",
       "    }\n",
       "\n",
       "    .dataframe thead th {\n",
       "        text-align: right;\n",
       "    }\n",
       "</style>\n",
       "<table border=\"1\" class=\"dataframe\">\n",
       "  <thead>\n",
       "    <tr style=\"text-align: right;\">\n",
       "      <th></th>\n",
       "      <th>patient_nbr</th>\n",
       "      <th>gender</th>\n",
       "      <th>race</th>\n",
       "      <th>time_in_hospital</th>\n",
       "      <th>score</th>\n",
       "      <th>label_value</th>\n",
       "    </tr>\n",
       "  </thead>\n",
       "  <tbody>\n",
       "    <tr>\n",
       "      <th>22725</th>\n",
       "      <td>17079237</td>\n",
       "      <td>Female</td>\n",
       "      <td>Caucasian</td>\n",
       "      <td>12.0</td>\n",
       "      <td>0</td>\n",
       "      <td>1</td>\n",
       "    </tr>\n",
       "    <tr>\n",
       "      <th>67129</th>\n",
       "      <td>126936221</td>\n",
       "      <td>Female</td>\n",
       "      <td>Hispanic</td>\n",
       "      <td>1.0</td>\n",
       "      <td>0</td>\n",
       "      <td>0</td>\n",
       "    </tr>\n",
       "    <tr>\n",
       "      <th>26436</th>\n",
       "      <td>93500748</td>\n",
       "      <td>Female</td>\n",
       "      <td>AfricanAmerican</td>\n",
       "      <td>4.0</td>\n",
       "      <td>0</td>\n",
       "      <td>0</td>\n",
       "    </tr>\n",
       "    <tr>\n",
       "      <th>16469</th>\n",
       "      <td>23748975</td>\n",
       "      <td>Female</td>\n",
       "      <td>Caucasian</td>\n",
       "      <td>1.0</td>\n",
       "      <td>0</td>\n",
       "      <td>0</td>\n",
       "    </tr>\n",
       "    <tr>\n",
       "      <th>42510</th>\n",
       "      <td>93995559</td>\n",
       "      <td>Female</td>\n",
       "      <td>Caucasian</td>\n",
       "      <td>1.0</td>\n",
       "      <td>0</td>\n",
       "      <td>0</td>\n",
       "    </tr>\n",
       "  </tbody>\n",
       "</table>\n",
       "</div>"
      ],
      "text/plain": [
       "       patient_nbr  gender             race  time_in_hospital  score  \\\n",
       "22725     17079237  Female        Caucasian              12.0      0   \n",
       "67129    126936221  Female         Hispanic               1.0      0   \n",
       "26436     93500748  Female  AfricanAmerican               4.0      0   \n",
       "16469     23748975  Female        Caucasian               1.0      0   \n",
       "42510     93995559  Female        Caucasian               1.0      0   \n",
       "\n",
       "       label_value  \n",
       "22725            1  \n",
       "67129            0  \n",
       "26436            0  \n",
       "16469            0  \n",
       "42510            0  "
      ]
     },
     "execution_count": 162,
     "metadata": {},
     "output_type": "execute_result"
    }
   ],
   "source": [
    "pred_test_df[['patient_nbr', 'gender', 'race', 'time_in_hospital', 'score', 'label_value']].head()"
   ]
  },
  {
   "cell_type": "markdown",
   "metadata": {},
   "source": [
    "## Model Evaluation Metrics "
   ]
  },
  {
   "cell_type": "markdown",
   "metadata": {},
   "source": [
    "**Question 11**: Now it is time to use the newly created binary labels in the 'pred_test_df' dataframe to evaluate the model with some common classification metrics. Please create a report summary of the performance of the model and be sure to give the ROC AUC, F1 score(weighted), class precision and recall scores. "
   ]
  },
  {
   "cell_type": "markdown",
   "metadata": {},
   "source": [
    "For the report please be sure to include the following three parts:\n",
    "- With a non-technical audience in mind, explain the precision-recall tradeoff in regard to how you have optimized your model.\n",
    "\n",
    "- What are some areas of improvement for future iterations?"
   ]
  },
  {
   "cell_type": "markdown",
   "metadata": {},
   "source": [
    "**Answer**: \n",
    "\n",
    "We did not explicitely optimize the model regarding the precision-recall tradeoff as we used the thresholded mean prediction for the binary score. In general a high precision is favorable in order to minimize unsuitable patients in the experiment as they would incure additional costs. We could for example change the tradeoff by using uper or lower intervalls instead of the mean (MAP). But as the precision of the positive class is already reasonably high, we would go with the MAP to not further decrease the recall. \n",
    "\n",
    "We tried as well using embedding features instead of one hot encoding (see categorical column function). This led to a slightly higher/worse val MSE (7.5721) after 10 epochs and we got as well lower/worse roc_auc_score and average f1-score. Follow up options here would be to train both approaches for more epochs until convergence or add additional regularization, but we did not do those in this iteration.  \n",
    "\n",
    "We also tried to turn the last dense in a probabilistic layer. After training 10 epochs this led to a val MSE of 29.1, which is significantly higher than with the base model. Here as well, further training might help as the probabilistic layer can be seen as a type of regularization. \n",
    "\n",
    "In future iterations the model might be improved by\n",
    "* features selection methods,\n",
    "* different imputation methods like mean, median or predictive,\n",
    "* different model architectures (#layers, #nodes, activation functions) and \n",
    "* other hyper parameter tuning (i.e. optimizer). \n",
    "\n"
   ]
  },
  {
   "cell_type": "code",
   "execution_count": 163,
   "metadata": {},
   "outputs": [
    {
     "name": "stdout",
     "output_type": "stream",
     "text": [
      "              precision    recall  f1-score   support\n",
      "\n",
      "           0       0.66      1.00      0.79      9053\n",
      "           1       0.95      0.11      0.20      5251\n",
      "\n",
      "    accuracy                           0.67     14304\n",
      "   macro avg       0.80      0.55      0.50     14304\n",
      "weighted avg       0.77      0.67      0.58     14304\n",
      "\n"
     ]
    }
   ],
   "source": [
    "from sklearn.metrics import accuracy_score, f1_score, classification_report, roc_auc_score\n",
    "\n",
    "# AUC, F1, precision and recall\n",
    "# Summary\n",
    "y_true, y_pred = pred_test_df['label_value'], pred_test_df['score']\n",
    "print(classification_report(y_true, y_pred))"
   ]
  },
  {
   "cell_type": "code",
   "execution_count": 164,
   "metadata": {},
   "outputs": [
    {
     "data": {
      "text/plain": [
       "0.5537611063042429"
      ]
     },
     "execution_count": 164,
     "metadata": {},
     "output_type": "execute_result"
    }
   ],
   "source": [
    "roc_auc_score(y_true, y_pred)"
   ]
  },
  {
   "cell_type": "markdown",
   "metadata": {},
   "source": [
    "# 7. Evaluating Potential Model Biases with Aequitas Toolkit"
   ]
  },
  {
   "cell_type": "markdown",
   "metadata": {},
   "source": [
    "## Prepare Data For Aequitas Bias Toolkit "
   ]
  },
  {
   "cell_type": "markdown",
   "metadata": {},
   "source": [
    "Using the gender and race fields, we will prepare the data for the Aequitas Toolkit."
   ]
  },
  {
   "cell_type": "code",
   "execution_count": 165,
   "metadata": {},
   "outputs": [
    {
     "name": "stderr",
     "output_type": "stream",
     "text": [
      "/home/mkirmse/venv/outfit_ml_lib/lib/python3.7/site-packages/pandas/core/indexing.py:966: SettingWithCopyWarning: \n",
      "A value is trying to be set on a copy of a slice from a DataFrame.\n",
      "Try using .loc[row_indexer,col_indexer] = value instead\n",
      "\n",
      "See the caveats in the documentation: https://pandas.pydata.org/pandas-docs/stable/user_guide/indexing.html#returning-a-view-versus-a-copy\n",
      "  self.obj[item] = s\n"
     ]
    }
   ],
   "source": [
    "# Aequitas\n",
    "from aequitas.preprocessing import preprocess_input_df\n",
    "from aequitas.group import Group\n",
    "from aequitas.plotting import Plot\n",
    "from aequitas.bias import Bias\n",
    "from aequitas.fairness import Fairness\n",
    "\n",
    "ae_subset_df = pred_test_df[['race', 'gender', 'score', 'label_value']]\n",
    "ae_df, _ = preprocess_input_df(ae_subset_df)\n",
    "g = Group()\n",
    "xtab, _ = g.get_crosstabs(ae_df)\n",
    "absolute_metrics = g.list_absolute_metrics(xtab)\n",
    "clean_xtab = xtab.fillna(-1)\n",
    "aqp = Plot()\n",
    "b = Bias()\n"
   ]
  },
  {
   "cell_type": "markdown",
   "metadata": {},
   "source": [
    "## Reference Group Selection"
   ]
  },
  {
   "cell_type": "markdown",
   "metadata": {},
   "source": [
    "Below we have chosen the reference group for our analysis but feel free to select another one."
   ]
  },
  {
   "cell_type": "code",
   "execution_count": 166,
   "metadata": {},
   "outputs": [
    {
     "name": "stdout",
     "output_type": "stream",
     "text": [
      "get_disparity_predefined_group()\n"
     ]
    }
   ],
   "source": [
    "# test reference group with Caucasian Male\n",
    "bdf = b.get_disparity_predefined_groups(clean_xtab, \n",
    "                    original_df=ae_df, \n",
    "                    ref_groups_dict={'race':'Caucasian', 'gender':'Male'\n",
    "                                     }, \n",
    "                    alpha=0.05, \n",
    "                    check_significance=None)\n",
    "\n",
    "\n",
    "f = Fairness()\n",
    "fdf = f.get_group_value_fairness(bdf)"
   ]
  },
  {
   "cell_type": "code",
   "execution_count": 167,
   "metadata": {},
   "outputs": [
    {
     "data": {
      "text/html": [
       "<div>\n",
       "<style scoped>\n",
       "    .dataframe tbody tr th:only-of-type {\n",
       "        vertical-align: middle;\n",
       "    }\n",
       "\n",
       "    .dataframe tbody tr th {\n",
       "        vertical-align: top;\n",
       "    }\n",
       "\n",
       "    .dataframe thead th {\n",
       "        text-align: right;\n",
       "    }\n",
       "</style>\n",
       "<table border=\"1\" class=\"dataframe\">\n",
       "  <thead>\n",
       "    <tr style=\"text-align: right;\">\n",
       "      <th></th>\n",
       "      <th>model_id</th>\n",
       "      <th>score_threshold</th>\n",
       "      <th>k</th>\n",
       "      <th>attribute_name</th>\n",
       "      <th>attribute_value</th>\n",
       "      <th>tpr</th>\n",
       "      <th>tnr</th>\n",
       "      <th>for</th>\n",
       "      <th>fdr</th>\n",
       "      <th>fpr</th>\n",
       "      <th>fnr</th>\n",
       "      <th>npv</th>\n",
       "      <th>precision</th>\n",
       "      <th>pp</th>\n",
       "      <th>pn</th>\n",
       "      <th>ppr</th>\n",
       "      <th>pprev</th>\n",
       "      <th>fp</th>\n",
       "      <th>fn</th>\n",
       "      <th>tn</th>\n",
       "      <th>tp</th>\n",
       "      <th>group_label_pos</th>\n",
       "      <th>group_label_neg</th>\n",
       "      <th>group_size</th>\n",
       "      <th>total_entities</th>\n",
       "      <th>prev</th>\n",
       "      <th>ppr_disparity</th>\n",
       "      <th>pprev_disparity</th>\n",
       "      <th>precision_disparity</th>\n",
       "      <th>fdr_disparity</th>\n",
       "      <th>for_disparity</th>\n",
       "      <th>fpr_disparity</th>\n",
       "      <th>fnr_disparity</th>\n",
       "      <th>tpr_disparity</th>\n",
       "      <th>tnr_disparity</th>\n",
       "      <th>npv_disparity</th>\n",
       "      <th>ppr_ref_group_value</th>\n",
       "      <th>pprev_ref_group_value</th>\n",
       "      <th>precision_ref_group_value</th>\n",
       "      <th>fdr_ref_group_value</th>\n",
       "      <th>for_ref_group_value</th>\n",
       "      <th>fpr_ref_group_value</th>\n",
       "      <th>fnr_ref_group_value</th>\n",
       "      <th>tpr_ref_group_value</th>\n",
       "      <th>tnr_ref_group_value</th>\n",
       "      <th>npv_ref_group_value</th>\n",
       "      <th>Statistical Parity</th>\n",
       "      <th>Impact Parity</th>\n",
       "      <th>FDR Parity</th>\n",
       "      <th>FPR Parity</th>\n",
       "      <th>FOR Parity</th>\n",
       "      <th>FNR Parity</th>\n",
       "      <th>TPR Parity</th>\n",
       "      <th>TNR Parity</th>\n",
       "      <th>NPV Parity</th>\n",
       "      <th>Precision Parity</th>\n",
       "      <th>TypeI Parity</th>\n",
       "      <th>TypeII Parity</th>\n",
       "      <th>Equalized Odds</th>\n",
       "      <th>Unsupervised Fairness</th>\n",
       "      <th>Supervised Fairness</th>\n",
       "    </tr>\n",
       "  </thead>\n",
       "  <tbody>\n",
       "    <tr>\n",
       "      <th>0</th>\n",
       "      <td>0</td>\n",
       "      <td>binary 0/1</td>\n",
       "      <td>612</td>\n",
       "      <td>race</td>\n",
       "      <td>?</td>\n",
       "      <td>0.123288</td>\n",
       "      <td>1.000000</td>\n",
       "      <td>0.363636</td>\n",
       "      <td>0.000000</td>\n",
       "      <td>0.000000</td>\n",
       "      <td>0.876712</td>\n",
       "      <td>0.636364</td>\n",
       "      <td>1.000000</td>\n",
       "      <td>18</td>\n",
       "      <td>352</td>\n",
       "      <td>0.029412</td>\n",
       "      <td>0.048649</td>\n",
       "      <td>0</td>\n",
       "      <td>128</td>\n",
       "      <td>224</td>\n",
       "      <td>18</td>\n",
       "      <td>146</td>\n",
       "      <td>224</td>\n",
       "      <td>370</td>\n",
       "      <td>14304</td>\n",
       "      <td>0.394595</td>\n",
       "      <td>0.038544</td>\n",
       "      <td>1.110168</td>\n",
       "      <td>1.051802</td>\n",
       "      <td>0.000000</td>\n",
       "      <td>1.069704</td>\n",
       "      <td>0.000000</td>\n",
       "      <td>0.989085</td>\n",
       "      <td>1.085154</td>\n",
       "      <td>1.003420</td>\n",
       "      <td>0.964101</td>\n",
       "      <td>Caucasian</td>\n",
       "      <td>Caucasian</td>\n",
       "      <td>Caucasian</td>\n",
       "      <td>Caucasian</td>\n",
       "      <td>Caucasian</td>\n",
       "      <td>Caucasian</td>\n",
       "      <td>Caucasian</td>\n",
       "      <td>Caucasian</td>\n",
       "      <td>Caucasian</td>\n",
       "      <td>Caucasian</td>\n",
       "      <td>False</td>\n",
       "      <td>True</td>\n",
       "      <td>False</td>\n",
       "      <td>False</td>\n",
       "      <td>True</td>\n",
       "      <td>True</td>\n",
       "      <td>True</td>\n",
       "      <td>True</td>\n",
       "      <td>True</td>\n",
       "      <td>True</td>\n",
       "      <td>False</td>\n",
       "      <td>True</td>\n",
       "      <td>False</td>\n",
       "      <td>False</td>\n",
       "      <td>False</td>\n",
       "    </tr>\n",
       "    <tr>\n",
       "      <th>1</th>\n",
       "      <td>0</td>\n",
       "      <td>binary 0/1</td>\n",
       "      <td>612</td>\n",
       "      <td>race</td>\n",
       "      <td>AfricanAmerican</td>\n",
       "      <td>0.109295</td>\n",
       "      <td>0.996364</td>\n",
       "      <td>0.346582</td>\n",
       "      <td>0.053097</td>\n",
       "      <td>0.003636</td>\n",
       "      <td>0.890705</td>\n",
       "      <td>0.653418</td>\n",
       "      <td>0.946903</td>\n",
       "      <td>113</td>\n",
       "      <td>2516</td>\n",
       "      <td>0.184641</td>\n",
       "      <td>0.042982</td>\n",
       "      <td>6</td>\n",
       "      <td>872</td>\n",
       "      <td>1644</td>\n",
       "      <td>107</td>\n",
       "      <td>979</td>\n",
       "      <td>1650</td>\n",
       "      <td>2629</td>\n",
       "      <td>14304</td>\n",
       "      <td>0.372385</td>\n",
       "      <td>0.241970</td>\n",
       "      <td>0.980858</td>\n",
       "      <td>0.995954</td>\n",
       "      <td>1.078107</td>\n",
       "      <td>1.019535</td>\n",
       "      <td>1.067036</td>\n",
       "      <td>1.004871</td>\n",
       "      <td>0.961995</td>\n",
       "      <td>0.999771</td>\n",
       "      <td>0.989939</td>\n",
       "      <td>Caucasian</td>\n",
       "      <td>Caucasian</td>\n",
       "      <td>Caucasian</td>\n",
       "      <td>Caucasian</td>\n",
       "      <td>Caucasian</td>\n",
       "      <td>Caucasian</td>\n",
       "      <td>Caucasian</td>\n",
       "      <td>Caucasian</td>\n",
       "      <td>Caucasian</td>\n",
       "      <td>Caucasian</td>\n",
       "      <td>False</td>\n",
       "      <td>True</td>\n",
       "      <td>True</td>\n",
       "      <td>True</td>\n",
       "      <td>True</td>\n",
       "      <td>True</td>\n",
       "      <td>True</td>\n",
       "      <td>True</td>\n",
       "      <td>True</td>\n",
       "      <td>True</td>\n",
       "      <td>True</td>\n",
       "      <td>True</td>\n",
       "      <td>True</td>\n",
       "      <td>False</td>\n",
       "      <td>True</td>\n",
       "    </tr>\n",
       "    <tr>\n",
       "      <th>2</th>\n",
       "      <td>0</td>\n",
       "      <td>binary 0/1</td>\n",
       "      <td>612</td>\n",
       "      <td>race</td>\n",
       "      <td>Asian</td>\n",
       "      <td>0.066667</td>\n",
       "      <td>0.986301</td>\n",
       "      <td>0.280000</td>\n",
       "      <td>0.333333</td>\n",
       "      <td>0.013699</td>\n",
       "      <td>0.933333</td>\n",
       "      <td>0.720000</td>\n",
       "      <td>0.666667</td>\n",
       "      <td>3</td>\n",
       "      <td>100</td>\n",
       "      <td>0.004902</td>\n",
       "      <td>0.029126</td>\n",
       "      <td>1</td>\n",
       "      <td>28</td>\n",
       "      <td>72</td>\n",
       "      <td>2</td>\n",
       "      <td>30</td>\n",
       "      <td>73</td>\n",
       "      <td>103</td>\n",
       "      <td>14304</td>\n",
       "      <td>0.291262</td>\n",
       "      <td>0.006424</td>\n",
       "      <td>0.664664</td>\n",
       "      <td>0.701201</td>\n",
       "      <td>6.768116</td>\n",
       "      <td>0.823672</td>\n",
       "      <td>4.019655</td>\n",
       "      <td>1.052964</td>\n",
       "      <td>0.586787</td>\n",
       "      <td>0.989674</td>\n",
       "      <td>1.090812</td>\n",
       "      <td>Caucasian</td>\n",
       "      <td>Caucasian</td>\n",
       "      <td>Caucasian</td>\n",
       "      <td>Caucasian</td>\n",
       "      <td>Caucasian</td>\n",
       "      <td>Caucasian</td>\n",
       "      <td>Caucasian</td>\n",
       "      <td>Caucasian</td>\n",
       "      <td>Caucasian</td>\n",
       "      <td>Caucasian</td>\n",
       "      <td>False</td>\n",
       "      <td>False</td>\n",
       "      <td>False</td>\n",
       "      <td>False</td>\n",
       "      <td>True</td>\n",
       "      <td>True</td>\n",
       "      <td>False</td>\n",
       "      <td>True</td>\n",
       "      <td>True</td>\n",
       "      <td>False</td>\n",
       "      <td>False</td>\n",
       "      <td>True</td>\n",
       "      <td>False</td>\n",
       "      <td>False</td>\n",
       "      <td>False</td>\n",
       "    </tr>\n",
       "    <tr>\n",
       "      <th>3</th>\n",
       "      <td>0</td>\n",
       "      <td>binary 0/1</td>\n",
       "      <td>612</td>\n",
       "      <td>race</td>\n",
       "      <td>Caucasian</td>\n",
       "      <td>0.113613</td>\n",
       "      <td>0.996592</td>\n",
       "      <td>0.339941</td>\n",
       "      <td>0.049251</td>\n",
       "      <td>0.003408</td>\n",
       "      <td>0.886387</td>\n",
       "      <td>0.660059</td>\n",
       "      <td>0.950749</td>\n",
       "      <td>467</td>\n",
       "      <td>10190</td>\n",
       "      <td>0.763072</td>\n",
       "      <td>0.043821</td>\n",
       "      <td>23</td>\n",
       "      <td>3464</td>\n",
       "      <td>6726</td>\n",
       "      <td>444</td>\n",
       "      <td>3908</td>\n",
       "      <td>6749</td>\n",
       "      <td>10657</td>\n",
       "      <td>14304</td>\n",
       "      <td>0.366707</td>\n",
       "      <td>1.000000</td>\n",
       "      <td>1.000000</td>\n",
       "      <td>1.000000</td>\n",
       "      <td>1.000000</td>\n",
       "      <td>1.000000</td>\n",
       "      <td>1.000000</td>\n",
       "      <td>1.000000</td>\n",
       "      <td>1.000000</td>\n",
       "      <td>1.000000</td>\n",
       "      <td>1.000000</td>\n",
       "      <td>Caucasian</td>\n",
       "      <td>Caucasian</td>\n",
       "      <td>Caucasian</td>\n",
       "      <td>Caucasian</td>\n",
       "      <td>Caucasian</td>\n",
       "      <td>Caucasian</td>\n",
       "      <td>Caucasian</td>\n",
       "      <td>Caucasian</td>\n",
       "      <td>Caucasian</td>\n",
       "      <td>Caucasian</td>\n",
       "      <td>True</td>\n",
       "      <td>True</td>\n",
       "      <td>True</td>\n",
       "      <td>True</td>\n",
       "      <td>True</td>\n",
       "      <td>True</td>\n",
       "      <td>True</td>\n",
       "      <td>True</td>\n",
       "      <td>True</td>\n",
       "      <td>True</td>\n",
       "      <td>True</td>\n",
       "      <td>True</td>\n",
       "      <td>True</td>\n",
       "      <td>True</td>\n",
       "      <td>True</td>\n",
       "    </tr>\n",
       "    <tr>\n",
       "      <th>4</th>\n",
       "      <td>0</td>\n",
       "      <td>binary 0/1</td>\n",
       "      <td>612</td>\n",
       "      <td>race</td>\n",
       "      <td>Hispanic</td>\n",
       "      <td>0.039604</td>\n",
       "      <td>1.000000</td>\n",
       "      <td>0.323333</td>\n",
       "      <td>0.000000</td>\n",
       "      <td>0.000000</td>\n",
       "      <td>0.960396</td>\n",
       "      <td>0.676667</td>\n",
       "      <td>1.000000</td>\n",
       "      <td>4</td>\n",
       "      <td>300</td>\n",
       "      <td>0.006536</td>\n",
       "      <td>0.013158</td>\n",
       "      <td>0</td>\n",
       "      <td>97</td>\n",
       "      <td>203</td>\n",
       "      <td>4</td>\n",
       "      <td>101</td>\n",
       "      <td>203</td>\n",
       "      <td>304</td>\n",
       "      <td>14304</td>\n",
       "      <td>0.332237</td>\n",
       "      <td>0.008565</td>\n",
       "      <td>0.300265</td>\n",
       "      <td>1.051802</td>\n",
       "      <td>0.000000</td>\n",
       "      <td>0.951145</td>\n",
       "      <td>0.000000</td>\n",
       "      <td>1.083495</td>\n",
       "      <td>0.348586</td>\n",
       "      <td>1.003420</td>\n",
       "      <td>1.025161</td>\n",
       "      <td>Caucasian</td>\n",
       "      <td>Caucasian</td>\n",
       "      <td>Caucasian</td>\n",
       "      <td>Caucasian</td>\n",
       "      <td>Caucasian</td>\n",
       "      <td>Caucasian</td>\n",
       "      <td>Caucasian</td>\n",
       "      <td>Caucasian</td>\n",
       "      <td>Caucasian</td>\n",
       "      <td>Caucasian</td>\n",
       "      <td>False</td>\n",
       "      <td>False</td>\n",
       "      <td>False</td>\n",
       "      <td>False</td>\n",
       "      <td>True</td>\n",
       "      <td>True</td>\n",
       "      <td>False</td>\n",
       "      <td>True</td>\n",
       "      <td>True</td>\n",
       "      <td>True</td>\n",
       "      <td>False</td>\n",
       "      <td>True</td>\n",
       "      <td>False</td>\n",
       "      <td>False</td>\n",
       "      <td>False</td>\n",
       "    </tr>\n",
       "    <tr>\n",
       "      <th>5</th>\n",
       "      <td>0</td>\n",
       "      <td>binary 0/1</td>\n",
       "      <td>612</td>\n",
       "      <td>race</td>\n",
       "      <td>Other</td>\n",
       "      <td>0.080460</td>\n",
       "      <td>1.000000</td>\n",
       "      <td>0.341880</td>\n",
       "      <td>0.000000</td>\n",
       "      <td>0.000000</td>\n",
       "      <td>0.919540</td>\n",
       "      <td>0.658120</td>\n",
       "      <td>1.000000</td>\n",
       "      <td>7</td>\n",
       "      <td>234</td>\n",
       "      <td>0.011438</td>\n",
       "      <td>0.029046</td>\n",
       "      <td>0</td>\n",
       "      <td>80</td>\n",
       "      <td>154</td>\n",
       "      <td>7</td>\n",
       "      <td>87</td>\n",
       "      <td>154</td>\n",
       "      <td>241</td>\n",
       "      <td>14304</td>\n",
       "      <td>0.360996</td>\n",
       "      <td>0.014989</td>\n",
       "      <td>0.662825</td>\n",
       "      <td>1.051802</td>\n",
       "      <td>0.000000</td>\n",
       "      <td>1.005705</td>\n",
       "      <td>0.000000</td>\n",
       "      <td>1.037403</td>\n",
       "      <td>0.708191</td>\n",
       "      <td>1.003420</td>\n",
       "      <td>0.997062</td>\n",
       "      <td>Caucasian</td>\n",
       "      <td>Caucasian</td>\n",
       "      <td>Caucasian</td>\n",
       "      <td>Caucasian</td>\n",
       "      <td>Caucasian</td>\n",
       "      <td>Caucasian</td>\n",
       "      <td>Caucasian</td>\n",
       "      <td>Caucasian</td>\n",
       "      <td>Caucasian</td>\n",
       "      <td>Caucasian</td>\n",
       "      <td>False</td>\n",
       "      <td>False</td>\n",
       "      <td>False</td>\n",
       "      <td>False</td>\n",
       "      <td>True</td>\n",
       "      <td>True</td>\n",
       "      <td>False</td>\n",
       "      <td>True</td>\n",
       "      <td>True</td>\n",
       "      <td>True</td>\n",
       "      <td>False</td>\n",
       "      <td>True</td>\n",
       "      <td>False</td>\n",
       "      <td>False</td>\n",
       "      <td>False</td>\n",
       "    </tr>\n",
       "    <tr>\n",
       "      <th>6</th>\n",
       "      <td>0</td>\n",
       "      <td>binary 0/1</td>\n",
       "      <td>612</td>\n",
       "      <td>gender</td>\n",
       "      <td>Female</td>\n",
       "      <td>0.104881</td>\n",
       "      <td>0.995738</td>\n",
       "      <td>0.356247</td>\n",
       "      <td>0.061920</td>\n",
       "      <td>0.004262</td>\n",
       "      <td>0.895119</td>\n",
       "      <td>0.643753</td>\n",
       "      <td>0.938080</td>\n",
       "      <td>323</td>\n",
       "      <td>7259</td>\n",
       "      <td>0.527778</td>\n",
       "      <td>0.042601</td>\n",
       "      <td>20</td>\n",
       "      <td>2586</td>\n",
       "      <td>4673</td>\n",
       "      <td>303</td>\n",
       "      <td>2889</td>\n",
       "      <td>4693</td>\n",
       "      <td>7582</td>\n",
       "      <td>14304</td>\n",
       "      <td>0.381034</td>\n",
       "      <td>1.117647</td>\n",
       "      <td>0.990729</td>\n",
       "      <td>0.971703</td>\n",
       "      <td>1.789474</td>\n",
       "      <td>1.100568</td>\n",
       "      <td>1.858087</td>\n",
       "      <td>1.015071</td>\n",
       "      <td>0.887538</td>\n",
       "      <td>0.998027</td>\n",
       "      <td>0.951866</td>\n",
       "      <td>Male</td>\n",
       "      <td>Male</td>\n",
       "      <td>Male</td>\n",
       "      <td>Male</td>\n",
       "      <td>Male</td>\n",
       "      <td>Male</td>\n",
       "      <td>Male</td>\n",
       "      <td>Male</td>\n",
       "      <td>Male</td>\n",
       "      <td>Male</td>\n",
       "      <td>True</td>\n",
       "      <td>True</td>\n",
       "      <td>False</td>\n",
       "      <td>False</td>\n",
       "      <td>True</td>\n",
       "      <td>True</td>\n",
       "      <td>True</td>\n",
       "      <td>True</td>\n",
       "      <td>True</td>\n",
       "      <td>True</td>\n",
       "      <td>False</td>\n",
       "      <td>True</td>\n",
       "      <td>False</td>\n",
       "      <td>True</td>\n",
       "      <td>False</td>\n",
       "    </tr>\n",
       "    <tr>\n",
       "      <th>7</th>\n",
       "      <td>0</td>\n",
       "      <td>binary 0/1</td>\n",
       "      <td>612</td>\n",
       "      <td>gender</td>\n",
       "      <td>Male</td>\n",
       "      <td>0.118170</td>\n",
       "      <td>0.997706</td>\n",
       "      <td>0.323694</td>\n",
       "      <td>0.034602</td>\n",
       "      <td>0.002294</td>\n",
       "      <td>0.881830</td>\n",
       "      <td>0.676306</td>\n",
       "      <td>0.965398</td>\n",
       "      <td>289</td>\n",
       "      <td>6432</td>\n",
       "      <td>0.472222</td>\n",
       "      <td>0.043000</td>\n",
       "      <td>10</td>\n",
       "      <td>2082</td>\n",
       "      <td>4350</td>\n",
       "      <td>279</td>\n",
       "      <td>2361</td>\n",
       "      <td>4360</td>\n",
       "      <td>6721</td>\n",
       "      <td>14304</td>\n",
       "      <td>0.351287</td>\n",
       "      <td>1.000000</td>\n",
       "      <td>1.000000</td>\n",
       "      <td>1.000000</td>\n",
       "      <td>1.000000</td>\n",
       "      <td>1.000000</td>\n",
       "      <td>1.000000</td>\n",
       "      <td>1.000000</td>\n",
       "      <td>1.000000</td>\n",
       "      <td>1.000000</td>\n",
       "      <td>1.000000</td>\n",
       "      <td>Male</td>\n",
       "      <td>Male</td>\n",
       "      <td>Male</td>\n",
       "      <td>Male</td>\n",
       "      <td>Male</td>\n",
       "      <td>Male</td>\n",
       "      <td>Male</td>\n",
       "      <td>Male</td>\n",
       "      <td>Male</td>\n",
       "      <td>Male</td>\n",
       "      <td>True</td>\n",
       "      <td>True</td>\n",
       "      <td>True</td>\n",
       "      <td>True</td>\n",
       "      <td>True</td>\n",
       "      <td>True</td>\n",
       "      <td>True</td>\n",
       "      <td>True</td>\n",
       "      <td>True</td>\n",
       "      <td>True</td>\n",
       "      <td>True</td>\n",
       "      <td>True</td>\n",
       "      <td>True</td>\n",
       "      <td>True</td>\n",
       "      <td>True</td>\n",
       "    </tr>\n",
       "    <tr>\n",
       "      <th>8</th>\n",
       "      <td>0</td>\n",
       "      <td>binary 0/1</td>\n",
       "      <td>612</td>\n",
       "      <td>gender</td>\n",
       "      <td>Unknown/Invalid</td>\n",
       "      <td>0.000000</td>\n",
       "      <td>-1.000000</td>\n",
       "      <td>1.000000</td>\n",
       "      <td>-1.000000</td>\n",
       "      <td>-1.000000</td>\n",
       "      <td>1.000000</td>\n",
       "      <td>0.000000</td>\n",
       "      <td>-1.000000</td>\n",
       "      <td>0</td>\n",
       "      <td>1</td>\n",
       "      <td>0.000000</td>\n",
       "      <td>0.000000</td>\n",
       "      <td>0</td>\n",
       "      <td>1</td>\n",
       "      <td>0</td>\n",
       "      <td>0</td>\n",
       "      <td>1</td>\n",
       "      <td>0</td>\n",
       "      <td>1</td>\n",
       "      <td>14304</td>\n",
       "      <td>1.000000</td>\n",
       "      <td>0.000000</td>\n",
       "      <td>0.000000</td>\n",
       "      <td>-1.035842</td>\n",
       "      <td>-28.900000</td>\n",
       "      <td>3.089337</td>\n",
       "      <td>-436.000000</td>\n",
       "      <td>1.134006</td>\n",
       "      <td>0.000000</td>\n",
       "      <td>-1.002299</td>\n",
       "      <td>0.000000</td>\n",
       "      <td>Male</td>\n",
       "      <td>Male</td>\n",
       "      <td>Male</td>\n",
       "      <td>Male</td>\n",
       "      <td>Male</td>\n",
       "      <td>Male</td>\n",
       "      <td>Male</td>\n",
       "      <td>Male</td>\n",
       "      <td>Male</td>\n",
       "      <td>Male</td>\n",
       "      <td>False</td>\n",
       "      <td>False</td>\n",
       "      <td>False</td>\n",
       "      <td>False</td>\n",
       "      <td>False</td>\n",
       "      <td>True</td>\n",
       "      <td>False</td>\n",
       "      <td>False</td>\n",
       "      <td>False</td>\n",
       "      <td>False</td>\n",
       "      <td>False</td>\n",
       "      <td>False</td>\n",
       "      <td>False</td>\n",
       "      <td>False</td>\n",
       "      <td>False</td>\n",
       "    </tr>\n",
       "  </tbody>\n",
       "</table>\n",
       "</div>"
      ],
      "text/plain": [
       "   model_id score_threshold    k attribute_name  attribute_value       tpr  \\\n",
       "0         0      binary 0/1  612           race                ?  0.123288   \n",
       "1         0      binary 0/1  612           race  AfricanAmerican  0.109295   \n",
       "2         0      binary 0/1  612           race            Asian  0.066667   \n",
       "3         0      binary 0/1  612           race        Caucasian  0.113613   \n",
       "4         0      binary 0/1  612           race         Hispanic  0.039604   \n",
       "5         0      binary 0/1  612           race            Other  0.080460   \n",
       "6         0      binary 0/1  612         gender           Female  0.104881   \n",
       "7         0      binary 0/1  612         gender             Male  0.118170   \n",
       "8         0      binary 0/1  612         gender  Unknown/Invalid  0.000000   \n",
       "\n",
       "        tnr       for       fdr       fpr       fnr       npv  precision   pp  \\\n",
       "0  1.000000  0.363636  0.000000  0.000000  0.876712  0.636364   1.000000   18   \n",
       "1  0.996364  0.346582  0.053097  0.003636  0.890705  0.653418   0.946903  113   \n",
       "2  0.986301  0.280000  0.333333  0.013699  0.933333  0.720000   0.666667    3   \n",
       "3  0.996592  0.339941  0.049251  0.003408  0.886387  0.660059   0.950749  467   \n",
       "4  1.000000  0.323333  0.000000  0.000000  0.960396  0.676667   1.000000    4   \n",
       "5  1.000000  0.341880  0.000000  0.000000  0.919540  0.658120   1.000000    7   \n",
       "6  0.995738  0.356247  0.061920  0.004262  0.895119  0.643753   0.938080  323   \n",
       "7  0.997706  0.323694  0.034602  0.002294  0.881830  0.676306   0.965398  289   \n",
       "8 -1.000000  1.000000 -1.000000 -1.000000  1.000000  0.000000  -1.000000    0   \n",
       "\n",
       "      pn       ppr     pprev  fp    fn    tn   tp  group_label_pos  \\\n",
       "0    352  0.029412  0.048649   0   128   224   18              146   \n",
       "1   2516  0.184641  0.042982   6   872  1644  107              979   \n",
       "2    100  0.004902  0.029126   1    28    72    2               30   \n",
       "3  10190  0.763072  0.043821  23  3464  6726  444             3908   \n",
       "4    300  0.006536  0.013158   0    97   203    4              101   \n",
       "5    234  0.011438  0.029046   0    80   154    7               87   \n",
       "6   7259  0.527778  0.042601  20  2586  4673  303             2889   \n",
       "7   6432  0.472222  0.043000  10  2082  4350  279             2361   \n",
       "8      1  0.000000  0.000000   0     1     0    0                1   \n",
       "\n",
       "   group_label_neg  group_size  total_entities      prev  ppr_disparity  \\\n",
       "0              224         370           14304  0.394595       0.038544   \n",
       "1             1650        2629           14304  0.372385       0.241970   \n",
       "2               73         103           14304  0.291262       0.006424   \n",
       "3             6749       10657           14304  0.366707       1.000000   \n",
       "4              203         304           14304  0.332237       0.008565   \n",
       "5              154         241           14304  0.360996       0.014989   \n",
       "6             4693        7582           14304  0.381034       1.117647   \n",
       "7             4360        6721           14304  0.351287       1.000000   \n",
       "8                0           1           14304  1.000000       0.000000   \n",
       "\n",
       "   pprev_disparity  precision_disparity  fdr_disparity  for_disparity  \\\n",
       "0         1.110168             1.051802       0.000000       1.069704   \n",
       "1         0.980858             0.995954       1.078107       1.019535   \n",
       "2         0.664664             0.701201       6.768116       0.823672   \n",
       "3         1.000000             1.000000       1.000000       1.000000   \n",
       "4         0.300265             1.051802       0.000000       0.951145   \n",
       "5         0.662825             1.051802       0.000000       1.005705   \n",
       "6         0.990729             0.971703       1.789474       1.100568   \n",
       "7         1.000000             1.000000       1.000000       1.000000   \n",
       "8         0.000000            -1.035842     -28.900000       3.089337   \n",
       "\n",
       "   fpr_disparity  fnr_disparity  tpr_disparity  tnr_disparity  npv_disparity  \\\n",
       "0       0.000000       0.989085       1.085154       1.003420       0.964101   \n",
       "1       1.067036       1.004871       0.961995       0.999771       0.989939   \n",
       "2       4.019655       1.052964       0.586787       0.989674       1.090812   \n",
       "3       1.000000       1.000000       1.000000       1.000000       1.000000   \n",
       "4       0.000000       1.083495       0.348586       1.003420       1.025161   \n",
       "5       0.000000       1.037403       0.708191       1.003420       0.997062   \n",
       "6       1.858087       1.015071       0.887538       0.998027       0.951866   \n",
       "7       1.000000       1.000000       1.000000       1.000000       1.000000   \n",
       "8    -436.000000       1.134006       0.000000      -1.002299       0.000000   \n",
       "\n",
       "  ppr_ref_group_value pprev_ref_group_value precision_ref_group_value  \\\n",
       "0           Caucasian             Caucasian                 Caucasian   \n",
       "1           Caucasian             Caucasian                 Caucasian   \n",
       "2           Caucasian             Caucasian                 Caucasian   \n",
       "3           Caucasian             Caucasian                 Caucasian   \n",
       "4           Caucasian             Caucasian                 Caucasian   \n",
       "5           Caucasian             Caucasian                 Caucasian   \n",
       "6                Male                  Male                      Male   \n",
       "7                Male                  Male                      Male   \n",
       "8                Male                  Male                      Male   \n",
       "\n",
       "  fdr_ref_group_value for_ref_group_value fpr_ref_group_value  \\\n",
       "0           Caucasian           Caucasian           Caucasian   \n",
       "1           Caucasian           Caucasian           Caucasian   \n",
       "2           Caucasian           Caucasian           Caucasian   \n",
       "3           Caucasian           Caucasian           Caucasian   \n",
       "4           Caucasian           Caucasian           Caucasian   \n",
       "5           Caucasian           Caucasian           Caucasian   \n",
       "6                Male                Male                Male   \n",
       "7                Male                Male                Male   \n",
       "8                Male                Male                Male   \n",
       "\n",
       "  fnr_ref_group_value tpr_ref_group_value tnr_ref_group_value  \\\n",
       "0           Caucasian           Caucasian           Caucasian   \n",
       "1           Caucasian           Caucasian           Caucasian   \n",
       "2           Caucasian           Caucasian           Caucasian   \n",
       "3           Caucasian           Caucasian           Caucasian   \n",
       "4           Caucasian           Caucasian           Caucasian   \n",
       "5           Caucasian           Caucasian           Caucasian   \n",
       "6                Male                Male                Male   \n",
       "7                Male                Male                Male   \n",
       "8                Male                Male                Male   \n",
       "\n",
       "  npv_ref_group_value  Statistical Parity  Impact Parity  FDR Parity  \\\n",
       "0           Caucasian               False           True       False   \n",
       "1           Caucasian               False           True        True   \n",
       "2           Caucasian               False          False       False   \n",
       "3           Caucasian                True           True        True   \n",
       "4           Caucasian               False          False       False   \n",
       "5           Caucasian               False          False       False   \n",
       "6                Male                True           True       False   \n",
       "7                Male                True           True        True   \n",
       "8                Male               False          False       False   \n",
       "\n",
       "   FPR Parity  FOR Parity  FNR Parity  TPR Parity  TNR Parity  NPV Parity  \\\n",
       "0       False        True        True        True        True        True   \n",
       "1        True        True        True        True        True        True   \n",
       "2       False        True        True       False        True        True   \n",
       "3        True        True        True        True        True        True   \n",
       "4       False        True        True       False        True        True   \n",
       "5       False        True        True       False        True        True   \n",
       "6       False        True        True        True        True        True   \n",
       "7        True        True        True        True        True        True   \n",
       "8       False       False        True       False       False       False   \n",
       "\n",
       "   Precision Parity  TypeI Parity  TypeII Parity  Equalized Odds  \\\n",
       "0              True         False           True           False   \n",
       "1              True          True           True            True   \n",
       "2             False         False           True           False   \n",
       "3              True          True           True            True   \n",
       "4              True         False           True           False   \n",
       "5              True         False           True           False   \n",
       "6              True         False           True           False   \n",
       "7              True          True           True            True   \n",
       "8             False         False          False           False   \n",
       "\n",
       "   Unsupervised Fairness  Supervised Fairness  \n",
       "0                  False                False  \n",
       "1                  False                 True  \n",
       "2                  False                False  \n",
       "3                   True                 True  \n",
       "4                  False                False  \n",
       "5                  False                False  \n",
       "6                   True                False  \n",
       "7                   True                 True  \n",
       "8                  False                False  "
      ]
     },
     "execution_count": 167,
     "metadata": {},
     "output_type": "execute_result"
    }
   ],
   "source": [
    "fdf"
   ]
  },
  {
   "cell_type": "markdown",
   "metadata": {},
   "source": [
    "## Race and Gender Bias Analysis for Patient Selection"
   ]
  },
  {
   "cell_type": "markdown",
   "metadata": {},
   "source": [
    "**Question 12**: For the gender and race fields, please plot two metrics that are important for patient selection below and state whether there is a significant bias in your model across any of the groups along with justification for your statement."
   ]
  },
  {
   "cell_type": "markdown",
   "metadata": {},
   "source": [
    "**Answer:** Two main metrics for the patient selection are a) what fraction of unsuitable patient would have been included in the study (1 - precision) and b) what fraction of suitable patients is excluded (false negative rate). With the current model there seems to be a bias for the precision regarding the asian group, which show a much lower precision that the other groups (note that this might partially be caused by small sample size). For b) there are slight difference among race and gender groups but they do not seem to be a significant bias according to Aequitas."
   ]
  },
  {
   "cell_type": "code",
   "execution_count": 168,
   "metadata": {
    "scrolled": false
   },
   "outputs": [
    {
     "data": {
      "text/plain": [
       "<AxesSubplot:title={'center':'PRECISION (Model 0)'}, xlabel='Absolute Metric Magnitude'>"
      ]
     },
     "execution_count": 168,
     "metadata": {},
     "output_type": "execute_result"
    },
    {
     "data": {
      "image/png": "[encoded data removed]",
      "text/plain": [
       "<Figure size 720x360 with 1 Axes>"
      ]
     },
     "metadata": {
      "needs_background": "light"
     },
     "output_type": "display_data"
    }
   ],
   "source": [
    "# how many would be falsly added to the experiment => equally low for all, does not seeom to show bias \n",
    "aqp.plot_group_metric(bdf, 'precision', min_group_size=0.01)"
   ]
  },
  {
   "cell_type": "code",
   "execution_count": 169,
   "metadata": {},
   "outputs": [
    {
     "data": {
      "text/plain": [
       "<AxesSubplot:title={'center':'PRECISION'}, xlabel='Absolute Metric Magnitude'>"
      ]
     },
     "execution_count": 169,
     "metadata": {},
     "output_type": "execute_result"
    },
    {
     "data": {
      "image/png": "[encoded data removed]",
      "text/plain": [
       "<Figure size 720x360 with 1 Axes>"
      ]
     },
     "metadata": {
      "needs_background": "light"
     },
     "output_type": "display_data"
    }
   ],
   "source": [
    "aqp.plot_fairness_group(fdf, group_metric='precision', title=True)"
   ]
  },
  {
   "cell_type": "code",
   "execution_count": 170,
   "metadata": {},
   "outputs": [
    {
     "data": {
      "text/plain": [
       "<AxesSubplot:title={'center':'FNR (Model 0)'}, xlabel='Absolute Metric Magnitude'>"
      ]
     },
     "execution_count": 170,
     "metadata": {},
     "output_type": "execute_result"
    },
    {
     "data": {
      "image/png": "[encoded data removed]",
      "text/plain": [
       "<Figure size 720x360 with 1 Axes>"
      ]
     },
     "metadata": {
      "needs_background": "light"
     },
     "output_type": "display_data"
    }
   ],
   "source": [
    "aqp.plot_group_metric(bdf, 'fnr', min_group_size=0.01)"
   ]
  },
  {
   "cell_type": "code",
   "execution_count": 171,
   "metadata": {},
   "outputs": [
    {
     "data": {
      "text/plain": [
       "<AxesSubplot:title={'center':'FNR'}, xlabel='Absolute Metric Magnitude'>"
      ]
     },
     "execution_count": 171,
     "metadata": {},
     "output_type": "execute_result"
    },
    {
     "data": {
      "image/png": "[encoded data removed]",
      "text/plain": [
       "<Figure size 720x360 with 1 Axes>"
      ]
     },
     "metadata": {
      "needs_background": "light"
     },
     "output_type": "display_data"
    }
   ],
   "source": [
    "aqp.plot_fairness_group(fdf, group_metric='fnr', title=True)"
   ]
  },
  {
   "cell_type": "markdown",
   "metadata": {},
   "source": [
    "## Fairness Analysis Example - Relative to a Reference Group "
   ]
  },
  {
   "cell_type": "markdown",
   "metadata": {},
   "source": [
    "**Question 13**: Earlier we defined our reference group and then calculated disparity metrics relative to this grouping. Please provide a visualization of the fairness evaluation for this reference group and analyze whether there is disparity."
   ]
  },
  {
   "cell_type": "markdown",
   "metadata": {},
   "source": [
    "**Answer:** No, there seems to be no unfair disparity with respect to the reference group. "
   ]
  },
  {
   "cell_type": "code",
   "execution_count": 172,
   "metadata": {},
   "outputs": [
    {
     "data": {
      "image/png": "[encoded data removed]",
      "text/plain": [
       "<Figure size 720x360 with 1 Axes>"
      ]
     },
     "metadata": {
      "needs_background": "light"
     },
     "output_type": "display_data"
    }
   ],
   "source": [
    "fpr_fairness = aqp.plot_fairness_group(fdf, group_metric='fnr_disparity', title=True)\n"
   ]
  },
  {
   "cell_type": "code",
   "execution_count": null,
   "metadata": {},
   "outputs": [],
   "source": []
  }
 ],
 "metadata": {
  "kernelspec": {
   "display_name": "Python 3",
   "language": "python",
   "name": "python3"
  },
  "language_info": {
   "codemirror_mode": {
    "name": "ipython",
    "version": 3
   },
   "file_extension": ".py",
   "mimetype": "text/x-python",
   "name": "python",
   "nbconvert_exporter": "python",
   "pygments_lexer": "ipython3",
   "version": "3.7.9"
  }
 },
 "nbformat": 4,
 "nbformat_minor": 2
}
